{
 "cells": [
  {
   "cell_type": "code",
   "execution_count": 1,
   "metadata": {},
   "outputs": [],
   "source": [
    "import os\n",
    "import sys\n",
    "import yaml\n",
    "\n",
    "import numpy as np"
   ]
  },
  {
   "cell_type": "code",
   "execution_count": null,
   "metadata": {},
   "outputs": [],
   "source": [
    "def read_config(config_file):\n",
    "        '''\n",
    "        Creates configuration variables from file\n",
    "        ------\n",
    "        config_file: .yaml file\n",
    "            file containing dictionary with dataset creation information\n",
    "        ''' \n",
    "    \n",
    "        class AttrDict(dict):\n",
    "            \"\"\"\n",
    "            This class is used to make it easier to work with dictionaries and allows \n",
    "            values to be called similar to attributes\n",
    "            \"\"\"\n",
    "            def __init__(self, *args, **kwargs):\n",
    "                super(AttrDict, self).__init__(*args, **kwargs)\n",
    "                self.__dict__ = self\n",
    "                    \n",
    "        cwd = os.path.join(os.getcwd(), 'runs', self.runid)\n",
    "                    \n",
    "        with open(os.path.join(cwd, config_file)) as f:\n",
    "            cfg = yaml.safe_load(f)\n",
    "            \n",
    "        config = AttrDict(cfg)\n",
    "                \n",
    "        for key in cfg:\n",
    "            config[key] = AttrDict(cfg[key])\n",
    "               \n",
    "        return config"
   ]
  },
  {
   "cell_type": "code",
   "execution_count": null,
   "metadata": {},
   "outputs": [],
   "source": [
    "base_runid = ...\n",
    "\n",
    "config_path = os.path.join(os.getcwd(), base_runid, \"config.yaml\")\n",
    "\n",
    "base_config = read_config(base_runid)\n",
    "\n",
    "variables = [\n",
    "\n",
    "]"
   ]
  }
 ],
 "metadata": {
  "kernelspec": {
   "display_name": "thesis",
   "language": "python",
   "name": "python3"
  },
  "language_info": {
   "codemirror_mode": {
    "name": "ipython",
    "version": 3
   },
   "file_extension": ".py",
   "mimetype": "text/x-python",
   "name": "python",
   "nbconvert_exporter": "python",
   "pygments_lexer": "ipython3",
   "version": "3.12.6"
  }
 },
 "nbformat": 4,
 "nbformat_minor": 2
}
