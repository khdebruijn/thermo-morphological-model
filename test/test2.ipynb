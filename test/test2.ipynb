{
 "cells": [
  {
   "cell_type": "code",
   "execution_count": 1,
   "metadata": {},
   "outputs": [],
   "source": [
    "import os\n",
    "from pathlib import Path\n",
    "\n",
    "import numpy as np\n",
    "import matplotlib.pyplot as plt"
   ]
  },
  {
   "cell_type": "code",
   "execution_count": 2,
   "metadata": {},
   "outputs": [],
   "source": [
    "#initialize\n",
    "xgr = np.linspace(0, 49, 100)\n",
    "zgr = -np.sqrt(xgr)\n",
    "\n",
    "resolution = 30\n",
    "max_depth = 3\n",
    "\n",
    "temp_depth_grid = np.linspace(0, max_depth, resolution)\n",
    "initial_temp = np.linspace(-5, 5, resolution)\n",
    "\n",
    "thermal_matrix = np.zeros((xgr.shape[0], temp_depth_grid.shape[0]))\n",
    "\n",
    "for i in range(len(thermal_matrix)):\n",
    "    thermal_matrix[i,:] = initial_temp\n",
    "    \n",
    "gradient = np.gradient(zgr, xgr)\n",
    "\n",
    "orientation = np.arctan(gradient) - 0.5 * np.pi\n",
    "    \n",
    "abs_x1 = np.tile(xgr, (len(temp_depth_grid), 1)).T + np.outer(np.cos(orientation), temp_depth_grid)\n",
    "abs_z2 = np.tile(zgr, (len(temp_depth_grid), 1)).T + np.outer(np.sin(orientation), temp_depth_grid)"
   ]
  },
  {
   "cell_type": "code",
   "execution_count": 3,
   "metadata": {},
   "outputs": [],
   "source": [
    "# apply boundary conditions\n",
    "# ghost_nodes_temp = thermal_matrix[:,0]\n",
    "\n",
    "# frozen_mask = (thermal_matrix[:,0]  self.config.thermal.T_melt)\n",
    "# unfrozen_mask = np.ones(frozen_mask.shape) - frozen_mask\n",
    "\n",
    "# print(ghost_nodes_temp.shape)\n",
    "# print(ghost_nodes_temp)\n",
    "\n",
    "# ghost_nodes_enth = frozen_mask * ghost_nodes_temp * self.config.thermal.c_frozen_soil + unfrozen_mask * ghost_nodes_temp * self.config.thermal.c_unfrozen_soil +"
   ]
  },
  {
   "cell_type": "code",
   "execution_count": 4,
   "metadata": {},
   "outputs": [],
   "source": [
    "x = np.ones((3, 3))\n",
    "y = np.zeros(3)"
   ]
  },
  {
   "cell_type": "code",
   "execution_count": 5,
   "metadata": {},
   "outputs": [
    {
     "data": {
      "text/plain": [
       "array([[0., 1., 1., 1.],\n",
       "       [0., 1., 1., 1.],\n",
       "       [0., 1., 1., 1.]])"
      ]
     },
     "execution_count": 5,
     "metadata": {},
     "output_type": "execute_result"
    }
   ],
   "source": [
    "np.column_stack((y, x))"
   ]
  },
  {
   "cell_type": "code",
   "execution_count": 6,
   "metadata": {},
   "outputs": [],
   "source": [
    "import numpy as np\n",
    "from scipy.spatial import ConvexHull\n",
    "\n",
    "# Example 2D points\n",
    "points = np.array([[0, 0],\n",
    "                   [1, 2],\n",
    "                   [2, 1],\n",
    "                   [3, 4],\n",
    "                   [4, 3],\n",
    "                   [5, 1],\n",
    "                   [6, 0]])\n",
    "\n",
    "# Compute convex hull\n",
    "hull = ConvexHull(points)\n",
    "\n",
    "# # Extract top boundary vertices\n",
    "# top_boundary_vertices = []\n",
    "# for edge in hull.vertices:\n",
    "#     if np.all(points[edge, 1] == np.max(points[hull.vertices, 1])):\n",
    "#         top_boundary_vertices.append(edge)\n",
    "\n",
    "# # Sort the top boundary vertices based on x-coordinate\n",
    "# top_boundary_vertices = sorted(top_boundary_vertices, key=lambda x: points[x, 0])\n",
    "\n",
    "# # Generate coordinates along the top boundary\n",
    "# num_points = 10\n",
    "# top_boundary_coordinates = []\n",
    "# for i in range(len(top_boundary_vertices) - 1):\n",
    "#     x0, y0 = points[top_boundary_vertices[i]]\n",
    "#     x1, y1 = points[top_boundary_vertices[i + 1]]\n",
    "#     xs = np.linspace(x0, x1, num_points, endpoint=False)\n",
    "#     ys = np.linspace(y0, y1, num_points, endpoint=False)\n",
    "#     top_boundary_coordinates.extend(zip(xs, ys))\n",
    "\n",
    "# # Add the last vertex\n",
    "# x_last, y_last = points[top_boundary_vertices[-1]]\n",
    "# top_boundary_coordinates.append((x_last, y_last))\n",
    "\n",
    "# # Convert to numpy array\n",
    "# top_boundary_coordinates = np.array(top_boundary_coordinates)\n",
    "\n",
    "# print(top_boundary_coordinates)"
   ]
  },
  {
   "cell_type": "code",
   "execution_count": 7,
   "metadata": {},
   "outputs": [
    {
     "data": {
      "text/plain": [
       "<matplotlib.collections.PathCollection at 0x1ed46f27560>"
      ]
     },
     "execution_count": 7,
     "metadata": {},
     "output_type": "execute_result"
    },
    {
     "data": {
      "image/png": "[encoded data removed]",
      "text/plain": [
       "<Figure size 1500x500 with 1 Axes>"
      ]
     },
     "metadata": {},
     "output_type": "display_data"
    }
   ],
   "source": [
    "fig, ax = plt.subplots(figsize=(15, 5))\n",
    "\n",
    "ax.scatter(points[:,0], points[:,1])"
   ]
  },
  {
   "cell_type": "code",
   "execution_count": 8,
   "metadata": {},
   "outputs": [],
   "source": [
    "# top_boundary_vertices = np.unique(hull.simplices[np.isin(hull.simplices, hull.vertices[hull.vertices[:, 1] == np.max(points[hull.vertices, 1])])])\n",
    "import math"
   ]
  },
  {
   "cell_type": "code",
   "execution_count": 9,
   "metadata": {},
   "outputs": [
    {
     "name": "stdout",
     "output_type": "stream",
     "text": [
      "-135.0\n"
     ]
    }
   ],
   "source": [
    "u = -5\n",
    "v = -5\n",
    "angle = math.atan2(u, v)\n",
    "\n",
    "print(angle / (2*np.pi) * 360)"
   ]
  },
  {
   "cell_type": "code",
   "execution_count": 10,
   "metadata": {},
   "outputs": [
    {
     "name": "stdout",
     "output_type": "stream",
     "text": [
      "[[ 0  1  2  3  4]\n",
      " [ 5  6  7  8  9]\n",
      " [10 11 12 13 14]\n",
      " [15 16 17 18 19]\n",
      " [20 21 22 23 24]]\n",
      "[ 1  0  2  4 -1]\n",
      "[ 1  5 12 19 24]\n"
     ]
    }
   ],
   "source": [
    "def count_nonzero_until_zero(matrix):\n",
    "    \"\"\"Returns the number of grid points with a nonzero input, counted for each row from the lowest index until the first zero input.\n",
    "\n",
    "    Args:\n",
    "        matrix (np.array): a matrix\n",
    "\n",
    "    Returns:\n",
    "        result: number of grid points for each row before a zero input.\n",
    "    \"\"\"\n",
    "    \n",
    "    matrix = np.column_stack((matrix, np.zeros(matrix.shape[0])))\n",
    "    \n",
    "    indices = np.argmax(matrix == 0, axis=1)\n",
    "    \n",
    "    mask = (indices == matrix.shape[1]-1)\n",
    "    \n",
    "    indices[mask] = -1\n",
    "    \n",
    "    return indices\n",
    "\n",
    "\n",
    "matrix = np.array([\n",
    "    [1, 0, 1, 0, 0],\n",
    "    [0, 1, 0, 1, 0],\n",
    "    [1, 1, 0, 1, 0],\n",
    "    [1, 1, 1, 1, 0],\n",
    "    [1, 1, 1, 1, 1],\n",
    "    ])\n",
    "\n",
    "coords = np.arange(25).reshape((5, 5))\n",
    "\n",
    "print(coords)\n",
    "\n",
    "indices = count_nonzero_until_zero(matrix)\n",
    "\n",
    "print(indices)\n",
    "\n",
    "mask = (np.arange(len(indices)), indices)\n",
    "\n",
    "print(coords[mask])\n",
    "\n"
   ]
  },
  {
   "cell_type": "code",
   "execution_count": 11,
   "metadata": {},
   "outputs": [
    {
     "name": "stdout",
     "output_type": "stream",
     "text": [
      "Interpolated y value for x = 2.5 is 2.5\n"
     ]
    }
   ],
   "source": [
    "from shapely.geometry import LineString\n",
    "\n",
    "# Example LineString made up of x and y points\n",
    "linestring = LineString([(0, 0), (1, 1), (2, 3), (3, 2)])\n",
    "\n",
    "# Function to interpolate the y value for a given x value\n",
    "def interpolate_y(linestring, x_value):\n",
    "    # Check if the x_value is within the bounds of the LineString\n",
    "    if x_value < linestring.xy[0][0] or x_value > linestring.xy[0][-1]:\n",
    "        raise ValueError(\"x_value is outside the bounds of the LineString\")\n",
    "    \n",
    "    # Find the index of the closest point on the LineString to the given x_value\n",
    "    closest_index = min(range(len(linestring.coords)), key=lambda i: abs(linestring.coords[i][0] - x_value))\n",
    "    \n",
    "    # If the closest point is the last point, return the y value of that point\n",
    "    if closest_index == len(linestring.coords) - 1:\n",
    "        return linestring.coords[closest_index][1]\n",
    "    \n",
    "    # Interpolate the y value using linear interpolation\n",
    "    x1, y1 = linestring.coords[closest_index]\n",
    "    x2, y2 = linestring.coords[closest_index + 1]\n",
    "    interpolated_y = y1 + (y2 - y1) * (x_value - x1) / (x2 - x1)\n",
    "    \n",
    "    return interpolated_y\n",
    "\n",
    "# Example new x value\n",
    "new_x_value = 2.5\n",
    "\n",
    "# Interpolate the y value for the new x value\n",
    "interpolated_y = interpolate_y(linestring, new_x_value)\n",
    "\n",
    "print(\"Interpolated y value for x =\", new_x_value, \"is\", interpolated_y)"
   ]
  },
  {
   "cell_type": "code",
   "execution_count": 12,
   "metadata": {},
   "outputs": [
    {
     "data": {
      "text/plain": [
       "array([[0, 0],\n",
       "       [1, 1],\n",
       "       [2, 2],\n",
       "       [3, 3],\n",
       "       [4, 4]])"
      ]
     },
     "execution_count": 12,
     "metadata": {},
     "output_type": "execute_result"
    }
   ],
   "source": [
    "x = np.arange(5)\n",
    "y = np.arange(5)\n",
    "\n",
    "np.array((x, y)).T"
   ]
  },
  {
   "cell_type": "code",
   "execution_count": 13,
   "metadata": {},
   "outputs": [],
   "source": [
    "# from shapely.geometry import Point, LineString\n",
    "\n",
    "# def project_point_to_linestring(point, linestring):\n",
    "#     # Get the coordinates of the given point\n",
    "#     x, y = point.coords[0]\n",
    "    \n",
    "#     # Get the coordinates of the line segment endpoints\n",
    "#     (x1, y1), (x2, y2) = linestring.coords\n",
    "    \n",
    "#     # Calculate the slope of the line segment\n",
    "#     m = (y2 - y1) / (x2 - x1)\n",
    "    \n",
    "#     # Calculate the equation of the line perpendicular to the segment passing through the point\n",
    "#     m_perpendicular = -1 / m if m != 0 else float('inf')  # Avoid division by zero\n",
    "#     c_perpendicular = y - m_perpendicular * x\n",
    "    \n",
    "#     # Calculate the intersection point of the perpendicular line with the line segment\n",
    "#     x_intersect = (c_perpendicular - m * x1 + y1) / (m - m_perpendicular)\n",
    "#     y_intersect = m_perpendicular * x_intersect + c_perpendicular\n",
    "    \n",
    "#     # Return the coordinates of the intersection point\n",
    "#     return Point(x_intersect, y_intersect)\n",
    "\n",
    "# # Example usage\n",
    "# linestring = LineString([(0, 0), (5, 5), (6, -2)])\n",
    "# point = Point(2, 6)\n",
    "\n",
    "# projected_point = project_point_to_linestring(point, linestring)\n",
    "# print(\"Projected point:\", projected_point)"
   ]
  },
  {
   "cell_type": "code",
   "execution_count": 14,
   "metadata": {},
   "outputs": [],
   "source": [
    "def generate_perpendicular_grids(xgr, zgr, resolution=30, max_depth=3):\n",
    "    \"\"\"This function takes an xgrid and a zgrid, as well as a resolution and maximum depth, and returns a (temperature) grid perpendicular to the existing x and z-grid.\n",
    "    ----------\n",
    "    xgr: array\n",
    "        1D array of x-values\n",
    "    zgr: array\n",
    "        1D array of z-values\n",
    "    resolution: integer (default: 30)\n",
    "        number of desired grid points in the 1D models\n",
    "    max_depth: float (default: 3)\n",
    "        maximum depth to be modelled\n",
    "    ---------Returns----------\n",
    "    Returns: x_matrix, z_matrix\n",
    "    \n",
    "    x_matrix: array\n",
    "        2D array of x-values. Each row contains the x-values for a 1D model\n",
    "    z_matrix: array\n",
    "        2D array of z-values. Each row contains the z-values for a 1D model\n",
    "    \"\"\"\n",
    "    temp_depth_grid = np.linspace(0, max_depth, resolution)\n",
    "    initial_temp = np.linspace(-5, 5, resolution)\n",
    "\n",
    "    thermal_matrix = np.zeros((xgr.shape[0], temp_depth_grid.shape[0]))\n",
    "\n",
    "    for i in range(len(thermal_matrix)):\n",
    "        thermal_matrix[i,:] = initial_temp\n",
    "        \n",
    "    gradient = np.gradient(zgr, xgr)\n",
    "\n",
    "    orientation = np.arctan(gradient) - 0.5 * np.pi\n",
    "        \n",
    "    x_matrix = np.tile(xgr, (len(temp_depth_grid), 1)).T + np.outer(np.cos(orientation), temp_depth_grid)\n",
    "    z_matrix = np.tile(zgr, (len(temp_depth_grid), 1)).T + np.outer(np.sin(orientation), temp_depth_grid)\n",
    "    \n",
    "    return x_matrix, z_matrix\n",
    "\n",
    "\n"
   ]
  },
  {
   "cell_type": "code",
   "execution_count": 15,
   "metadata": {},
   "outputs": [
    {
     "name": "stdout",
     "output_type": "stream",
     "text": [
      "c:\\Users\\bruij_kn\\OneDrive - Stichting Deltares\\Documents\\GitHub\\thermo-morphological-model\n"
     ]
    }
   ],
   "source": [
    "os.chdir('..')\n",
    "print(os.getcwd())"
   ]
  },
  {
   "cell_type": "code",
   "execution_count": 16,
   "metadata": {},
   "outputs": [],
   "source": [
    "xgr = np.loadtxt(Path(\"C:/Users/bruij_kn/OneDrive - Stichting Deltares/Documents/GitHub/thermo-morphological-model/database/initial_conditions/bathy_grid.txt\"))\n",
    "zgr = np.loadtxt(Path(\"C:/Users/bruij_kn/OneDrive - Stichting Deltares/Documents/GitHub/thermo-morphological-model/database/initial_conditions/bathy.txt\"))"
   ]
  },
  {
   "cell_type": "code",
   "execution_count": 17,
   "metadata": {},
   "outputs": [],
   "source": [
    "abs_x1, abs_z2 = generate_perpendicular_grids(xgr, zgr)"
   ]
  },
  {
   "cell_type": "code",
   "execution_count": 18,
   "metadata": {},
   "outputs": [
    {
     "data": {
      "text/plain": [
       "(-200.0, 0.0)"
      ]
     },
     "execution_count": 18,
     "metadata": {},
     "output_type": "execute_result"
    },
    {
     "data": {
      "image/png": "[encoded data removed]",
      "text/plain": [
       "<Figure size 2000x500 with 1 Axes>"
      ]
     },
     "metadata": {},
     "output_type": "display_data"
    }
   ],
   "source": [
    "fig, ax = plt.subplots(figsize=(20, 5))\n",
    "\n",
    "ax.plot(xgr, zgr)\n",
    "\n",
    "for x_coords, z_coords in zip(abs_x1, abs_z2):\n",
    "    ax.plot(x_coords, z_coords, color='C1')\n",
    "    \n",
    "ax.set_aspect('equal')\n",
    "ax.set_xlim((-200, -0))"
   ]
  },
  {
   "cell_type": "code",
   "execution_count": 19,
   "metadata": {},
   "outputs": [
    {
     "name": "stdout",
     "output_type": "stream",
     "text": [
      "failed\n"
     ]
    }
   ],
   "source": [
    "try:\n",
    "    float('hello world')\n",
    "except ValueError:\n",
    "    print('failed')"
   ]
  },
  {
   "cell_type": "code",
   "execution_count": 20,
   "metadata": {},
   "outputs": [
    {
     "data": {
      "text/plain": [
       "True"
      ]
     },
     "execution_count": 20,
     "metadata": {},
     "output_type": "execute_result"
    }
   ],
   "source": [
    "f = float(1)\n",
    "i = int(1)\n",
    "\n",
    "f == i"
   ]
  },
  {
   "cell_type": "code",
   "execution_count": 22,
   "metadata": {},
   "outputs": [
    {
     "name": "stdout",
     "output_type": "stream",
     "text": [
      "hello world\n"
     ]
    }
   ],
   "source": [
    "i = 1\n",
    "\n",
    "if i:\n",
    "    print('hello world')"
   ]
  },
  {
   "cell_type": "code",
   "execution_count": 10,
   "metadata": {},
   "outputs": [
    {
     "name": "stdout",
     "output_type": "stream",
     "text": [
      "[ 0.          0.09983004  0.19865265  0.29548086  0.3893477   0.47931589\n",
      "  0.56448716  0.64401124  0.71709432  0.783007    0.84109155  0.89076847\n",
      "  0.93154226  0.96300639  0.9848473   0.9968476   0.99888814  0.99094928\n",
      "  0.973111    0.94555217  0.90854869  0.86247077  0.80777921  0.74502081\n",
      "  0.67482288  0.597887    0.51498198  0.42693622  0.33462939  0.23898368\n",
      "  0.14095459  0.04152136 -0.05832279 -0.15758056 -0.25526057 -0.3503872\n",
      " -0.44201038 -0.52921507 -0.61113035 -0.68693818 -0.7558815  -0.81727184\n",
      " -0.87049617 -0.915023   -0.95040772 -0.97629703 -0.99243244 -0.99865287\n",
      " -0.99489627 -0.98120022 -0.95770154 -0.92463496 -0.88233076 -0.83121146\n",
      " -0.7717876  -0.7046527  -0.63047724 -0.55000205 -0.46403086 -0.37342232\n",
      " -0.27908139 -0.18195031 -0.08299924  0.01678351  0.11640125  0.21485894\n",
      "  0.3111731   0.4043816   0.49355331  0.57779737  0.6562721   0.72819341\n",
      "  0.79284261  0.84957361  0.89781935  0.9370975   0.96701526  0.98727328\n",
      "  0.99766867  0.99809702  0.98855345  0.96913267  0.94002804  0.90152964\n",
      "  0.8540214   0.79797724  0.73395636  0.66259768  0.58461345  0.50078212\n",
      "  0.41194065  0.31897605  0.22281663  0.12442266  0.02477682 -0.0751256\n",
      " -0.17428668 -0.27171579 -0.36643951 -0.45751132 -0.54402111]\n"
     ]
    }
   ],
   "source": [
    "import numpy as np\n",
    "from scipy.interpolate import interp1d\n",
    "\n",
    "# Irregular 1D grid points\n",
    "grid_points = np.linspace(0, 10, 100)\n",
    "\n",
    "# Values specified at the grid points\n",
    "values = np.sin(grid_points)\n",
    "\n",
    "# Create an interpolation function\n",
    "interpolation_function = interp1d(grid_points, values, kind='linear')\n",
    "\n",
    "# Regular 1D grid\n",
    "regular_grid = np.linspace(0, 10, 101)  # Adjust the range and number of points as needed\n",
    "\n",
    "# Interpolate values on the regular grid\n",
    "interpolated_values = interpolation_function(regular_grid)\n",
    "\n",
    "# Print interpolated values\n",
    "print(interpolated_values) "
   ]
  },
  {
   "cell_type": "code",
   "execution_count": 11,
   "metadata": {},
   "outputs": [
    {
     "data": {
      "text/plain": [
       "<matplotlib.collections.PathCollection at 0x22b0ca147a0>"
      ]
     },
     "execution_count": 11,
     "metadata": {},
     "output_type": "execute_result"
    },
    {
     "data": {
      "image/png": "[encoded data removed]",
      "text/plain": [
       "<Figure size 640x480 with 1 Axes>"
      ]
     },
     "metadata": {},
     "output_type": "display_data"
    }
   ],
   "source": [
    "import matplotlib.pyplot as plt\n",
    "\n",
    "fig, ax = plt.subplots()\n",
    "\n",
    "ax.plot(grid_points, values)\n",
    "\n",
    "ax.scatter(regular_grid, interpolated_values, color='red', s=5)"
   ]
  },
  {
   "cell_type": "code",
   "execution_count": null,
   "metadata": {},
   "outputs": [],
   "source": []
  }
 ],
 "metadata": {
  "kernelspec": {
   "display_name": "thesis",
   "language": "python",
   "name": "python3"
  },
  "language_info": {
   "codemirror_mode": {
    "name": "ipython",
    "version": 3
   },
   "file_extension": ".py",
   "mimetype": "text/x-python",
   "name": "python",
   "nbconvert_exporter": "python",
   "pygments_lexer": "ipython3",
   "version": "3.12.3"
  }
 },
 "nbformat": 4,
 "nbformat_minor": 2
}
