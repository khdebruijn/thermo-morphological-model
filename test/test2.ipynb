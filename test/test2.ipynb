{
 "cells": [
  {
   "cell_type": "code",
   "execution_count": 1,
   "metadata": {},
   "outputs": [],
   "source": [
    "import numpy as np\n",
    "import matplotlib.pyplot as plt"
   ]
  },
  {
   "cell_type": "code",
   "execution_count": 2,
   "metadata": {},
   "outputs": [],
   "source": [
    "#initialize\n",
    "xgr = np.linspace(0, 49, 100)\n",
    "zgr = -np.sqrt(xgr)\n",
    "\n",
    "resolution = 30\n",
    "max_depth = 3\n",
    "\n",
    "temp_depth_grid = np.linspace(0, max_depth, resolution)\n",
    "initial_temp = np.linspace(-5, 5, resolution)\n",
    "\n",
    "thermal_matrix = np.zeros((xgr.shape[0], temp_depth_grid.shape[0]))\n",
    "\n",
    "for i in range(len(thermal_matrix)):\n",
    "    thermal_matrix[i,:] = initial_temp\n",
    "    \n",
    "gradient = np.gradient(zgr, xgr)\n",
    "\n",
    "orientation = np.arctan(gradient) - 0.5 * np.pi\n",
    "    \n",
    "abs_x1 = np.tile(xgr, (len(temp_depth_grid), 1)).T + np.outer(np.cos(orientation), temp_depth_grid)\n",
    "abs_z2 = np.tile(zgr, (len(temp_depth_grid), 1)).T + np.outer(np.sin(orientation), temp_depth_grid)"
   ]
  },
  {
   "cell_type": "code",
   "execution_count": 4,
   "metadata": {},
   "outputs": [],
   "source": [
    "# apply boundary conditions\n",
    "# ghost_nodes_temp = thermal_matrix[:,0]\n",
    "\n",
    "# frozen_mask = (thermal_matrix[:,0]  self.config.thermal.T_melt)\n",
    "# unfrozen_mask = np.ones(frozen_mask.shape) - frozen_mask\n",
    "\n",
    "# print(ghost_nodes_temp.shape)\n",
    "# print(ghost_nodes_temp)\n",
    "\n",
    "# ghost_nodes_enth = frozen_mask * ghost_nodes_temp * self.config.thermal.c_frozen_soil + unfrozen_mask * ghost_nodes_temp * self.config.thermal.c_unfrozen_soil +"
   ]
  },
  {
   "cell_type": "code",
   "execution_count": 5,
   "metadata": {},
   "outputs": [],
   "source": [
    "x = np.ones((3, 3))\n",
    "y = np.zeros(3)"
   ]
  },
  {
   "cell_type": "code",
   "execution_count": 6,
   "metadata": {},
   "outputs": [
    {
     "data": {
      "text/plain": [
       "array([[0., 1., 1., 1.],\n",
       "       [0., 1., 1., 1.],\n",
       "       [0., 1., 1., 1.]])"
      ]
     },
     "execution_count": 6,
     "metadata": {},
     "output_type": "execute_result"
    }
   ],
   "source": [
    "np.column_stack((y, x))"
   ]
  },
  {
   "cell_type": "code",
   "execution_count": 7,
   "metadata": {},
   "outputs": [],
   "source": [
    "import numpy as np\n",
    "from scipy.spatial import ConvexHull\n",
    "\n",
    "# Example 2D points\n",
    "points = np.array([[0, 0],\n",
    "                   [1, 2],\n",
    "                   [2, 1],\n",
    "                   [3, 4],\n",
    "                   [4, 3],\n",
    "                   [5, 1],\n",
    "                   [6, 0]])\n",
    "\n",
    "# Compute convex hull\n",
    "hull = ConvexHull(points)\n",
    "\n",
    "# # Extract top boundary vertices\n",
    "# top_boundary_vertices = []\n",
    "# for edge in hull.vertices:\n",
    "#     if np.all(points[edge, 1] == np.max(points[hull.vertices, 1])):\n",
    "#         top_boundary_vertices.append(edge)\n",
    "\n",
    "# # Sort the top boundary vertices based on x-coordinate\n",
    "# top_boundary_vertices = sorted(top_boundary_vertices, key=lambda x: points[x, 0])\n",
    "\n",
    "# # Generate coordinates along the top boundary\n",
    "# num_points = 10\n",
    "# top_boundary_coordinates = []\n",
    "# for i in range(len(top_boundary_vertices) - 1):\n",
    "#     x0, y0 = points[top_boundary_vertices[i]]\n",
    "#     x1, y1 = points[top_boundary_vertices[i + 1]]\n",
    "#     xs = np.linspace(x0, x1, num_points, endpoint=False)\n",
    "#     ys = np.linspace(y0, y1, num_points, endpoint=False)\n",
    "#     top_boundary_coordinates.extend(zip(xs, ys))\n",
    "\n",
    "# # Add the last vertex\n",
    "# x_last, y_last = points[top_boundary_vertices[-1]]\n",
    "# top_boundary_coordinates.append((x_last, y_last))\n",
    "\n",
    "# # Convert to numpy array\n",
    "# top_boundary_coordinates = np.array(top_boundary_coordinates)\n",
    "\n",
    "# print(top_boundary_coordinates)"
   ]
  },
  {
   "cell_type": "code",
   "execution_count": 8,
   "metadata": {},
   "outputs": [
    {
     "data": {
      "text/plain": [
       "<matplotlib.collections.PathCollection at 0x182c1dbadb0>"
      ]
     },
     "execution_count": 8,
     "metadata": {},
     "output_type": "execute_result"
    },
    {
     "data": {
      "image/png": "[encoded data removed]",
      "text/plain": [
       "<Figure size 1500x500 with 1 Axes>"
      ]
     },
     "metadata": {},
     "output_type": "display_data"
    }
   ],
   "source": [
    "fig, ax = plt.subplots(figsize=(15, 5))\n",
    "\n",
    "ax.scatter(points[:,0], points[:,1])"
   ]
  },
  {
   "cell_type": "code",
   "execution_count": 15,
   "metadata": {},
   "outputs": [],
   "source": [
    "# top_boundary_vertices = np.unique(hull.simplices[np.isin(hull.simplices, hull.vertices[hull.vertices[:, 1] == np.max(points[hull.vertices, 1])])])\n",
    "import math"
   ]
  },
  {
   "cell_type": "code",
   "execution_count": 18,
   "metadata": {},
   "outputs": [
    {
     "name": "stdout",
     "output_type": "stream",
     "text": [
      "-135.0\n"
     ]
    }
   ],
   "source": [
    "u = -5\n",
    "v = -5\n",
    "angle = math.atan2(u, v)\n",
    "\n",
    "print(angle / (2*np.pi) * 360)"
   ]
  },
  {
   "cell_type": "code",
   "execution_count": null,
   "metadata": {},
   "outputs": [],
   "source": []
  }
 ],
 "metadata": {
  "kernelspec": {
   "display_name": "thesis",
   "language": "python",
   "name": "python3"
  },
  "language_info": {
   "codemirror_mode": {
    "name": "ipython",
    "version": 3
   },
   "file_extension": ".py",
   "mimetype": "text/x-python",
   "name": "python",
   "nbconvert_exporter": "python",
   "pygments_lexer": "ipython3",
   "version": "3.12.3"
  }
 },
 "nbformat": 4,
 "nbformat_minor": 2
}
