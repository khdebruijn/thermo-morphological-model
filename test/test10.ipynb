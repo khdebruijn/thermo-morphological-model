{
 "cells": [
  {
   "cell_type": "code",
   "execution_count": 2,
   "metadata": {},
   "outputs": [],
   "source": [
    "import os\n",
    "from pathlib import Path\n",
    "\n",
    "import xarray as xr\n",
    "import numpy as np\n",
    "import pandas as pd\n",
    "import matplotlib.pyplot as plt"
   ]
  },
  {
   "cell_type": "code",
   "execution_count": 3,
   "metadata": {},
   "outputs": [
    {
     "name": "stdout",
     "output_type": "stream",
     "text": [
      "<xarray.Dataset> Size: 26kB\n",
      "Dimensions:                          (xgr: 3, depth_id: 150, xgr_xb: 0)\n",
      "Coordinates:\n",
      "  * xgr                              (xgr) float64 24B 0.0 5.0 10.0\n",
      "  * depth_id                         (depth_id) int32 600B 0 1 2 ... 147 148 149\n",
      "  * xgr_xb                           (xgr_xb) float64 0B \n",
      "Data variables: (12/36)\n",
      "    timestep_id                      int32 4B 0\n",
      "    timestamp                        datetime64[ns] 8B 2011-01-01\n",
      "    cumulative_computational_time    float64 8B 6.373\n",
      "    zgr                              (xgr) float64 24B 15.0 15.0 15.0\n",
      "    angles                           (xgr) float64 24B 0.0 0.0 0.0\n",
      "    wave_height                      (xgr_xb) float64 0B \n",
      "    ...                               ...\n",
      "    latent_heat_flux                 (xgr) float64 24B 0.0 0.0 0.0\n",
      "    convective_heat_flux             (xgr) float64 24B 0.0 0.0 0.0\n",
      "    total_heat_flux                  (xgr) float64 24B 0.0 0.0 0.0\n",
      "    sea_ice_cover                    float64 8B 0.9232\n",
      "    wind_velocity                    float64 8B 10.27\n",
      "    wind_direction                   float64 8B -98.33\n"
     ]
    }
   ],
   "source": [
    "folder = Path(r'P:\\11210070-usgscoop-202324-arcticxb\\runs\\val_gt1/')\n",
    "fname = Path('0.nc')\n",
    "\n",
    "ds = xr.load_dataset(os.path.join(folder, fname), engine='netcdf4')\n",
    "ds.close()\n",
    "\n",
    "print(ds)"
   ]
  },
  {
   "cell_type": "code",
   "execution_count": 14,
   "metadata": {},
   "outputs": [
    {
     "data": {
      "text/html": [
       "<div>\n",
       "<style scoped>\n",
       "    .dataframe tbody tr th:only-of-type {\n",
       "        vertical-align: middle;\n",
       "    }\n",
       "\n",
       "    .dataframe tbody tr th {\n",
       "        vertical-align: top;\n",
       "    }\n",
       "\n",
       "    .dataframe thead th {\n",
       "        text-align: right;\n",
       "    }\n",
       "</style>\n",
       "<table border=\"1\" class=\"dataframe\">\n",
       "  <thead>\n",
       "    <tr style=\"text-align: right;\">\n",
       "      <th></th>\n",
       "      <th>id</th>\n",
       "      <th>time</th>\n",
       "      <th>level1</th>\n",
       "      <th>level2</th>\n",
       "    </tr>\n",
       "  </thead>\n",
       "  <tbody>\n",
       "    <tr>\n",
       "      <th>0</th>\n",
       "      <td>0</td>\n",
       "      <td>some date</td>\n",
       "      <td>10</td>\n",
       "      <td>20</td>\n",
       "    </tr>\n",
       "    <tr>\n",
       "      <th>1</th>\n",
       "      <td>1</td>\n",
       "      <td>some later date</td>\n",
       "      <td>20</td>\n",
       "      <td>30</td>\n",
       "    </tr>\n",
       "  </tbody>\n",
       "</table>\n",
       "</div>"
      ],
      "text/plain": [
       "  id             time level1 level2\n",
       "0  0        some date     10     20\n",
       "1  1  some later date     20     30"
      ]
     },
     "execution_count": 14,
     "metadata": {},
     "output_type": "execute_result"
    }
   ],
   "source": [
    "colnames = ['id', 'time', 'level1', 'level2']\n",
    "\n",
    "\n",
    "df = pd.DataFrame(columns=colnames)\n",
    "\n",
    "df = df._append(dict(zip(colnames, [0, 'some date', 10, 20])), ignore_index=True)\n",
    "df = df._append(dict(zip(colnames, [1, 'some later date', 20, 30])), ignore_index=True)\n",
    "\n",
    "df.head()\n"
   ]
  },
  {
   "cell_type": "code",
   "execution_count": 2,
   "metadata": {},
   "outputs": [
    {
     "name": "stdout",
     "output_type": "stream",
     "text": [
      "20\n",
      "10\n"
     ]
    }
   ],
   "source": [
    "print(2 * 150 // 15)\n",
    "print(1 * 150 // 15)"
   ]
  },
  {
   "cell_type": "code",
   "execution_count": null,
   "metadata": {},
   "outputs": [],
   "source": []
  }
 ],
 "metadata": {
  "kernelspec": {
   "display_name": "thesis",
   "language": "python",
   "name": "python3"
  },
  "language_info": {
   "codemirror_mode": {
    "name": "ipython",
    "version": 3
   },
   "file_extension": ".py",
   "mimetype": "text/x-python",
   "name": "python",
   "nbconvert_exporter": "python",
   "pygments_lexer": "ipython3",
   "version": "3.12.6"
  }
 },
 "nbformat": 4,
 "nbformat_minor": 2
}
