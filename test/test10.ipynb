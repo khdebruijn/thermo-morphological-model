{
 "cells": [
  {
   "cell_type": "code",
   "execution_count": 1,
   "metadata": {},
   "outputs": [],
   "source": [
    "import os\n",
    "from pathlib import Path\n",
    "\n",
    "import xarray as xr\n",
    "import numpy as np\n",
    "import pandas as pd\n",
    "import matplotlib.pyplot as plt"
   ]
  },
  {
   "cell_type": "code",
   "execution_count": 8,
   "metadata": {},
   "outputs": [
    {
     "name": "stdout",
     "output_type": "stream",
     "text": [
      "<xarray.Dataset> Size: 26kB\n",
      "Dimensions:                          (xgr: 3, depth_id: 150, xgr_xb: 0)\n",
      "Coordinates:\n",
      "  * xgr                              (xgr) float64 24B 0.0 5.0 10.0\n",
      "  * depth_id                         (depth_id) int32 600B 0 1 2 ... 147 148 149\n",
      "  * xgr_xb                           (xgr_xb) float64 0B \n",
      "Data variables: (12/36)\n",
      "    timestep_id                      int32 4B 0\n",
      "    timestamp                        datetime64[ns] 8B 2011-01-01\n",
      "    cumulative_computational_time    float64 8B 6.373\n",
      "    zgr                              (xgr) float64 24B 15.0 15.0 15.0\n",
      "    angles                           (xgr) float64 24B 0.0 0.0 0.0\n",
      "    wave_height                      (xgr_xb) float64 0B \n",
      "    ...                               ...\n",
      "    latent_heat_flux                 (xgr) float64 24B 0.0 0.0 0.0\n",
      "    convective_heat_flux             (xgr) float64 24B 0.0 0.0 0.0\n",
      "    total_heat_flux                  (xgr) float64 24B 0.0 0.0 0.0\n",
      "    sea_ice_cover                    float64 8B 0.9232\n",
      "    wind_velocity                    float64 8B 10.27\n",
      "    wind_direction                   float64 8B -98.33\n"
     ]
    }
   ],
   "source": [
    "folder = Path(r'P:\\11210070-usgscoop-202324-arcticxb\\runs\\val_gt1/')\n",
    "fname = Path('0.nc')\n",
    "\n",
    "ds = xr.load_dataset(os.path.join(folder, fname), engine='netcdf4')\n",
    "\n",
    "print(ds)"
   ]
  },
  {
   "cell_type": "code",
   "execution_count": null,
   "metadata": {},
   "outputs": [],
   "source": []
  }
 ],
 "metadata": {
  "kernelspec": {
   "display_name": "thesis",
   "language": "python",
   "name": "python3"
  },
  "language_info": {
   "codemirror_mode": {
    "name": "ipython",
    "version": 3
   },
   "file_extension": ".py",
   "mimetype": "text/x-python",
   "name": "python",
   "nbconvert_exporter": "python",
   "pygments_lexer": "ipython3",
   "version": "3.12.4"
  }
 },
 "nbformat": 4,
 "nbformat_minor": 2
}
