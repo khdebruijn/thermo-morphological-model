{
 "cells": [
  {
   "cell_type": "code",
   "execution_count": 1,
   "metadata": {},
   "outputs": [],
   "source": [
    "import os\n",
    "from pathlib import Path\n",
    "\n",
    "import xarray as xr\n",
    "import numpy as np\n",
    "import pandas as pd\n",
    "import matplotlib.pyplot as plt"
   ]
  },
  {
   "cell_type": "code",
   "execution_count": 2,
   "metadata": {},
   "outputs": [],
   "source": [
    "# folder = Path(r'P:\\11210070-usgscoop-202324-arcticxb\\runs\\val_gt1/')\n",
    "# fname = Path('0.nc')\n",
    "\n",
    "# ds = xr.load_dataset(os.path.join(folder, fname), engine='netcdf4')\n",
    "# ds.close()\n",
    "\n",
    "# print(ds)"
   ]
  },
  {
   "cell_type": "code",
   "execution_count": 11,
   "metadata": {},
   "outputs": [
    {
     "name": "stdout",
     "output_type": "stream",
     "text": [
      "0    some date\n",
      "Name: time, dtype: object\n"
     ]
    }
   ],
   "source": [
    "colnames = ['id', 'time', 'level1', 'level2']\n",
    "\n",
    "\n",
    "df = pd.DataFrame(columns=colnames)\n",
    "\n",
    "df = df._append(dict(zip(colnames, [0, 'some date', 10, 20])), ignore_index=True)\n",
    "df = df._append(dict(zip(colnames, [1, 'some later date', 20, 30])), ignore_index=True)\n",
    "\n",
    "mask = (df.id == 0)\n",
    "\n",
    "df[mask].head()\n",
    "\n",
    "print(df[mask].time)\n"
   ]
  },
  {
   "cell_type": "code",
   "execution_count": 2,
   "metadata": {},
   "outputs": [
    {
     "name": "stdout",
     "output_type": "stream",
     "text": [
      "20\n",
      "10\n"
     ]
    }
   ],
   "source": [
    "print(2 * 150 // 15)\n",
    "print(1 * 150 // 15)"
   ]
  },
  {
   "cell_type": "code",
   "execution_count": null,
   "metadata": {},
   "outputs": [],
   "source": []
  }
 ],
 "metadata": {
  "kernelspec": {
   "display_name": "thesis",
   "language": "python",
   "name": "python3"
  },
  "language_info": {
   "codemirror_mode": {
    "name": "ipython",
    "version": 3
   },
   "file_extension": ".py",
   "mimetype": "text/x-python",
   "name": "python",
   "nbconvert_exporter": "python",
   "pygments_lexer": "ipython3",
   "version": "3.12.6"
  }
 },
 "nbformat": 4,
 "nbformat_minor": 2
}
