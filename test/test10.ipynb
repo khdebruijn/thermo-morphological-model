{
 "cells": [
  {
   "cell_type": "code",
   "execution_count": 2,
   "metadata": {},
   "outputs": [],
   "source": [
    "import os\n",
    "from pathlib import Path\n",
    "\n",
    "import xarray as xr\n",
    "import numpy as np\n",
    "import pandas as pd\n",
    "import matplotlib.pyplot as plt"
   ]
  },
  {
   "cell_type": "code",
   "execution_count": 2,
   "metadata": {},
   "outputs": [],
   "source": [
    "# folder = Path(r'P:\\11210070-usgscoop-202324-arcticxb\\runs\\val_gt1/')\n",
    "# fname = Path('0.nc')\n",
    "\n",
    "# ds = xr.load_dataset(os.path.join(folder, fname), engine='netcdf4')\n",
    "# ds.close()\n",
    "\n",
    "# print(ds)"
   ]
  },
  {
   "cell_type": "code",
   "execution_count": 11,
   "metadata": {},
   "outputs": [
    {
     "name": "stdout",
     "output_type": "stream",
     "text": [
      "0    some date\n",
      "Name: time, dtype: object\n"
     ]
    }
   ],
   "source": [
    "colnames = ['id', 'time', 'level1', 'level2']\n",
    "\n",
    "\n",
    "df = pd.DataFrame(columns=colnames)\n",
    "\n",
    "df = df._append(dict(zip(colnames, [0, 'some date', 10, 20])), ignore_index=True)\n",
    "df = df._append(dict(zip(colnames, [1, 'some later date', 20, 30])), ignore_index=True)\n",
    "\n",
    "mask = (df.id == 0)\n",
    "\n",
    "df[mask].head()\n",
    "\n",
    "print(df[mask].time)\n"
   ]
  },
  {
   "cell_type": "code",
   "execution_count": 2,
   "metadata": {},
   "outputs": [
    {
     "name": "stdout",
     "output_type": "stream",
     "text": [
      "20\n",
      "10\n"
     ]
    }
   ],
   "source": [
    "print(2 * 150 // 15)\n",
    "print(1 * 150 // 15)"
   ]
  },
  {
   "cell_type": "code",
   "execution_count": 15,
   "metadata": {},
   "outputs": [
    {
     "data": {
      "text/plain": [
       "DatetimeIndex(['2000-01-01 00:00:00', '2000-01-01 00:01:00',\n",
       "               '2000-01-01 00:02:00', '2000-01-01 00:03:00',\n",
       "               '2000-01-01 00:04:00', '2000-01-01 00:05:00',\n",
       "               '2000-01-01 00:06:00', '2000-01-01 00:07:00',\n",
       "               '2000-01-01 00:08:00', '2000-01-01 00:09:00',\n",
       "               ...\n",
       "               '2000-01-01 23:51:00', '2000-01-01 23:52:00',\n",
       "               '2000-01-01 23:53:00', '2000-01-01 23:54:00',\n",
       "               '2000-01-01 23:55:00', '2000-01-01 23:56:00',\n",
       "               '2000-01-01 23:57:00', '2000-01-01 23:58:00',\n",
       "               '2000-01-01 23:59:00', '2000-01-02 00:00:00'],\n",
       "              dtype='datetime64[ns]', length=1441, freq='min')"
      ]
     },
     "execution_count": 15,
     "metadata": {},
     "output_type": "execute_result"
    }
   ],
   "source": [
    "pd.date_range('01-01-2000', '01-02-2000', freq='1min')"
   ]
  },
  {
   "cell_type": "code",
   "execution_count": 20,
   "metadata": {},
   "outputs": [
    {
     "data": {
      "text/plain": [
       "False"
      ]
     },
     "execution_count": 20,
     "metadata": {},
     "output_type": "execute_result"
    }
   ],
   "source": [
    "5 == np.nan"
   ]
  },
  {
   "cell_type": "code",
   "execution_count": 22,
   "metadata": {},
   "outputs": [
    {
     "data": {
      "text/plain": [
       "np.float64(nan)"
      ]
     },
     "execution_count": 22,
     "metadata": {},
     "output_type": "execute_result"
    }
   ],
   "source": [
    "np.min(np.array([5, np.nan, 0]))"
   ]
  },
  {
   "cell_type": "code",
   "execution_count": 37,
   "metadata": {},
   "outputs": [
    {
     "name": "stdout",
     "output_type": "stream",
     "text": [
      "DatetimeIndex(['2011-01-01 00:00:00', '2011-01-01 01:00:00',\n",
      "               '2011-01-01 02:00:00', '2011-01-01 03:00:00',\n",
      "               '2011-01-01 04:00:00', '2011-01-01 05:00:00',\n",
      "               '2011-01-01 06:00:00', '2011-01-01 07:00:00',\n",
      "               '2011-01-01 08:00:00', '2011-01-01 09:00:00',\n",
      "               '2011-01-01 10:00:00', '2011-01-01 11:00:00',\n",
      "               '2011-01-01 12:00:00', '2011-01-01 13:00:00',\n",
      "               '2011-01-01 14:00:00', '2011-01-01 15:00:00',\n",
      "               '2011-01-01 16:00:00', '2011-01-01 17:00:00',\n",
      "               '2011-01-01 18:00:00', '2011-01-01 19:00:00',\n",
      "               '2011-01-01 20:00:00', '2011-01-01 21:00:00',\n",
      "               '2011-01-01 22:00:00', '2011-01-01 23:00:00'],\n",
      "              dtype='datetime64[ns]', freq='h')\n",
      "DatetimeIndex(['2011-01-01 00:00:00', '2011-01-01 01:00:00',\n",
      "               '2011-01-01 02:00:00', '2011-01-01 03:00:00',\n",
      "               '2011-01-01 04:00:00', '2011-01-01 05:00:00',\n",
      "               '2011-01-01 06:00:00', '2011-01-01 07:00:00',\n",
      "               '2011-01-01 08:00:00', '2011-01-01 09:00:00',\n",
      "               '2011-01-01 10:00:00', '2011-01-01 11:00:00',\n",
      "               '2011-01-01 12:00:00', '2011-01-01 13:00:00',\n",
      "               '2011-01-01 14:00:00', '2011-01-01 15:00:00',\n",
      "               '2011-01-01 16:00:00', '2011-01-01 17:00:00',\n",
      "               '2011-01-01 18:00:00', '2011-01-01 19:00:00',\n",
      "               '2011-01-01 20:00:00', '2011-01-01 21:00:00',\n",
      "               '2011-01-01 22:00:00', '2011-01-01 23:00:00'],\n",
      "              dtype='datetime64[ns]', freq='h')\n"
     ]
    }
   ],
   "source": [
    "\n",
    "t_start = pd.to_datetime(\"01-01-2011\", dayfirst=True)\n",
    "t_end = pd.to_datetime(\"02-01-2011\", dayfirst=True)\n",
    "\n",
    "t = pd.date_range(t_start, t_end, freq='1h', inclusive='left')\n",
    "\n",
    "print(t)\n",
    "\n",
    "rpt=2\n",
    "\n",
    "# for i in range(rpt-1):\n",
    "#     t = t.append(t)\n",
    "\n",
    "# print(t * rpt)\n",
    "\n",
    "print(t)"
   ]
  },
  {
   "cell_type": "code",
   "execution_count": 39,
   "metadata": {},
   "outputs": [
    {
     "data": {
      "text/plain": [
       "dict"
      ]
     },
     "execution_count": 39,
     "metadata": {},
     "output_type": "execute_result"
    }
   ],
   "source": [
    "type({'50': 0, '100':1, '200': 2, '295': 3})"
   ]
  },
  {
   "cell_type": "code",
   "execution_count": 1,
   "metadata": {},
   "outputs": [],
   "source": [
    "import xarray as xr"
   ]
  },
  {
   "cell_type": "code",
   "execution_count": 2,
   "metadata": {},
   "outputs": [],
   "source": [
    "val_gt14 = xr.load_dataset('val_gt14_0000000000.nc')\n",
    "val_gt15 = xr.load_dataset('val_gt15_0000000000.nc')"
   ]
  },
  {
   "cell_type": "code",
   "execution_count": 9,
   "metadata": {},
   "outputs": [
    {
     "name": "stdout",
     "output_type": "stream",
     "text": [
      "True\n",
      "True\n"
     ]
    }
   ],
   "source": [
    "print(all(val_gt14.ground_temperature_distribution.values.reshape(-1) > 200))\n",
    "print(all(val_gt15.ground_temperature_distribution.values.reshape(-1) > 200))"
   ]
  },
  {
   "cell_type": "code",
   "execution_count": 10,
   "metadata": {},
   "outputs": [],
   "source": [
    "val_gt14.close()\n",
    "val_gt15.close()"
   ]
  },
  {
   "cell_type": "code",
   "execution_count": 4,
   "metadata": {},
   "outputs": [
    {
     "name": "stdout",
     "output_type": "stream",
     "text": [
      "[0.01964289 0.01392857 0.01392853]\n"
     ]
    }
   ],
   "source": [
    "values = np.array([\n",
    "    0.27464288,\n",
    "    0.29428577,\n",
    "    0.30821434,\n",
    "    0.32214287,\n",
    "])\n",
    "\n",
    "diff = values[1:] - values[:-1]\n",
    "\n",
    "print(diff)"
   ]
  },
  {
   "cell_type": "code",
   "execution_count": null,
   "metadata": {},
   "outputs": [],
   "source": []
  }
 ],
 "metadata": {
  "kernelspec": {
   "display_name": "thesis",
   "language": "python",
   "name": "python3"
  },
  "language_info": {
   "codemirror_mode": {
    "name": "ipython",
    "version": 3
   },
   "file_extension": ".py",
   "mimetype": "text/x-python",
   "name": "python",
   "nbconvert_exporter": "python",
   "pygments_lexer": "ipython3",
   "version": "3.12.6"
  }
 },
 "nbformat": 4,
 "nbformat_minor": 2
}
