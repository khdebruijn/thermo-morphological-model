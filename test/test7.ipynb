{
 "cells": [
  {
   "cell_type": "code",
   "execution_count": null,
   "metadata": {},
   "outputs": [],
   "source": [
    "import os\n",
    "from pathlib import Path\n",
    "\n",
    "import numpy as np\n",
    "import pandas as pd\n",
    "import matplotlib.pyplot as plt\n",
    "from scipy.interpolate import LinearNDInterpolator"
   ]
  },
  {
   "cell_type": "code",
   "execution_count": null,
   "metadata": {},
   "outputs": [],
   "source": [
    "def count_nonzero_until_zero(matrix):\n",
    "    \"\"\"Returns the number of grid points with a nonzero input, counted for each row from the lowest index until the first zero input.\n",
    "\n",
    "    Args:\n",
    "        matrix (np.array): a matrix\n",
    "\n",
    "    Returns:\n",
    "        result: number of grid points for each row before a zero input (-1 if no zeros in the entire row)\n",
    "    \"\"\"\n",
    "    \n",
    "    matrix = np.column_stack((matrix, np.zeros(matrix.shape[0])))\n",
    "    \n",
    "    indices = np.argmax(matrix == 0, axis=1)\n",
    "    \n",
    "    mask = (indices == matrix.shape[1]-1)\n",
    "    \n",
    "    indices[mask] = -1\n",
    "    \n",
    "    return indices\n",
    "\n",
    "def generate_perpendicular_grids(xgr, zgr, resolution=30, max_depth=3):\n",
    "    \"\"\"This function takes an xgrid and a zgrid, as well as a resolution and maximum depth, and returns a (temperature) grid perpendicular to the existing x and z-grid.\n",
    "    ----------\n",
    "    xgr: array\n",
    "        1D array of x-values\n",
    "    zgr: array\n",
    "        1D array of z-values\n",
    "    resolution: integer (default: 30)\n",
    "        number of desired grid points in the 1D models\n",
    "    max_depth: float (default: 3)\n",
    "        maximum depth to be modelled\n",
    "    ---------Returns----------\n",
    "    Returns: x_matrix, z_matrix\n",
    "    \n",
    "    x_matrix: array\n",
    "        2D array of x-values. Each row contains the x-values for a 1D model\n",
    "    z_matrix: array\n",
    "        2D array of z-values. Each row contains the z-values for a 1D model\n",
    "    \"\"\"\n",
    "    temp_depth_grid = np.linspace(0, max_depth, resolution)\n",
    "    initial_temp = np.linspace(-5, 5, resolution)\n",
    "\n",
    "    thermal_matrix = np.zeros((xgr.shape[0], temp_depth_grid.shape[0]))\n",
    "\n",
    "    for i in range(len(thermal_matrix)):\n",
    "        thermal_matrix[i,:] = initial_temp\n",
    "        \n",
    "    gradient = np.gradient(zgr, xgr)\n",
    "\n",
    "    orientation = np.arctan(gradient) - 0.5 * np.pi\n",
    "        \n",
    "    x_matrix = np.tile(xgr, (len(temp_depth_grid), 1)).T + np.outer(np.cos(orientation), temp_depth_grid)\n",
    "    z_matrix = np.tile(zgr, (len(temp_depth_grid), 1)).T + np.outer(np.sin(orientation), temp_depth_grid)\n",
    "    \n",
    "    return x_matrix, z_matrix"
   ]
  },
  {
   "cell_type": "code",
   "execution_count": null,
   "metadata": {},
   "outputs": [],
   "source": [
    "def find_thaw_depth(xgr, zgr, temp_matrix, resolution=30, max_depth=3, T_melt=0):\n",
    "        \"\"\"Finds thaw depth based on the z-values of the two nearest thaw points.\"\"\"\n",
    "        # initialize thaw depth array\n",
    "        thaw_depth = np.zeros(xgr.shape)\n",
    "\n",
    "        # get the points from the temperature models\n",
    "        x_matrix, z_matrix = generate_perpendicular_grids(\n",
    "            xgr, zgr, \n",
    "            resolution=resolution, \n",
    "            max_depth=max_depth)\n",
    "        \n",
    "        # determine indices of thaw depth in perpendicular model\n",
    "        indices = count_nonzero_until_zero((temp_matrix > T_melt))\n",
    "\n",
    "        # find associated coordinates of these points\n",
    "        x_thaw = x_matrix[np.arange(x_matrix.shape[0]),indices]\n",
    "        z_thaw = z_matrix[np.arange(x_matrix.shape[0]),indices]\n",
    "        \n",
    "        # sort \n",
    "        sort_indices = np.argsort(x_thaw)\n",
    "        x_thaw_sorted = x_thaw[sort_indices]\n",
    "        z_thaw_sorted = z_thaw[sort_indices]\n",
    "        \n",
    "        # loop through the grid        \n",
    "        for i, x, z in zip(np.arange(len(xgr)), xgr, zgr):\n",
    "            # try to find two points between which to interpolate for the thaw depth, otherwise set thaw depth to 0\n",
    "            try:\n",
    "                mask1 = np.nonzero((x_thaw_sorted < x))\n",
    "                x1 = x_thaw_sorted[mask1][-1]\n",
    "                z1 = z_thaw_sorted[mask1][-1]\n",
    "                \n",
    "                mask2 = np.nonzero((x_thaw_sorted > x))\n",
    "                x2 = x_thaw_sorted[mask2][0]\n",
    "                z2 = z_thaw_sorted[mask2][0]\n",
    "                \n",
    "                z_thaw_interpolated = z1 + (z2 - z1)/(x2 - x1) * (x - x1)\n",
    "                \n",
    "                thaw_depth[i] = z - (z_thaw_interpolated)\n",
    "            except:\n",
    "                thaw_depth[i] = 0\n",
    "        \n",
    "        return thaw_depth"
   ]
  },
  {
   "cell_type": "code",
   "execution_count": null,
   "metadata": {},
   "outputs": [],
   "source": [
    "xgr = np.linspace(0, 10)\n",
    "zgr = -np.sqrt(xgr)\n",
    "\n",
    "plt.plot(xgr, zgr)"
   ]
  },
  {
   "cell_type": "code",
   "execution_count": null,
   "metadata": {},
   "outputs": [],
   "source": [
    "temp_matrix = np.tile(np.linspace(5, -5, 30), (len(xgr), 1))\n",
    "\n",
    "print(temp_matrix)"
   ]
  },
  {
   "cell_type": "code",
   "execution_count": null,
   "metadata": {},
   "outputs": [],
   "source": [
    "thaw_depth = find_thaw_depth(xgr, zgr, temp_matrix)\n",
    "\n",
    "x_matrix, z_matrix = generate_perpendicular_grids(xgr, zgr)\n",
    "abs_xgr = x_matrix.flatten()\n",
    "abs_zgr = z_matrix.flatten()\n",
    "\n",
    "plt.plot(xgr, zgr)\n",
    "plt.plot(xgr, zgr-thaw_depth)\n",
    "plt.scatter(abs_xgr, abs_zgr, s=1, color='red')"
   ]
  },
  {
   "cell_type": "code",
   "execution_count": null,
   "metadata": {},
   "outputs": [],
   "source": [
    "a = np.ones((0, 222))\n",
    "print(a.shape)"
   ]
  },
  {
   "cell_type": "code",
   "execution_count": null,
   "metadata": {},
   "outputs": [],
   "source": [
    "np.repeat(np.arange(4), 3)"
   ]
  },
  {
   "cell_type": "code",
   "execution_count": null,
   "metadata": {},
   "outputs": [],
   "source": [
    "dates = pd.date_range(start = '2010-10-17', end = '2011-05-13', freq='1d')[5]\n",
    "\n",
    "dates.dayofyear"
   ]
  },
  {
   "cell_type": "code",
   "execution_count": null,
   "metadata": {},
   "outputs": [],
   "source": [
    "t_start = pd.to_datetime(\"3-12-2021\", dayfirst=True)\n",
    "t_end = pd.to_datetime(\"6-12-2021\", dayfirst=True)\n",
    "\n",
    "ts = pd.date_range(t_start, t_end, freq='1h', inclusive='left')\n",
    "print(ts)"
   ]
  },
  {
   "cell_type": "code",
   "execution_count": null,
   "metadata": {},
   "outputs": [],
   "source": []
  }
 ],
 "metadata": {
  "kernelspec": {
   "display_name": "thesis",
   "language": "python",
   "name": "python3"
  },
  "language_info": {
   "codemirror_mode": {
    "name": "ipython",
    "version": 3
   },
   "file_extension": ".py",
   "mimetype": "text/x-python",
   "name": "python",
   "nbconvert_exporter": "python",
   "pygments_lexer": "ipython3",
   "version": "3.12.4"
  }
 },
 "nbformat": 4,
 "nbformat_minor": 2
}
