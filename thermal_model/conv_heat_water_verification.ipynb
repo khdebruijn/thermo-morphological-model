{
 "cells": [
  {
   "cell_type": "code",
   "execution_count": 1,
   "metadata": {},
   "outputs": [],
   "source": [
    "import os\n",
    "\n",
    "import numpy as np\n",
    "import matplotlib.pyplot as plt\n",
    "import pandas as pd\n",
    "\n",
    "from xbTools.general.wave_functions import dispersion"
   ]
  },
  {
   "cell_type": "code",
   "execution_count": 2,
   "metadata": {},
   "outputs": [],
   "source": [
    "nu = 1.848 * 10**-6  # (seawater at 0.1 degrees celcius)"
   ]
  },
  {
   "cell_type": "code",
   "execution_count": 8,
   "metadata": {},
   "outputs": [
    {
     "name": "stdout",
     "output_type": "stream",
     "text": [
      "a/k:  14.430665478917724\n",
      "Re:  2750029.7869774126\n"
     ]
    }
   ],
   "source": [
    "alpha = 0.5\n",
    "\n",
    "rho = 1027.32\n",
    "CW = 3989\n",
    "cw = rho * CW  # convert to volumetric heat capacity\n",
    "\n",
    "\n",
    "Hr = 2\n",
    "Tr = 8\n",
    "dr = 3\n",
    "z0 = -2.9\n",
    "kr = dispersion(2*np.pi / Tr, dr)\n",
    "u_b = np.pi * Hr / (Tr * np.sinh(kr * dr))\n",
    "\n",
    "Re = u_b * dr / nu\n",
    "a = Hr / 2\n",
    "amx = a * np.cosh(kr * (dr + z0)) / np.sinh(kr*dr)\n",
    "amz = a * np.sinh(kr * (dr + z0)) / np.sinh(kr*dr)\n",
    "\n",
    "print(\"a/k: \", amx / kr)\n",
    "print(\"Re: \", Re)\n",
    "\n",
    "# use diagram from Johnson 1966\n",
    "fw = 0.05"
   ]
  },
  {
   "cell_type": "code",
   "execution_count": 11,
   "metadata": {},
   "outputs": [
    {
     "name": "stdout",
     "output_type": "stream",
     "text": [
      "688.4616560123721\n",
      "78.47531597857734\n"
     ]
    }
   ],
   "source": [
    "u_star = np.sqrt(0.5 * fw) * u_b\n",
    "ks = 2.5 * (1.90 * 10**-3)\n",
    "\n",
    "rough = u_star * ks / nu\n",
    "\n",
    "print(rough)  # very rough, so second formula from Kobayashi & Aktan (1986)\n",
    "\n",
    "Pr = 13.4\n",
    "# Pr = 5.28\n",
    "\n",
    "E = 0.52 * rough**0.45 * Pr**0.8\n",
    "\n",
    "print(E)"
   ]
  },
  {
   "cell_type": "code",
   "execution_count": 12,
   "metadata": {},
   "outputs": [
    {
     "name": "stdout",
     "output_type": "stream",
     "text": [
      "12943.827027852089\n"
     ]
    }
   ],
   "source": [
    "hc = alpha * fw * cw * u_b / (1 + np.sqrt(0.5 * fw) * E)\n",
    "\n",
    "print(hc)"
   ]
  },
  {
   "cell_type": "code",
   "execution_count": 17,
   "metadata": {},
   "outputs": [
    {
     "data": {
      "text/plain": [
       "array([2., 2., 2., 3., 4.])"
      ]
     },
     "execution_count": 17,
     "metadata": {},
     "output_type": "execute_result"
    }
   ],
   "source": [
    "x = np.arange(0, 5)\n",
    "y = np.ones(5) * 2\n",
    "\n",
    "np.maximum(x, y)"
   ]
  },
  {
   "cell_type": "code",
   "execution_count": null,
   "metadata": {},
   "outputs": [],
   "source": []
  }
 ],
 "metadata": {
  "kernelspec": {
   "display_name": "thesis",
   "language": "python",
   "name": "python3"
  },
  "language_info": {
   "codemirror_mode": {
    "name": "ipython",
    "version": 3
   },
   "file_extension": ".py",
   "mimetype": "text/x-python",
   "name": "python",
   "nbconvert_exporter": "python",
   "pygments_lexer": "ipython3",
   "version": "3.12.3"
  }
 },
 "nbformat": 4,
 "nbformat_minor": 2
}
