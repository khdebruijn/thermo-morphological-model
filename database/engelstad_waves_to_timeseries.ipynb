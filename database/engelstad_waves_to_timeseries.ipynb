{
 "cells": [
  {
   "cell_type": "code",
   "execution_count": 77,
   "metadata": {},
   "outputs": [],
   "source": [
    "import os\n",
    "\n",
    "import matplotlib.pyplot as plt\n",
    "import numpy as np\n",
    "import pandas as pd\n",
    "import xarray as xr\n",
    "\n",
    "import geopandas as gpd\n",
    "import geodatasets\n",
    "\n",
    "import hvplot\n",
    "import hvplot.pandas"
   ]
  },
  {
   "cell_type": "markdown",
   "metadata": {},
   "source": [
    "Open the file"
   ]
  },
  {
   "cell_type": "code",
   "execution_count": 78,
   "metadata": {},
   "outputs": [
    {
     "name": "stdout",
     "output_type": "stream",
     "text": [
      "<xarray.Dataset> Size: 11GB\n",
      "Dimensions:     (time: 119800, numberOfCharacters: 11, transect: 2381,\n",
      "                 longitude: 2381, latitude: 2381)\n",
      "Coordinates:\n",
      "  * time        (time) datetime64[ns] 958kB 1979-01-01 ... 2019-12-31T21:00:00\n",
      "    transect    (numberOfCharacters, transect) |S1 26kB dask.array<chunksize=(11, 2381), meta=np.ndarray>\n",
      "  * longitude   (longitude) float32 10kB -145.5 -145.5 -145.5 ... -155.0 -155.0\n",
      "  * latitude    (latitude) float32 10kB 70.1 70.1 70.11 ... 71.18 71.18 71.18\n",
      "Dimensions without coordinates: numberOfCharacters\n",
      "Data variables:\n",
      "    depth       (transect) float32 10kB dask.array<chunksize=(2381,), meta=np.ndarray>\n",
      "    Hs          (transect, time) float32 1GB dask.array<chunksize=(2381, 119800), meta=np.ndarray>\n",
      "    Tm01        (transect, time) float32 1GB dask.array<chunksize=(2381, 119800), meta=np.ndarray>\n",
      "    Dm          (transect, time) float32 1GB dask.array<chunksize=(2381, 119800), meta=np.ndarray>\n",
      "    Flag_D      (transect, time) float32 1GB dask.array<chunksize=(2381, 119800), meta=np.ndarray>\n",
      "    Flag_S      (transect, time) float32 1GB dask.array<chunksize=(2381, 119800), meta=np.ndarray>\n",
      "    Flag_Hs020  (transect, time) float32 1GB dask.array<chunksize=(2381, 119800), meta=np.ndarray>\n",
      "    Flag_Hs025  (transect, time) float32 1GB dask.array<chunksize=(2381, 119800), meta=np.ndarray>\n",
      "    Flag_Hs050  (transect, time) float32 1GB dask.array<chunksize=(2381, 119800), meta=np.ndarray>\n",
      "    Flag_Hs075  (transect, time) float32 1GB dask.array<chunksize=(2381, 119800), meta=np.ndarray>\n",
      "    Flag_Hs100  (transect, time) float32 1GB dask.array<chunksize=(2381, 119800), meta=np.ndarray>\n",
      "Attributes:\n",
      "    product_name:    DWDB hindcast time-series\n",
      "    area:            SWAN grids for the State of Alaska\n",
      "    data_type:       time-series\n",
      "    format_version:  1.1\n",
      "    hindcast:        ERA5 reanalysis\n",
      "    start_date:      1979-01-01\n",
      "    stop_date:       2019-12-31\n",
      "    Temporal_Res:    3-hourly\n",
      "    author:          USGS, aengelstad@usgs.gov\n"
     ]
    }
   ],
   "source": [
    "fname = 'WaveTimeSeries_ERA5_CanadianBorder_to_Nuvuk_10mDepth.nc'\n",
    "\n",
    "fpath = os.path.join(os.getcwd(), \"raw_datasets/engelstad/\", fname)\n",
    "\n",
    "ds = xr.open_dataset(fpath, chunks={'t':1000})\n",
    "\n",
    "print(ds)"
   ]
  },
  {
   "cell_type": "markdown",
   "metadata": {},
   "source": [
    "Or this is how Kees does it:"
   ]
  },
  {
   "cell_type": "code",
   "execution_count": null,
   "metadata": {},
   "outputs": [],
   "source": [
    "import netCDF4 as nc\n",
    "\n",
    "# Open the NetCDF file\n",
    "file_path = 'your_file.nc'  # Replace with your file path\n",
    "dataset = nc.Dataset(fpath, 'r')\n",
    "\n",
    "# Explore the file to see the variable names\n",
    "print(dataset.variables.keys())  # This will show the available variables in the NetCDF file\n",
    "\n",
    "# Assuming the variable names are 'longitude' and 'latitude', adjust if necessary\n",
    "longitude = dataset.variables['longitude'][:]  # Replace 'longitude' with the actual name if different\n",
    "latitude = dataset.variables['latitude'][:]    # Replace 'latitude' with the actual name if different\n",
    "\n",
    "# Close the dataset after reading\n",
    "dataset.close()\n",
    "\n",
    "# Print the longitude and latitude data\n",
    "print(\"Longitude:\", longitude)\n",
    "print(\"Latitude:\", latitude)"
   ]
  },
  {
   "cell_type": "markdown",
   "metadata": {},
   "source": [
    "Let's have a look at the decoded transect id's."
   ]
  },
  {
   "cell_type": "code",
   "execution_count": 4,
   "metadata": {},
   "outputs": [
    {
     "name": "stdout",
     "output_type": "stream",
     "text": [
      "['ECB_10_1298' 'ECB_10_1306' 'ECB_10_1314' ... 'SWB_9_608  ' 'SWB_9_616  '\n",
      " 'SWB_9_624  ']\n"
     ]
    }
   ],
   "source": [
    "transect_ids = []\n",
    "\n",
    "for row in ds.transect.values.T:\n",
    "    id = ''.join(x.decode('UTF-8') for x in row)\n",
    "    transect_ids.append(id)\n",
    "    \n",
    "transect_ids = np.array(transect_ids, dtype=str)\n",
    "\n",
    "print(transect_ids)"
   ]
  },
  {
   "cell_type": "markdown",
   "metadata": {},
   "source": [
    "Let's plot these points on a map, to see if these id's make sense. First construct a geopandas dataframe."
   ]
  },
  {
   "cell_type": "code",
   "execution_count": 23,
   "metadata": {},
   "outputs": [
    {
     "name": "stderr",
     "output_type": "stream",
     "text": [
      "c:\\Users\\bruij_kn\\AppData\\Local\\mambaforge\\envs\\thesis\\Lib\\site-packages\\geopandas\\geodataframe.py:57: UserWarning: Cannot set the CRS, falling back to None. The CRS support requires the 'pyproj' package, but it is not installed or does not import correctly. The functions depending on CRS will raise an error or may produce unexpected results.\n",
      "  data.crs = crs\n",
      "c:\\Users\\bruij_kn\\AppData\\Local\\mambaforge\\envs\\thesis\\Lib\\site-packages\\geopandas\\geodataframe.py:409: UserWarning: Cannot set the CRS, falling back to None. The CRS support requires the 'pyproj' package, but it is not installed or does not import correctly. The functions depending on CRS will raise an error or may produce unexpected results.\n",
      "  level.crs = crs\n"
     ]
    }
   ],
   "source": [
    "gdf = gpd.GeoDataFrame(\n",
    "    pd.DataFrame(\n",
    "        {\n",
    "            \"ID\":transect_ids,\n",
    "            \"Color\":np.array(['red' if 'EEB' in x else 'blue' for x in transect_ids], dtype='str'),\n",
    "            'Longitude':ds.longitude.values,\n",
    "            'Latitude':ds.latitude.values\n",
    "        }\n",
    "    ),\n",
    "    geometry=gpd.points_from_xy(ds.longitude.values, ds.latitude.values),\n",
    "    crs='4326'\n",
    ")"
   ]
  },
  {
   "cell_type": "code",
   "execution_count": 25,
   "metadata": {},
   "outputs": [
    {
     "data": {
      "text/plain": [
       "dict_keys(['geoda.airbnb', 'geoda.atlanta', 'geoda.cars', 'geoda.charleston1', 'geoda.charleston2', 'geoda.chicago_health', 'geoda.chicago_commpop', 'geoda.chile_labor', 'geoda.cincinnati', 'geoda.cleveland', 'geoda.grid100', 'geoda.groceries', 'geoda.guerry', 'geoda.health', 'geoda.health_indicators', 'geoda.hickory1', 'geoda.hickory2', 'geoda.home_sales', 'geoda.houston', 'geoda.juvenile', 'geoda.lansing1', 'geoda.lansing2', 'geoda.lasrosas', 'geoda.liquor_stores', 'geoda.malaria', 'geoda.milwaukee1', 'geoda.milwaukee2', 'geoda.ncovr', 'geoda.natregimes', 'geoda.ndvi', 'geoda.nepal', 'geoda.nyc', 'geoda.nyc_earnings', 'geoda.nyc_education', 'geoda.nyc_neighborhoods', 'geoda.orlando1', 'geoda.orlando2', 'geoda.oz9799', 'geoda.phoenix_acs', 'geoda.police', 'geoda.sacramento1', 'geoda.sacramento2', 'geoda.savannah1', 'geoda.savannah2', 'geoda.seattle1', 'geoda.seattle2', 'geoda.sids', 'geoda.sids2', 'geoda.south', 'geoda.spirals', 'geoda.stlouis', 'geoda.tampa1', 'geoda.us_sdoh', 'ny.bb', 'eea.large_rivers', 'abs.australia', 'abs.australia_states_territories', 'naturalearth.land'])"
      ]
     },
     "execution_count": 25,
     "metadata": {},
     "output_type": "execute_result"
    }
   ],
   "source": [
    "geodatasets.data.flatten().keys()"
   ]
  },
  {
   "cell_type": "markdown",
   "metadata": {},
   "source": [
    "And we plot."
   ]
  },
  {
   "cell_type": "code",
   "execution_count": 94,
   "metadata": {},
   "outputs": [
    {
     "data": {},
     "metadata": {},
     "output_type": "display_data"
    },
    {
     "data": {
      "application/vnd.holoviews_exec.v0+json": "",
      "text/html": [
       "<div id='p1349'>\n",
       "  <div id=\"c4727e73-b916-4f3e-af5c-9011bb01152d\" data-root-id=\"p1349\" style=\"display: contents;\"></div>\n",
       "</div>\n",
       "<script type=\"application/javascript\">(function(root) {\n",
       "  var docs_json = {\"10e61773-a96d-461b-b7a1-4128fe162842\":{\"version\":\"3.4.3\",\"title\":\"Bokeh Application\",\"roots\":[{\"type\":\"object\",\"name\":\"Row\",\"id\":\"p1349\",\"attributes\":{\"name\":\"Row02196\",\"tags\":[\"embedded\"],\"stylesheets\":[\"\\n:host(.pn-loading):before, .pn-loading:before {\\n  background-color: #c3c3c3;\\n  mask-size: auto calc(min(50%, 400px));\\n  -webkit-mask-size: auto calc(min(50%, 400px));\\n}\",{\"type\":\"object\",\"name\":\"ImportedStyleSheet\",\"id\":\"p1352\",\"attributes\":{\"url\":\"https://cdn.holoviz.org/panel/1.4.5/dist/css/loading.css\"}},{\"type\":\"object\",\"name\":\"ImportedStyleSheet\",\"id\":\"p1449\",\"attributes\":{\"url\":\"https://cdn.holoviz.org/panel/1.4.5/dist/css/listpanel.css\"}},{\"type\":\"object\",\"name\":\"ImportedStyleSheet\",\"id\":\"p1350\",\"attributes\":{\"url\":\"https://cdn.holoviz.org/panel/1.4.5/dist/bundled/theme/default.css\"}},{\"type\":\"object\",\"name\":\"ImportedStyleSheet\",\"id\":\"p1351\",\"attributes\":{\"url\":\"https://cdn.holoviz.org/panel/1.4.5/dist/bundled/theme/native.css\"}}],\"margin\":0,\"sizing_mode\":\"stretch_width\",\"align\":\"start\",\"children\":[{\"type\":\"object\",\"name\":\"Spacer\",\"id\":\"p1353\",\"attributes\":{\"name\":\"HSpacer02202\",\"stylesheets\":[\"\\n:host(.pn-loading):before, .pn-loading:before {\\n  background-color: #c3c3c3;\\n  mask-size: auto calc(min(50%, 400px));\\n  -webkit-mask-size: auto calc(min(50%, 400px));\\n}\",{\"id\":\"p1352\"},{\"id\":\"p1350\"},{\"id\":\"p1351\"}],\"margin\":0,\"sizing_mode\":\"stretch_width\",\"align\":\"start\"}},{\"type\":\"object\",\"name\":\"Figure\",\"id\":\"p1392\",\"attributes\":{\"width\":null,\"height\":null,\"margin\":[5,10],\"sizing_mode\":\"fixed\",\"align\":\"start\",\"x_range\":{\"type\":\"object\",\"name\":\"Range1d\",\"id\":\"p1363\",\"attributes\":{\"tags\":[[[\"Longitude\",null]],[]],\"start\":-16003051.617133519,\"end\":-15986763.663152914,\"reset_start\":-16003051.617133519,\"reset_end\":-15986763.663152914,\"min_interval\":5}},\"y_range\":{\"type\":\"object\",\"name\":\"Range1d\",\"id\":\"p1364\",\"attributes\":{\"tags\":[[[\"Latitude\",null]],{\"type\":\"map\",\"entries\":[[\"invert_yaxis\",false],[\"autorange\",false]]}],\"start\":11115563.476705397,\"end\":11120423.28106464,\"reset_start\":11115563.476705397,\"reset_end\":11120423.28106464,\"min_interval\":5}},\"x_scale\":{\"type\":\"object\",\"name\":\"LinearScale\",\"id\":\"p1402\"},\"y_scale\":{\"type\":\"object\",\"name\":\"LinearScale\",\"id\":\"p1403\"},\"title\":{\"type\":\"object\",\"name\":\"Title\",\"id\":\"p1395\",\"attributes\":{\"text_color\":\"black\",\"text_font_size\":\"12pt\"}},\"renderers\":[{\"type\":\"object\",\"name\":\"TileRenderer\",\"id\":\"p1426\",\"attributes\":{\"level\":\"underlay\",\"tile_source\":{\"type\":\"object\",\"name\":\"WMTSTileSource\",\"id\":\"p1422\",\"attributes\":{\"url\":\"https://server.arcgisonline.com/ArcGIS/rest/services/World_Imagery/MapServer/tile/{Z}/{Y}/{X}.jpg\",\"attribution\":\"&copy; <a href=\\\"http://downloads.esri.com/ArcGISOnline/docs/tou_summary.pdf\\\">Esri</a>, Earthstar Geographics\"}}}},{\"type\":\"object\",\"name\":\"GlyphRenderer\",\"id\":\"p1441\",\"attributes\":{\"data_source\":{\"type\":\"object\",\"name\":\"ColumnDataSource\",\"id\":\"p1430\",\"attributes\":{\"selected\":{\"type\":\"object\",\"name\":\"Selection\",\"id\":\"p1431\",\"attributes\":{\"indices\":[],\"line_indices\":[]}},\"selection_policy\":{\"type\":\"object\",\"name\":\"UnionRenderers\",\"id\":\"p1432\"},\"data\":{\"type\":\"map\",\"entries\":[[\"Longitude\",{\"type\":\"ndarray\",\"array\":{\"type\":\"bytes\",\"data\":\"w94zHLN+bsFMsrl2Rn9uwXoDF4Tbf27Biv3++iSAbsFAdb4kcIBuwbrWwPsEgW7BfkhonJmBbsGBbSfnK4JuwZHvc1HAgm7BgxpLJQmDbsEecB3qMIRuwfLL4xp5hG7Bx68OPwyFbsF9PMTMU4VuwYjIdsn8fm7BegMXhNt/bsF6AxeE239uwXoDF4Tbf27Biv3++iSAbsFAdb4kcIBuwRXhTTxOgW7Bke9zUcCCbsGR73NRwIJuwZHvc1HAgm7BEjhPFcGEbsESOE8VwYRuwRI4TxXBhG7BfTzEzFOFbsE=\"},\"shape\":[28],\"dtype\":\"float64\",\"order\":\"little\"}],[\"Latitude\",{\"type\":\"ndarray\",\"array\":{\"type\":\"bytes\",\"data\":\"JOG52dE1ZUG62YRaiDVlQaU8U4NiNWVB2Y3jjD41ZUEtVZCsPDVlQaAgPNYWNWVBTJxWAPE0ZUFDsVxmqTRlQaPrrUGDNGVBGmuznV80ZUF/ICqWDzRlQf6PV7PqM2VB3laLQL8zZUGak4d+mDNlQdnf4vGsNWVBpTxTg2I1ZUGlPFODYjVlQaU8U4NiNWVB2Y3jjD41ZUEtVZCsPDVlQcDanuDyNGVBo+utQYM0ZUGj661BgzRlQaPrrUGDNGVBYGfpgMUzZUFgZ+mAxTNlQWBn6YDFM2VBmpOHfpgzZUE=\"},\"shape\":[28],\"dtype\":\"float64\",\"order\":\"little\"}],[\"A__color\",[\"red\",\"red\",\"red\",\"red\",\"red\",\"red\",\"red\",\"red\",\"red\",\"red\",\"red\",\"red\",\"red\",\"red\",\"red\",\"blue\",\"blue\",\"blue\",\"blue\",\"blue\",\"blue\",\"blue\",\"blue\",\"blue\",\"blue\",\"blue\",\"blue\",\"blue\"]],[\"color\",[\"red\",\"red\",\"red\",\"red\",\"red\",\"red\",\"red\",\"red\",\"red\",\"red\",\"red\",\"red\",\"red\",\"red\",\"red\",\"blue\",\"blue\",\"blue\",\"blue\",\"blue\",\"blue\",\"blue\",\"blue\",\"blue\",\"blue\",\"blue\",\"blue\",\"blue\"]]]}}},\"view\":{\"type\":\"object\",\"name\":\"CDSView\",\"id\":\"p1442\",\"attributes\":{\"filter\":{\"type\":\"object\",\"name\":\"AllIndices\",\"id\":\"p1443\"}}},\"glyph\":{\"type\":\"object\",\"name\":\"Scatter\",\"id\":\"p1436\",\"attributes\":{\"tags\":[\"apply_ranges\"],\"x\":{\"type\":\"field\",\"field\":\"Longitude\"},\"y\":{\"type\":\"field\",\"field\":\"Latitude\"},\"size\":{\"type\":\"value\",\"value\":5.477225575051661},\"line_color\":{\"type\":\"field\",\"field\":\"color\"},\"fill_color\":{\"type\":\"field\",\"field\":\"color\"},\"hatch_color\":{\"type\":\"field\",\"field\":\"color\"}}},\"selection_glyph\":{\"type\":\"object\",\"name\":\"Scatter\",\"id\":\"p1438\",\"attributes\":{\"tags\":[\"apply_ranges\"],\"x\":{\"type\":\"field\",\"field\":\"Longitude\"},\"y\":{\"type\":\"field\",\"field\":\"Latitude\"},\"size\":{\"type\":\"value\",\"value\":5.477225575051661},\"line_color\":{\"type\":\"field\",\"field\":\"color\"},\"fill_color\":{\"type\":\"field\",\"field\":\"color\"},\"hatch_color\":{\"type\":\"field\",\"field\":\"color\"}}},\"nonselection_glyph\":{\"type\":\"object\",\"name\":\"Scatter\",\"id\":\"p1437\",\"attributes\":{\"tags\":[\"apply_ranges\"],\"x\":{\"type\":\"field\",\"field\":\"Longitude\"},\"y\":{\"type\":\"field\",\"field\":\"Latitude\"},\"size\":{\"type\":\"value\",\"value\":5.477225575051661},\"line_color\":{\"type\":\"field\",\"field\":\"color\"},\"line_alpha\":{\"type\":\"value\",\"value\":0.1},\"fill_color\":{\"type\":\"field\",\"field\":\"color\"},\"fill_alpha\":{\"type\":\"value\",\"value\":0.1},\"hatch_color\":{\"type\":\"field\",\"field\":\"color\"},\"hatch_alpha\":{\"type\":\"value\",\"value\":0.1}}},\"hover_glyph\":{\"type\":\"object\",\"name\":\"Scatter\",\"id\":\"p1439\",\"attributes\":{\"tags\":[\"apply_ranges\"],\"x\":{\"type\":\"field\",\"field\":\"Longitude\"},\"y\":{\"type\":\"field\",\"field\":\"Latitude\"},\"size\":{\"type\":\"value\",\"value\":5.477225575051661},\"line_color\":{\"type\":\"field\",\"field\":\"color\"},\"fill_color\":{\"type\":\"field\",\"field\":\"color\"},\"hatch_color\":{\"type\":\"field\",\"field\":\"color\"}}},\"muted_glyph\":{\"type\":\"object\",\"name\":\"Scatter\",\"id\":\"p1440\",\"attributes\":{\"tags\":[\"apply_ranges\"],\"x\":{\"type\":\"field\",\"field\":\"Longitude\"},\"y\":{\"type\":\"field\",\"field\":\"Latitude\"},\"size\":{\"type\":\"value\",\"value\":5.477225575051661},\"line_color\":{\"type\":\"field\",\"field\":\"color\"},\"line_alpha\":{\"type\":\"value\",\"value\":0.2},\"fill_color\":{\"type\":\"field\",\"field\":\"color\"},\"fill_alpha\":{\"type\":\"value\",\"value\":0.2},\"hatch_color\":{\"type\":\"field\",\"field\":\"color\"},\"hatch_alpha\":{\"type\":\"value\",\"value\":0.2}}}}}],\"toolbar\":{\"type\":\"object\",\"name\":\"Toolbar\",\"id\":\"p1401\",\"attributes\":{\"tools\":[{\"type\":\"object\",\"name\":\"WheelZoomTool\",\"id\":\"p1367\",\"attributes\":{\"renderers\":\"auto\",\"zoom_on_axis\":false}},{\"type\":\"object\",\"name\":\"BoxZoomTool\",\"id\":\"p1373\",\"attributes\":{\"overlay\":{\"type\":\"object\",\"name\":\"BoxAnnotation\",\"id\":\"p1368\",\"attributes\":{\"syncable\":false,\"level\":\"overlay\",\"visible\":false,\"left\":{\"type\":\"number\",\"value\":\"nan\"},\"right\":{\"type\":\"number\",\"value\":\"nan\"},\"top\":{\"type\":\"number\",\"value\":\"nan\"},\"bottom\":{\"type\":\"number\",\"value\":\"nan\"},\"left_units\":\"canvas\",\"right_units\":\"canvas\",\"top_units\":\"canvas\",\"bottom_units\":\"canvas\",\"line_color\":\"black\",\"line_alpha\":1.0,\"line_width\":2,\"line_dash\":[4,4],\"fill_color\":\"lightgrey\",\"fill_alpha\":0.5}},\"match_aspect\":true}},{\"type\":\"object\",\"name\":\"HoverTool\",\"id\":\"p1391\",\"attributes\":{\"tags\":[\"hv_created\"],\"renderers\":[{\"id\":\"p1441\"}],\"tooltips\":[[\"Longitude\",\"$x{custom}\"],[\"Latitude\",\"$y{custom}\"],[\"_color\",\"@{A__color}\"]],\"formatters\":{\"type\":\"map\",\"entries\":[[\"$x\",{\"type\":\"object\",\"name\":\"CustomJSHover\",\"id\":\"p1428\",\"attributes\":{\"code\":\"\\n        const projections = Bokeh.require(\\\"core/util/projections\\\");\\n        const {snap_x, snap_y} = special_vars\\n        const coords = projections.wgs84_mercator.invert(snap_x, snap_y)\\n        return \\\"\\\" + (coords[0]).toFixed(4)\\n    \"}}],[\"$y\",{\"type\":\"object\",\"name\":\"CustomJSHover\",\"id\":\"p1429\",\"attributes\":{\"code\":\"\\n        const projections = Bokeh.require(\\\"core/util/projections\\\");\\n        const {snap_x, snap_y} = special_vars\\n        const coords = projections.wgs84_mercator.invert(snap_x, snap_y)\\n        return \\\"\\\" + (coords[1]).toFixed(4)\\n    \"}}]]}}},{\"type\":\"object\",\"name\":\"PanTool\",\"id\":\"p1415\"},{\"type\":\"object\",\"name\":\"ResetTool\",\"id\":\"p1416\"},{\"type\":\"object\",\"name\":\"TapTool\",\"id\":\"p1417\",\"attributes\":{\"renderers\":\"auto\"}}],\"active_drag\":{\"id\":\"p1415\"}}},\"left\":[{\"type\":\"object\",\"name\":\"LinearAxis\",\"id\":\"p1409\",\"attributes\":{\"ticker\":{\"type\":\"object\",\"name\":\"MercatorTicker\",\"id\":\"p1420\",\"attributes\":{\"mantissas\":[1,2,5],\"dimension\":\"lat\"}},\"formatter\":{\"type\":\"object\",\"name\":\"MercatorTickFormatter\",\"id\":\"p1421\",\"attributes\":{\"dimension\":\"lat\"}},\"axis_label\":\"Latitude\",\"major_label_policy\":{\"type\":\"object\",\"name\":\"AllLabels\",\"id\":\"p1412\"}}}],\"below\":[{\"type\":\"object\",\"name\":\"LinearAxis\",\"id\":\"p1404\",\"attributes\":{\"ticker\":{\"type\":\"object\",\"name\":\"MercatorTicker\",\"id\":\"p1418\",\"attributes\":{\"mantissas\":[1,2,5],\"dimension\":\"lon\"}},\"formatter\":{\"type\":\"object\",\"name\":\"MercatorTickFormatter\",\"id\":\"p1419\",\"attributes\":{\"dimension\":\"lon\"}},\"axis_label\":\"Longitude\",\"major_label_policy\":{\"type\":\"object\",\"name\":\"AllLabels\",\"id\":\"p1407\"}}}],\"center\":[{\"type\":\"object\",\"name\":\"Grid\",\"id\":\"p1408\",\"attributes\":{\"axis\":{\"id\":\"p1404\"},\"grid_line_color\":null}},{\"type\":\"object\",\"name\":\"Grid\",\"id\":\"p1413\",\"attributes\":{\"dimension\":1,\"axis\":{\"id\":\"p1409\"},\"grid_line_color\":null}}],\"frame_width\":1005,\"frame_height\":300,\"min_border_top\":10,\"min_border_bottom\":10,\"min_border_left\":10,\"min_border_right\":10,\"output_backend\":\"webgl\",\"match_aspect\":true}},{\"type\":\"object\",\"name\":\"Spacer\",\"id\":\"p1447\",\"attributes\":{\"name\":\"HSpacer02203\",\"stylesheets\":[\"\\n:host(.pn-loading):before, .pn-loading:before {\\n  background-color: #c3c3c3;\\n  mask-size: auto calc(min(50%, 400px));\\n  -webkit-mask-size: auto calc(min(50%, 400px));\\n}\",{\"id\":\"p1352\"},{\"id\":\"p1350\"},{\"id\":\"p1351\"}],\"margin\":0,\"sizing_mode\":\"stretch_width\",\"align\":\"start\"}}]}}],\"defs\":[{\"type\":\"model\",\"name\":\"ReactiveHTML1\"},{\"type\":\"model\",\"name\":\"FlexBox1\",\"properties\":[{\"name\":\"align_content\",\"kind\":\"Any\",\"default\":\"flex-start\"},{\"name\":\"align_items\",\"kind\":\"Any\",\"default\":\"flex-start\"},{\"name\":\"flex_direction\",\"kind\":\"Any\",\"default\":\"row\"},{\"name\":\"flex_wrap\",\"kind\":\"Any\",\"default\":\"wrap\"},{\"name\":\"gap\",\"kind\":\"Any\",\"default\":\"\"},{\"name\":\"justify_content\",\"kind\":\"Any\",\"default\":\"flex-start\"}]},{\"type\":\"model\",\"name\":\"FloatPanel1\",\"properties\":[{\"name\":\"config\",\"kind\":\"Any\",\"default\":{\"type\":\"map\"}},{\"name\":\"contained\",\"kind\":\"Any\",\"default\":true},{\"name\":\"position\",\"kind\":\"Any\",\"default\":\"right-top\"},{\"name\":\"offsetx\",\"kind\":\"Any\",\"default\":null},{\"name\":\"offsety\",\"kind\":\"Any\",\"default\":null},{\"name\":\"theme\",\"kind\":\"Any\",\"default\":\"primary\"},{\"name\":\"status\",\"kind\":\"Any\",\"default\":\"normalized\"}]},{\"type\":\"model\",\"name\":\"GridStack1\",\"properties\":[{\"name\":\"mode\",\"kind\":\"Any\",\"default\":\"warn\"},{\"name\":\"ncols\",\"kind\":\"Any\",\"default\":null},{\"name\":\"nrows\",\"kind\":\"Any\",\"default\":null},{\"name\":\"allow_resize\",\"kind\":\"Any\",\"default\":true},{\"name\":\"allow_drag\",\"kind\":\"Any\",\"default\":true},{\"name\":\"state\",\"kind\":\"Any\",\"default\":[]}]},{\"type\":\"model\",\"name\":\"drag1\",\"properties\":[{\"name\":\"slider_width\",\"kind\":\"Any\",\"default\":5},{\"name\":\"slider_color\",\"kind\":\"Any\",\"default\":\"black\"},{\"name\":\"value\",\"kind\":\"Any\",\"default\":50}]},{\"type\":\"model\",\"name\":\"click1\",\"properties\":[{\"name\":\"terminal_output\",\"kind\":\"Any\",\"default\":\"\"},{\"name\":\"debug_name\",\"kind\":\"Any\",\"default\":\"\"},{\"name\":\"clears\",\"kind\":\"Any\",\"default\":0}]},{\"type\":\"model\",\"name\":\"FastWrapper1\",\"properties\":[{\"name\":\"object\",\"kind\":\"Any\",\"default\":null},{\"name\":\"style\",\"kind\":\"Any\",\"default\":null}]},{\"type\":\"model\",\"name\":\"NotificationAreaBase1\",\"properties\":[{\"name\":\"js_events\",\"kind\":\"Any\",\"default\":{\"type\":\"map\"}},{\"name\":\"position\",\"kind\":\"Any\",\"default\":\"bottom-right\"},{\"name\":\"_clear\",\"kind\":\"Any\",\"default\":0}]},{\"type\":\"model\",\"name\":\"NotificationArea1\",\"properties\":[{\"name\":\"js_events\",\"kind\":\"Any\",\"default\":{\"type\":\"map\"}},{\"name\":\"notifications\",\"kind\":\"Any\",\"default\":[]},{\"name\":\"position\",\"kind\":\"Any\",\"default\":\"bottom-right\"},{\"name\":\"_clear\",\"kind\":\"Any\",\"default\":0},{\"name\":\"types\",\"kind\":\"Any\",\"default\":[{\"type\":\"map\",\"entries\":[[\"type\",\"warning\"],[\"background\",\"#ffc107\"],[\"icon\",{\"type\":\"map\",\"entries\":[[\"className\",\"fas fa-exclamation-triangle\"],[\"tagName\",\"i\"],[\"color\",\"white\"]]}]]},{\"type\":\"map\",\"entries\":[[\"type\",\"info\"],[\"background\",\"#007bff\"],[\"icon\",{\"type\":\"map\",\"entries\":[[\"className\",\"fas fa-info-circle\"],[\"tagName\",\"i\"],[\"color\",\"white\"]]}]]}]}]},{\"type\":\"model\",\"name\":\"Notification\",\"properties\":[{\"name\":\"background\",\"kind\":\"Any\",\"default\":null},{\"name\":\"duration\",\"kind\":\"Any\",\"default\":3000},{\"name\":\"icon\",\"kind\":\"Any\",\"default\":null},{\"name\":\"message\",\"kind\":\"Any\",\"default\":\"\"},{\"name\":\"notification_type\",\"kind\":\"Any\",\"default\":null},{\"name\":\"_destroyed\",\"kind\":\"Any\",\"default\":false}]},{\"type\":\"model\",\"name\":\"TemplateActions1\",\"properties\":[{\"name\":\"open_modal\",\"kind\":\"Any\",\"default\":0},{\"name\":\"close_modal\",\"kind\":\"Any\",\"default\":0}]},{\"type\":\"model\",\"name\":\"BootstrapTemplateActions1\",\"properties\":[{\"name\":\"open_modal\",\"kind\":\"Any\",\"default\":0},{\"name\":\"close_modal\",\"kind\":\"Any\",\"default\":0}]},{\"type\":\"model\",\"name\":\"TemplateEditor1\",\"properties\":[{\"name\":\"layout\",\"kind\":\"Any\",\"default\":[]}]},{\"type\":\"model\",\"name\":\"MaterialTemplateActions1\",\"properties\":[{\"name\":\"open_modal\",\"kind\":\"Any\",\"default\":0},{\"name\":\"close_modal\",\"kind\":\"Any\",\"default\":0}]},{\"type\":\"model\",\"name\":\"copy_to_clipboard1\",\"properties\":[{\"name\":\"fill\",\"kind\":\"Any\",\"default\":\"none\"},{\"name\":\"value\",\"kind\":\"Any\",\"default\":null}]}]}};\n",
       "  var render_items = [{\"docid\":\"10e61773-a96d-461b-b7a1-4128fe162842\",\"roots\":{\"p1349\":\"c4727e73-b916-4f3e-af5c-9011bb01152d\"},\"root_ids\":[\"p1349\"]}];\n",
       "  var docs = Object.values(docs_json)\n",
       "  if (!docs) {\n",
       "    return\n",
       "  }\n",
       "  const py_version = docs[0].version.replace('rc', '-rc.').replace('.dev', '-dev.')\n",
       "  async function embed_document(root) {\n",
       "    var Bokeh = get_bokeh(root)\n",
       "    await Bokeh.embed.embed_items_notebook(docs_json, render_items);\n",
       "    for (const render_item of render_items) {\n",
       "      for (const root_id of render_item.root_ids) {\n",
       "\tconst id_el = document.getElementById(root_id)\n",
       "\tif (id_el.children.length && id_el.children[0].hasAttribute('data-root-id')) {\n",
       "\t  const root_el = id_el.children[0]\n",
       "\t  root_el.id = root_el.id + '-rendered'\n",
       "\t  for (const child of root_el.children) {\n",
       "            // Ensure JupyterLab does not capture keyboard shortcuts\n",
       "            // see: https://jupyterlab.readthedocs.io/en/4.1.x/extension/notebook.html#keyboard-interaction-model\n",
       "\t    child.setAttribute('data-lm-suppress-shortcuts', 'true')\n",
       "\t  }\n",
       "\t}\n",
       "      }\n",
       "    }\n",
       "  }\n",
       "  function get_bokeh(root) {\n",
       "    if (root.Bokeh === undefined) {\n",
       "      return null\n",
       "    } else if (root.Bokeh.version !== py_version) {\n",
       "      if (root.Bokeh.versions === undefined || !root.Bokeh.versions.has(py_version)) {\n",
       "\treturn null\n",
       "      }\n",
       "      return root.Bokeh.versions.get(py_version);\n",
       "    } else if (root.Bokeh.version === py_version) {\n",
       "      return root.Bokeh\n",
       "    }\n",
       "    return null\n",
       "  }\n",
       "  function is_loaded(root) {\n",
       "    var Bokeh = get_bokeh(root)\n",
       "    return (Bokeh != null && Bokeh.Panel !== undefined)\n",
       "  }\n",
       "  if (is_loaded(root)) {\n",
       "    embed_document(root);\n",
       "  } else {\n",
       "    var attempts = 0;\n",
       "    var timer = setInterval(function(root) {\n",
       "      if (is_loaded(root)) {\n",
       "        clearInterval(timer);\n",
       "        embed_document(root);\n",
       "      } else if (document.readyState == \"complete\") {\n",
       "        attempts++;\n",
       "        if (attempts > 200) {\n",
       "          clearInterval(timer);\n",
       "\t  var Bokeh = get_bokeh(root)\n",
       "\t  if (Bokeh == null || Bokeh.Panel == null) {\n",
       "            console.warn(\"Panel: ERROR: Unable to run Panel code because Bokeh or Panel library is missing\");\n",
       "\t  } else {\n",
       "\t    console.warn(\"Panel: WARNING: Attempting to render but not all required libraries could be resolved.\")\n",
       "\t    embed_document(root)\n",
       "\t  }\n",
       "        }\n",
       "      }\n",
       "    }, 25, root)\n",
       "  }\n",
       "})(window);</script>"
      ],
      "text/plain": [
       ":Overlay\n",
       "   .WMTS.I   :WMTS   [Longitude,Latitude]\n",
       "   .Points.I :Points   [Longitude,Latitude]   (_color)"
      ]
     },
     "execution_count": 94,
     "metadata": {
      "application/vnd.holoviews_exec.v0+json": {
       "id": "p1349"
      }
     },
     "output_type": "execute_result"
    }
   ],
   "source": [
    "masked_gdf = gdf.query(\"Longitude > -143.75\").query(\"Longitude < -143.62\")\n",
    "\n",
    "points = masked_gdf.hvplot.points(geo=True,\n",
    "            tiles=\"ESRI\", color=masked_gdf.Color, tools=['tap'])\n",
    "\n",
    "points"
   ]
  },
  {
   "cell_type": "code",
   "execution_count": 98,
   "metadata": {},
   "outputs": [
    {
     "data": {
      "text/html": [
       "<div>\n",
       "<style scoped>\n",
       "    .dataframe tbody tr th:only-of-type {\n",
       "        vertical-align: middle;\n",
       "    }\n",
       "\n",
       "    .dataframe tbody tr th {\n",
       "        vertical-align: top;\n",
       "    }\n",
       "\n",
       "    .dataframe thead th {\n",
       "        text-align: right;\n",
       "    }\n",
       "</style>\n",
       "<table border=\"1\" class=\"dataframe\">\n",
       "  <thead>\n",
       "    <tr style=\"text-align: right;\">\n",
       "      <th></th>\n",
       "      <th>ID</th>\n",
       "      <th>Color</th>\n",
       "      <th>Longitude</th>\n",
       "      <th>Latitude</th>\n",
       "      <th>geometry</th>\n",
       "    </tr>\n",
       "  </thead>\n",
       "  <tbody>\n",
       "    <tr>\n",
       "      <th>492</th>\n",
       "      <td>EEB_10_2417</td>\n",
       "      <td>red</td>\n",
       "      <td>-143.623734</td>\n",
       "      <td>70.157799</td>\n",
       "      <td>POINT (-143.62373 70.1578)</td>\n",
       "    </tr>\n",
       "    <tr>\n",
       "      <th>493</th>\n",
       "      <td>EEB_10_2425</td>\n",
       "      <td>red</td>\n",
       "      <td>-143.634323</td>\n",
       "      <td>70.156006</td>\n",
       "      <td>POINT (-143.63432 70.15601)</td>\n",
       "    </tr>\n",
       "    <tr>\n",
       "      <th>494</th>\n",
       "      <td>EEB_10_2433</td>\n",
       "      <td>red</td>\n",
       "      <td>-143.645035</td>\n",
       "      <td>70.155083</td>\n",
       "      <td>POINT (-143.64503 70.15508)</td>\n",
       "    </tr>\n",
       "    <tr>\n",
       "      <th>495</th>\n",
       "      <td>EEB_10_2441</td>\n",
       "      <td>red</td>\n",
       "      <td>-143.650314</td>\n",
       "      <td>70.154205</td>\n",
       "      <td>POINT (-143.65031 70.15421)</td>\n",
       "    </tr>\n",
       "    <tr>\n",
       "      <th>496</th>\n",
       "      <td>EEB_10_2449</td>\n",
       "      <td>red</td>\n",
       "      <td>-143.655716</td>\n",
       "      <td>70.154160</td>\n",
       "      <td>POINT (-143.65572 70.15416)</td>\n",
       "    </tr>\n",
       "    <tr>\n",
       "      <th>497</th>\n",
       "      <td>EEB_10_2457</td>\n",
       "      <td>red</td>\n",
       "      <td>-143.666412</td>\n",
       "      <td>70.153236</td>\n",
       "      <td>POINT (-143.66641 70.15324)</td>\n",
       "    </tr>\n",
       "    <tr>\n",
       "      <th>498</th>\n",
       "      <td>EEB_10_2465</td>\n",
       "      <td>red</td>\n",
       "      <td>-143.677094</td>\n",
       "      <td>70.152313</td>\n",
       "      <td>POINT (-143.67709 70.15231)</td>\n",
       "    </tr>\n",
       "    <tr>\n",
       "      <th>499</th>\n",
       "      <td>EEB_10_2473</td>\n",
       "      <td>red</td>\n",
       "      <td>-143.687607</td>\n",
       "      <td>70.150566</td>\n",
       "      <td>POINT (-143.68761 70.15057)</td>\n",
       "    </tr>\n",
       "    <tr>\n",
       "      <th>500</th>\n",
       "      <td>EEB_10_2481</td>\n",
       "      <td>red</td>\n",
       "      <td>-143.698273</td>\n",
       "      <td>70.149635</td>\n",
       "      <td>POINT (-143.69827 70.14964)</td>\n",
       "    </tr>\n",
       "    <tr>\n",
       "      <th>501</th>\n",
       "      <td>EEB_10_2489</td>\n",
       "      <td>red</td>\n",
       "      <td>-143.703506</td>\n",
       "      <td>70.148766</td>\n",
       "      <td>POINT (-143.70351 70.14877)</td>\n",
       "    </tr>\n",
       "    <tr>\n",
       "      <th>502</th>\n",
       "      <td>EEB_10_2497</td>\n",
       "      <td>red</td>\n",
       "      <td>-143.724762</td>\n",
       "      <td>70.146812</td>\n",
       "      <td>POINT (-143.72476 70.14681)</td>\n",
       "    </tr>\n",
       "    <tr>\n",
       "      <th>503</th>\n",
       "      <td>EEB_10_2505</td>\n",
       "      <td>red</td>\n",
       "      <td>-143.729950</td>\n",
       "      <td>70.145912</td>\n",
       "      <td>POINT (-143.72995 70.14591)</td>\n",
       "    </tr>\n",
       "    <tr>\n",
       "      <th>504</th>\n",
       "      <td>EEB_10_2513</td>\n",
       "      <td>red</td>\n",
       "      <td>-143.740524</td>\n",
       "      <td>70.144852</td>\n",
       "      <td>POINT (-143.74052 70.14485)</td>\n",
       "    </tr>\n",
       "    <tr>\n",
       "      <th>505</th>\n",
       "      <td>EEB_10_2521</td>\n",
       "      <td>red</td>\n",
       "      <td>-143.745667</td>\n",
       "      <td>70.143906</td>\n",
       "      <td>POINT (-143.74567 70.14391)</td>\n",
       "    </tr>\n",
       "    <tr>\n",
       "      <th>840</th>\n",
       "      <td>EEB_9_2409</td>\n",
       "      <td>red</td>\n",
       "      <td>-143.629028</td>\n",
       "      <td>70.156898</td>\n",
       "      <td>POINT (-143.62903 70.1569)</td>\n",
       "    </tr>\n",
       "    <tr>\n",
       "      <th>2068</th>\n",
       "      <td>SEB_40_2122</td>\n",
       "      <td>blue</td>\n",
       "      <td>-143.645035</td>\n",
       "      <td>70.155083</td>\n",
       "      <td>POINT (-143.64503 70.15508)</td>\n",
       "    </tr>\n",
       "    <tr>\n",
       "      <th>2069</th>\n",
       "      <td>SEB_40_2130</td>\n",
       "      <td>blue</td>\n",
       "      <td>-143.645035</td>\n",
       "      <td>70.155083</td>\n",
       "      <td>POINT (-143.64503 70.15508)</td>\n",
       "    </tr>\n",
       "    <tr>\n",
       "      <th>2070</th>\n",
       "      <td>SEB_40_2138</td>\n",
       "      <td>blue</td>\n",
       "      <td>-143.645035</td>\n",
       "      <td>70.155083</td>\n",
       "      <td>POINT (-143.64503 70.15508)</td>\n",
       "    </tr>\n",
       "    <tr>\n",
       "      <th>2071</th>\n",
       "      <td>SEB_40_2146</td>\n",
       "      <td>blue</td>\n",
       "      <td>-143.650314</td>\n",
       "      <td>70.154205</td>\n",
       "      <td>POINT (-143.65031 70.15421)</td>\n",
       "    </tr>\n",
       "    <tr>\n",
       "      <th>2072</th>\n",
       "      <td>SEB_40_2154</td>\n",
       "      <td>blue</td>\n",
       "      <td>-143.655716</td>\n",
       "      <td>70.154160</td>\n",
       "      <td>POINT (-143.65572 70.15416)</td>\n",
       "    </tr>\n",
       "    <tr>\n",
       "      <th>2073</th>\n",
       "      <td>SEB_40_2162</td>\n",
       "      <td>blue</td>\n",
       "      <td>-143.671677</td>\n",
       "      <td>70.152359</td>\n",
       "      <td>POINT (-143.67168 70.15236)</td>\n",
       "    </tr>\n",
       "    <tr>\n",
       "      <th>2074</th>\n",
       "      <td>SEB_40_2170</td>\n",
       "      <td>blue</td>\n",
       "      <td>-143.698273</td>\n",
       "      <td>70.149635</td>\n",
       "      <td>POINT (-143.69827 70.14964)</td>\n",
       "    </tr>\n",
       "    <tr>\n",
       "      <th>2075</th>\n",
       "      <td>SEB_40_2178</td>\n",
       "      <td>blue</td>\n",
       "      <td>-143.698273</td>\n",
       "      <td>70.149635</td>\n",
       "      <td>POINT (-143.69827 70.14964)</td>\n",
       "    </tr>\n",
       "    <tr>\n",
       "      <th>2076</th>\n",
       "      <td>SEB_40_2186</td>\n",
       "      <td>blue</td>\n",
       "      <td>-143.698273</td>\n",
       "      <td>70.149635</td>\n",
       "      <td>POINT (-143.69827 70.14964)</td>\n",
       "    </tr>\n",
       "    <tr>\n",
       "      <th>2077</th>\n",
       "      <td>SEB_40_2194</td>\n",
       "      <td>blue</td>\n",
       "      <td>-143.735123</td>\n",
       "      <td>70.145004</td>\n",
       "      <td>POINT (-143.73512 70.145)</td>\n",
       "    </tr>\n",
       "    <tr>\n",
       "      <th>2078</th>\n",
       "      <td>SEB_40_2202</td>\n",
       "      <td>blue</td>\n",
       "      <td>-143.735123</td>\n",
       "      <td>70.145004</td>\n",
       "      <td>POINT (-143.73512 70.145)</td>\n",
       "    </tr>\n",
       "    <tr>\n",
       "      <th>2079</th>\n",
       "      <td>SEB_40_2210</td>\n",
       "      <td>blue</td>\n",
       "      <td>-143.735123</td>\n",
       "      <td>70.145004</td>\n",
       "      <td>POINT (-143.73512 70.145)</td>\n",
       "    </tr>\n",
       "    <tr>\n",
       "      <th>2080</th>\n",
       "      <td>SEB_46_2343</td>\n",
       "      <td>blue</td>\n",
       "      <td>-143.745667</td>\n",
       "      <td>70.143906</td>\n",
       "      <td>POINT (-143.74567 70.14391)</td>\n",
       "    </tr>\n",
       "  </tbody>\n",
       "</table>\n",
       "</div>"
      ],
      "text/plain": [
       "               ID Color   Longitude   Latitude                     geometry\n",
       "492   EEB_10_2417   red -143.623734  70.157799   POINT (-143.62373 70.1578)\n",
       "493   EEB_10_2425   red -143.634323  70.156006  POINT (-143.63432 70.15601)\n",
       "494   EEB_10_2433   red -143.645035  70.155083  POINT (-143.64503 70.15508)\n",
       "495   EEB_10_2441   red -143.650314  70.154205  POINT (-143.65031 70.15421)\n",
       "496   EEB_10_2449   red -143.655716  70.154160  POINT (-143.65572 70.15416)\n",
       "497   EEB_10_2457   red -143.666412  70.153236  POINT (-143.66641 70.15324)\n",
       "498   EEB_10_2465   red -143.677094  70.152313  POINT (-143.67709 70.15231)\n",
       "499   EEB_10_2473   red -143.687607  70.150566  POINT (-143.68761 70.15057)\n",
       "500   EEB_10_2481   red -143.698273  70.149635  POINT (-143.69827 70.14964)\n",
       "501   EEB_10_2489   red -143.703506  70.148766  POINT (-143.70351 70.14877)\n",
       "502   EEB_10_2497   red -143.724762  70.146812  POINT (-143.72476 70.14681)\n",
       "503   EEB_10_2505   red -143.729950  70.145912  POINT (-143.72995 70.14591)\n",
       "504   EEB_10_2513   red -143.740524  70.144852  POINT (-143.74052 70.14485)\n",
       "505   EEB_10_2521   red -143.745667  70.143906  POINT (-143.74567 70.14391)\n",
       "840   EEB_9_2409    red -143.629028  70.156898   POINT (-143.62903 70.1569)\n",
       "2068  SEB_40_2122  blue -143.645035  70.155083  POINT (-143.64503 70.15508)\n",
       "2069  SEB_40_2130  blue -143.645035  70.155083  POINT (-143.64503 70.15508)\n",
       "2070  SEB_40_2138  blue -143.645035  70.155083  POINT (-143.64503 70.15508)\n",
       "2071  SEB_40_2146  blue -143.650314  70.154205  POINT (-143.65031 70.15421)\n",
       "2072  SEB_40_2154  blue -143.655716  70.154160  POINT (-143.65572 70.15416)\n",
       "2073  SEB_40_2162  blue -143.671677  70.152359  POINT (-143.67168 70.15236)\n",
       "2074  SEB_40_2170  blue -143.698273  70.149635  POINT (-143.69827 70.14964)\n",
       "2075  SEB_40_2178  blue -143.698273  70.149635  POINT (-143.69827 70.14964)\n",
       "2076  SEB_40_2186  blue -143.698273  70.149635  POINT (-143.69827 70.14964)\n",
       "2077  SEB_40_2194  blue -143.735123  70.145004    POINT (-143.73512 70.145)\n",
       "2078  SEB_40_2202  blue -143.735123  70.145004    POINT (-143.73512 70.145)\n",
       "2079  SEB_40_2210  blue -143.735123  70.145004    POINT (-143.73512 70.145)\n",
       "2080  SEB_46_2343  blue -143.745667  70.143906  POINT (-143.74567 70.14391)"
      ]
     },
     "metadata": {},
     "output_type": "display_data"
    }
   ],
   "source": [
    "display(masked_gdf)"
   ]
  },
  {
   "cell_type": "code",
   "execution_count": 69,
   "metadata": {},
   "outputs": [
    {
     "name": "stdout",
     "output_type": "stream",
     "text": [
      "[0.54 0.54 0.54 ... 0.43 0.43 0.43]\n"
     ]
    }
   ],
   "source": [
    "# print(ds.transect.values[:,0])\n",
    "# print(ds.coords)\n",
    "# print(ds.attrs)\n",
    "\n",
    "Hs = ds.Hs.sel(time='2016-7-31T21:00:00').values\n",
    "\n",
    "# print(ds.Hs.coords)\n",
    "\n",
    "print(Hs)"
   ]
  },
  {
   "cell_type": "markdown",
   "metadata": {},
   "source": [
    "Can we use these transect ids as index?"
   ]
  },
  {
   "cell_type": "code",
   "execution_count": 95,
   "metadata": {},
   "outputs": [
    {
     "name": "stdout",
     "output_type": "stream",
     "text": [
      "[b'E' b'E' b'B' b'_' b'1' b'0' b'_' b'2' b'4' b'1' b'7']\n"
     ]
    }
   ],
   "source": [
    "def string_to_numpy_bytes(string):\n",
    "    # Convert each character in the string to a numpy.bytes_ object\n",
    "    bytes_array = np.array([np.bytes_(char.encode('utf-8')) for char in string], dtype=np.bytes_)\n",
    "    return bytes_array\n",
    "\n",
    "str_key = 'EEB_10_2417'\n",
    "byte_key = string_to_numpy_bytes(str_key)\n",
    "\n",
    "print(byte_key)"
   ]
  },
  {
   "cell_type": "markdown",
   "metadata": {},
   "source": [
    "Not really."
   ]
  },
  {
   "cell_type": "markdown",
   "metadata": {},
   "source": [
    "Then I will just assume the data is consistently ordered, and use indexing to get the correct data points."
   ]
  },
  {
   "cell_type": "code",
   "execution_count": 110,
   "metadata": {},
   "outputs": [
    {
     "name": "stdout",
     "output_type": "stream",
     "text": [
      "[492, 493, 494, 495, 496, 497, 498, 499, 500, 501, 502, 503, 504, 505, 840, 2068, 2069, 2070, 2071, 2072, 2073, 2074, 2075, 2076, 2077, 2078, 2079, 2080]\n",
      "28\n"
     ]
    }
   ],
   "source": [
    "lon_min, lon_max = -143.75, -143.62\n",
    "lat_min, lat_max = 70.12, 70.17\n",
    "\n",
    "# lat_bi, lon_bi = 70.133940, -143.678497\n",
    "\n",
    "index = []\n",
    "\n",
    "for i in range(len(ds.longitude.values)):\n",
    "    if ds.longitude.values[i] > lon_min and ds.longitude.values[i] < lon_max and ds.latitude.values[i] > lat_min and ds.latitude.values[i] < lat_max:\n",
    "        index.append(i)\n",
    "\n",
    "print(index)\n",
    "print(len(index))"
   ]
  },
  {
   "cell_type": "markdown",
   "metadata": {},
   "source": [
    "These are the points I am looking for."
   ]
  },
  {
   "cell_type": "markdown",
   "metadata": {},
   "source": [
    "Let's look at the data from a single year, to see if it's consistent."
   ]
  },
  {
   "cell_type": "code",
   "execution_count": 143,
   "metadata": {},
   "outputs": [
    {
     "name": "stdout",
     "output_type": "stream",
     "text": [
      "<xarray.Dataset> Size: 3MB\n",
      "Dimensions:     (time: 2928, numberOfCharacters: 11, transect: 28,\n",
      "                 longitude: 28, latitude: 28)\n",
      "Coordinates:\n",
      "  * time        (time) datetime64[ns] 23kB 2011-01-01 ... 2012-01-01T21:00:00\n",
      "    transect    (numberOfCharacters, transect) |S1 308B dask.array<chunksize=(11, 28), meta=np.ndarray>\n",
      "  * longitude   (longitude) float32 112B -143.6 -143.6 -143.6 ... -143.7 -143.7\n",
      "  * latitude    (latitude) float32 112B 70.16 70.16 70.16 ... 70.15 70.15 70.14\n",
      "Dimensions without coordinates: numberOfCharacters\n",
      "Data variables:\n",
      "    depth       (transect) float32 112B dask.array<chunksize=(28,), meta=np.ndarray>\n",
      "    Hs          (transect, time) float32 328kB dask.array<chunksize=(28, 2928), meta=np.ndarray>\n",
      "    Tm01        (transect, time) float32 328kB dask.array<chunksize=(28, 2928), meta=np.ndarray>\n",
      "    Dm          (transect, time) float32 328kB dask.array<chunksize=(28, 2928), meta=np.ndarray>\n",
      "    Flag_D      (transect, time) float32 328kB dask.array<chunksize=(28, 2928), meta=np.ndarray>\n",
      "    Flag_S      (transect, time) float32 328kB dask.array<chunksize=(28, 2928), meta=np.ndarray>\n",
      "    Flag_Hs020  (transect, time) float32 328kB dask.array<chunksize=(28, 2928), meta=np.ndarray>\n",
      "    Flag_Hs025  (transect, time) float32 328kB dask.array<chunksize=(28, 2928), meta=np.ndarray>\n",
      "    Flag_Hs050  (transect, time) float32 328kB dask.array<chunksize=(28, 2928), meta=np.ndarray>\n",
      "    Flag_Hs075  (transect, time) float32 328kB dask.array<chunksize=(28, 2928), meta=np.ndarray>\n",
      "    Flag_Hs100  (transect, time) float32 328kB dask.array<chunksize=(28, 2928), meta=np.ndarray>\n",
      "Attributes:\n",
      "    product_name:    DWDB hindcast time-series\n",
      "    area:            SWAN grids for the State of Alaska\n",
      "    data_type:       time-series\n",
      "    format_version:  1.1\n",
      "    hindcast:        ERA5 reanalysis\n",
      "    start_date:      1979-01-01\n",
      "    stop_date:       2019-12-31\n",
      "    Temporal_Res:    3-hourly\n",
      "    author:          USGS, aengelstad@usgs.gov\n"
     ]
    }
   ],
   "source": [
    "# ds.Hs.values[index[0]]\n",
    "\n",
    "period = slice(\"2011-01-01\", \"2012-01-01\")\n",
    "\n",
    "ds_masked = ds.sel(time=period)\n",
    "ds_masked = ds_masked.isel(transect=index, longitude=index, latitude=index)\n",
    "\n",
    "print(ds_masked)"
   ]
  },
  {
   "cell_type": "markdown",
   "metadata": {},
   "source": [
    "Let's have a look at this data."
   ]
  },
  {
   "cell_type": "code",
   "execution_count": 144,
   "metadata": {},
   "outputs": [
    {
     "data": {
      "application/javascript": "(function(root) {\n  function now() {\n    return new Date();\n  }\n\n  var force = true;\n  var py_version = '3.4.3'.replace('rc', '-rc.').replace('.dev', '-dev.');\n  var reloading = false;\n  var Bokeh = root.Bokeh;\n\n  if (typeof (root._bokeh_timeout) === \"undefined\" || force) {\n    root._bokeh_timeout = Date.now() + 5000;\n    root._bokeh_failed_load = false;\n  }\n\n  function run_callbacks() {\n    try {\n      root._bokeh_onload_callbacks.forEach(function(callback) {\n        if (callback != null)\n          callback();\n      });\n    } finally {\n      delete root._bokeh_onload_callbacks;\n    }\n    console.debug(\"Bokeh: all callbacks have finished\");\n  }\n\n  function load_libs(css_urls, js_urls, js_modules, js_exports, callback) {\n    if (css_urls == null) css_urls = [];\n    if (js_urls == null) js_urls = [];\n    if (js_modules == null) js_modules = [];\n    if (js_exports == null) js_exports = {};\n\n    root._bokeh_onload_callbacks.push(callback);\n\n    if (root._bokeh_is_loading > 0) {\n      console.debug(\"Bokeh: BokehJS is being loaded, scheduling callback at\", now());\n      return null;\n    }\n    if (js_urls.length === 0 && js_modules.length === 0 && Object.keys(js_exports).length === 0) {\n      run_callbacks();\n      return null;\n    }\n    if (!reloading) {\n      console.debug(\"Bokeh: BokehJS not loaded, scheduling load and callback at\", now());\n    }\n\n    function on_load() {\n      root._bokeh_is_loading--;\n      if (root._bokeh_is_loading === 0) {\n        console.debug(\"Bokeh: all BokehJS libraries/stylesheets loaded\");\n        run_callbacks()\n      }\n    }\n    window._bokeh_on_load = on_load\n\n    function on_error() {\n      console.error(\"failed to load \" + url);\n    }\n\n    var skip = [];\n    if (window.requirejs) {\n      window.requirejs.config({'packages': {}, 'paths': {}, 'shim': {}});\n      root._bokeh_is_loading = css_urls.length + 0;\n    } else {\n      root._bokeh_is_loading = css_urls.length + js_urls.length + js_modules.length + Object.keys(js_exports).length;\n    }\n\n    var existing_stylesheets = []\n    var links = document.getElementsByTagName('link')\n    for (var i = 0; i < links.length; i++) {\n      var link = links[i]\n      if (link.href != null) {\n\texisting_stylesheets.push(link.href)\n      }\n    }\n    for (var i = 0; i < css_urls.length; i++) {\n      var url = css_urls[i];\n      if (existing_stylesheets.indexOf(url) !== -1) {\n\ton_load()\n\tcontinue;\n      }\n      const element = document.createElement(\"link\");\n      element.onload = on_load;\n      element.onerror = on_error;\n      element.rel = \"stylesheet\";\n      element.type = \"text/css\";\n      element.href = url;\n      console.debug(\"Bokeh: injecting link tag for BokehJS stylesheet: \", url);\n      document.body.appendChild(element);\n    }    var existing_scripts = []\n    var scripts = document.getElementsByTagName('script')\n    for (var i = 0; i < scripts.length; i++) {\n      var script = scripts[i]\n      if (script.src != null) {\n\texisting_scripts.push(script.src)\n      }\n    }\n    for (var i = 0; i < js_urls.length; i++) {\n      var url = js_urls[i];\n      if (skip.indexOf(url) !== -1 || existing_scripts.indexOf(url) !== -1) {\n\tif (!window.requirejs) {\n\t  on_load();\n\t}\n\tcontinue;\n      }\n      var element = document.createElement('script');\n      element.onload = on_load;\n      element.onerror = on_error;\n      element.async = false;\n      element.src = url;\n      console.debug(\"Bokeh: injecting script tag for BokehJS library: \", url);\n      document.head.appendChild(element);\n    }\n    for (var i = 0; i < js_modules.length; i++) {\n      var url = js_modules[i];\n      if (skip.indexOf(url) !== -1 || existing_scripts.indexOf(url) !== -1) {\n\tif (!window.requirejs) {\n\t  on_load();\n\t}\n\tcontinue;\n      }\n      var element = document.createElement('script');\n      element.onload = on_load;\n      element.onerror = on_error;\n      element.async = false;\n      element.src = url;\n      element.type = \"module\";\n      console.debug(\"Bokeh: injecting script tag for BokehJS library: \", url);\n      document.head.appendChild(element);\n    }\n    for (const name in js_exports) {\n      var url = js_exports[name];\n      if (skip.indexOf(url) >= 0 || root[name] != null) {\n\tif (!window.requirejs) {\n\t  on_load();\n\t}\n\tcontinue;\n      }\n      var element = document.createElement('script');\n      element.onerror = on_error;\n      element.async = false;\n      element.type = \"module\";\n      console.debug(\"Bokeh: injecting script tag for BokehJS library: \", url);\n      element.textContent = `\n      import ${name} from \"${url}\"\n      window.${name} = ${name}\n      window._bokeh_on_load()\n      `\n      document.head.appendChild(element);\n    }\n    if (!js_urls.length && !js_modules.length) {\n      on_load()\n    }\n  };\n\n  function inject_raw_css(css) {\n    const element = document.createElement(\"style\");\n    element.appendChild(document.createTextNode(css));\n    document.body.appendChild(element);\n  }\n\n  var js_urls = [\"https://cdn.bokeh.org/bokeh/release/bokeh-3.4.3.min.js\", \"https://cdn.bokeh.org/bokeh/release/bokeh-gl-3.4.3.min.js\", \"https://cdn.bokeh.org/bokeh/release/bokeh-widgets-3.4.3.min.js\", \"https://cdn.bokeh.org/bokeh/release/bokeh-tables-3.4.3.min.js\", \"https://cdn.holoviz.org/panel/1.4.5/dist/panel.min.js\", \"https://cdn.jsdelivr.net/npm/@holoviz/geoviews@1.12.0/dist/geoviews.min.js\"];\n  var js_modules = [];\n  var js_exports = {};\n  var css_urls = [];\n  var inline_js = [    function(Bokeh) {\n      Bokeh.set_log_level(\"info\");\n    },\nfunction(Bokeh) {} // ensure no trailing comma for IE\n  ];\n\n  function run_inline_js() {\n    if ((root.Bokeh !== undefined) || (force === true)) {\n      for (var i = 0; i < inline_js.length; i++) {\n\ttry {\n          inline_js[i].call(root, root.Bokeh);\n\t} catch(e) {\n\t  if (!reloading) {\n\t    throw e;\n\t  }\n\t}\n      }\n      // Cache old bokeh versions\n      if (Bokeh != undefined && !reloading) {\n\tvar NewBokeh = root.Bokeh;\n\tif (Bokeh.versions === undefined) {\n\t  Bokeh.versions = new Map();\n\t}\n\tif (NewBokeh.version !== Bokeh.version) {\n\t  Bokeh.versions.set(NewBokeh.version, NewBokeh)\n\t}\n\troot.Bokeh = Bokeh;\n      }} else if (Date.now() < root._bokeh_timeout) {\n      setTimeout(run_inline_js, 100);\n    } else if (!root._bokeh_failed_load) {\n      console.log(\"Bokeh: BokehJS failed to load within specified timeout.\");\n      root._bokeh_failed_load = true;\n    }\n    root._bokeh_is_initializing = false\n  }\n\n  function load_or_wait() {\n    // Implement a backoff loop that tries to ensure we do not load multiple\n    // versions of Bokeh and its dependencies at the same time.\n    // In recent versions we use the root._bokeh_is_initializing flag\n    // to determine whether there is an ongoing attempt to initialize\n    // bokeh, however for backward compatibility we also try to ensure\n    // that we do not start loading a newer (Panel>=1.0 and Bokeh>3) version\n    // before older versions are fully initialized.\n    if (root._bokeh_is_initializing && Date.now() > root._bokeh_timeout) {\n      root._bokeh_is_initializing = false;\n      root._bokeh_onload_callbacks = undefined;\n      console.log(\"Bokeh: BokehJS was loaded multiple times but one version failed to initialize.\");\n      load_or_wait();\n    } else if (root._bokeh_is_initializing || (typeof root._bokeh_is_initializing === \"undefined\" && root._bokeh_onload_callbacks !== undefined)) {\n      setTimeout(load_or_wait, 100);\n    } else {\n      root._bokeh_is_initializing = true\n      root._bokeh_onload_callbacks = []\n      var bokeh_loaded = Bokeh != null && (Bokeh.version === py_version || (Bokeh.versions !== undefined && Bokeh.versions.has(py_version)));\n      if (!reloading && !bokeh_loaded) {\n\troot.Bokeh = undefined;\n      }\n      load_libs(css_urls, js_urls, js_modules, js_exports, function() {\n\tconsole.debug(\"Bokeh: BokehJS plotting callback run at\", now());\n\trun_inline_js();\n      });\n    }\n  }\n  // Give older versions of the autoload script a head-start to ensure\n  // they initialize before we start loading newer version.\n  setTimeout(load_or_wait, 100)\n}(window));",
      "application/vnd.holoviews_load.v0+json": ""
     },
     "metadata": {},
     "output_type": "display_data"
    },
    {
     "data": {
      "application/javascript": "\nif ((window.PyViz === undefined) || (window.PyViz instanceof HTMLElement)) {\n  window.PyViz = {comms: {}, comm_status:{}, kernels:{}, receivers: {}, plot_index: []}\n}\n\n\n    function JupyterCommManager() {\n    }\n\n    JupyterCommManager.prototype.register_target = function(plot_id, comm_id, msg_handler) {\n      if (window.comm_manager || ((window.Jupyter !== undefined) && (Jupyter.notebook.kernel != null))) {\n        var comm_manager = window.comm_manager || Jupyter.notebook.kernel.comm_manager;\n        comm_manager.register_target(comm_id, function(comm) {\n          comm.on_msg(msg_handler);\n        });\n      } else if ((plot_id in window.PyViz.kernels) && (window.PyViz.kernels[plot_id])) {\n        window.PyViz.kernels[plot_id].registerCommTarget(comm_id, function(comm) {\n          comm.onMsg = msg_handler;\n        });\n      } else if (typeof google != 'undefined' && google.colab.kernel != null) {\n        google.colab.kernel.comms.registerTarget(comm_id, (comm) => {\n          var messages = comm.messages[Symbol.asyncIterator]();\n          function processIteratorResult(result) {\n            var message = result.value;\n            console.log(message)\n            var content = {data: message.data, comm_id};\n            var buffers = []\n            for (var buffer of message.buffers || []) {\n              buffers.push(new DataView(buffer))\n            }\n            var metadata = message.metadata || {};\n            var msg = {content, buffers, metadata}\n            msg_handler(msg);\n            return messages.next().then(processIteratorResult);\n          }\n          return messages.next().then(processIteratorResult);\n        })\n      }\n    }\n\n    JupyterCommManager.prototype.get_client_comm = function(plot_id, comm_id, msg_handler) {\n      if (comm_id in window.PyViz.comms) {\n        return window.PyViz.comms[comm_id];\n      } else if (window.comm_manager || ((window.Jupyter !== undefined) && (Jupyter.notebook.kernel != null))) {\n        var comm_manager = window.comm_manager || Jupyter.notebook.kernel.comm_manager;\n        var comm = comm_manager.new_comm(comm_id, {}, {}, {}, comm_id);\n        if (msg_handler) {\n          comm.on_msg(msg_handler);\n        }\n      } else if ((plot_id in window.PyViz.kernels) && (window.PyViz.kernels[plot_id])) {\n        var comm = window.PyViz.kernels[plot_id].connectToComm(comm_id);\n        comm.open();\n        if (msg_handler) {\n          comm.onMsg = msg_handler;\n        }\n      } else if (typeof google != 'undefined' && google.colab.kernel != null) {\n        var comm_promise = google.colab.kernel.comms.open(comm_id)\n        comm_promise.then((comm) => {\n          window.PyViz.comms[comm_id] = comm;\n          if (msg_handler) {\n            var messages = comm.messages[Symbol.asyncIterator]();\n            function processIteratorResult(result) {\n              var message = result.value;\n              var content = {data: message.data};\n              var metadata = message.metadata || {comm_id};\n              var msg = {content, metadata}\n              msg_handler(msg);\n              return messages.next().then(processIteratorResult);\n            }\n            return messages.next().then(processIteratorResult);\n          }\n        }) \n        var sendClosure = (data, metadata, buffers, disposeOnDone) => {\n          return comm_promise.then((comm) => {\n            comm.send(data, metadata, buffers, disposeOnDone);\n          });\n        };\n        var comm = {\n          send: sendClosure\n        };\n      }\n      window.PyViz.comms[comm_id] = comm;\n      return comm;\n    }\n    window.PyViz.comm_manager = new JupyterCommManager();\n    \n\n\nvar JS_MIME_TYPE = 'application/javascript';\nvar HTML_MIME_TYPE = 'text/html';\nvar EXEC_MIME_TYPE = 'application/vnd.holoviews_exec.v0+json';\nvar CLASS_NAME = 'output';\n\n/**\n * Render data to the DOM node\n */\nfunction render(props, node) {\n  var div = document.createElement(\"div\");\n  var script = document.createElement(\"script\");\n  node.appendChild(div);\n  node.appendChild(script);\n}\n\n/**\n * Handle when a new output is added\n */\nfunction handle_add_output(event, handle) {\n  var output_area = handle.output_area;\n  var output = handle.output;\n  if ((output.data == undefined) || (!output.data.hasOwnProperty(EXEC_MIME_TYPE))) {\n    return\n  }\n  var id = output.metadata[EXEC_MIME_TYPE][\"id\"];\n  var toinsert = output_area.element.find(\".\" + CLASS_NAME.split(' ')[0]);\n  if (id !== undefined) {\n    var nchildren = toinsert.length;\n    var html_node = toinsert[nchildren-1].children[0];\n    html_node.innerHTML = output.data[HTML_MIME_TYPE];\n    var scripts = [];\n    var nodelist = html_node.querySelectorAll(\"script\");\n    for (var i in nodelist) {\n      if (nodelist.hasOwnProperty(i)) {\n        scripts.push(nodelist[i])\n      }\n    }\n\n    scripts.forEach( function (oldScript) {\n      var newScript = document.createElement(\"script\");\n      var attrs = [];\n      var nodemap = oldScript.attributes;\n      for (var j in nodemap) {\n        if (nodemap.hasOwnProperty(j)) {\n          attrs.push(nodemap[j])\n        }\n      }\n      attrs.forEach(function(attr) { newScript.setAttribute(attr.name, attr.value) });\n      newScript.appendChild(document.createTextNode(oldScript.innerHTML));\n      oldScript.parentNode.replaceChild(newScript, oldScript);\n    });\n    if (JS_MIME_TYPE in output.data) {\n      toinsert[nchildren-1].children[1].textContent = output.data[JS_MIME_TYPE];\n    }\n    output_area._hv_plot_id = id;\n    if ((window.Bokeh !== undefined) && (id in Bokeh.index)) {\n      window.PyViz.plot_index[id] = Bokeh.index[id];\n    } else {\n      window.PyViz.plot_index[id] = null;\n    }\n  } else if (output.metadata[EXEC_MIME_TYPE][\"server_id\"] !== undefined) {\n    var bk_div = document.createElement(\"div\");\n    bk_div.innerHTML = output.data[HTML_MIME_TYPE];\n    var script_attrs = bk_div.children[0].attributes;\n    for (var i = 0; i < script_attrs.length; i++) {\n      toinsert[toinsert.length - 1].childNodes[1].setAttribute(script_attrs[i].name, script_attrs[i].value);\n    }\n    // store reference to server id on output_area\n    output_area._bokeh_server_id = output.metadata[EXEC_MIME_TYPE][\"server_id\"];\n  }\n}\n\n/**\n * Handle when an output is cleared or removed\n */\nfunction handle_clear_output(event, handle) {\n  var id = handle.cell.output_area._hv_plot_id;\n  var server_id = handle.cell.output_area._bokeh_server_id;\n  if (((id === undefined) || !(id in PyViz.plot_index)) && (server_id !== undefined)) { return; }\n  var comm = window.PyViz.comm_manager.get_client_comm(\"hv-extension-comm\", \"hv-extension-comm\", function () {});\n  if (server_id !== null) {\n    comm.send({event_type: 'server_delete', 'id': server_id});\n    return;\n  } else if (comm !== null) {\n    comm.send({event_type: 'delete', 'id': id});\n  }\n  delete PyViz.plot_index[id];\n  if ((window.Bokeh !== undefined) & (id in window.Bokeh.index)) {\n    var doc = window.Bokeh.index[id].model.document\n    doc.clear();\n    const i = window.Bokeh.documents.indexOf(doc);\n    if (i > -1) {\n      window.Bokeh.documents.splice(i, 1);\n    }\n  }\n}\n\n/**\n * Handle kernel restart event\n */\nfunction handle_kernel_cleanup(event, handle) {\n  delete PyViz.comms[\"hv-extension-comm\"];\n  window.PyViz.plot_index = {}\n}\n\n/**\n * Handle update_display_data messages\n */\nfunction handle_update_output(event, handle) {\n  handle_clear_output(event, {cell: {output_area: handle.output_area}})\n  handle_add_output(event, handle)\n}\n\nfunction register_renderer(events, OutputArea) {\n  function append_mime(data, metadata, element) {\n    // create a DOM node to render to\n    var toinsert = this.create_output_subarea(\n    metadata,\n    CLASS_NAME,\n    EXEC_MIME_TYPE\n    );\n    this.keyboard_manager.register_events(toinsert);\n    // Render to node\n    var props = {data: data, metadata: metadata[EXEC_MIME_TYPE]};\n    render(props, toinsert[0]);\n    element.append(toinsert);\n    return toinsert\n  }\n\n  events.on('output_added.OutputArea', handle_add_output);\n  events.on('output_updated.OutputArea', handle_update_output);\n  events.on('clear_output.CodeCell', handle_clear_output);\n  events.on('delete.Cell', handle_clear_output);\n  events.on('kernel_ready.Kernel', handle_kernel_cleanup);\n\n  OutputArea.prototype.register_mime_type(EXEC_MIME_TYPE, append_mime, {\n    safe: true,\n    index: 0\n  });\n}\n\nif (window.Jupyter !== undefined) {\n  try {\n    var events = require('base/js/events');\n    var OutputArea = require('notebook/js/outputarea').OutputArea;\n    if (OutputArea.prototype.mime_types().indexOf(EXEC_MIME_TYPE) == -1) {\n      register_renderer(events, OutputArea);\n    }\n  } catch(err) {\n  }\n}\n",
      "application/vnd.holoviews_load.v0+json": ""
     },
     "metadata": {},
     "output_type": "display_data"
    },
    {
     "data": {
      "text/html": [
       "<style>*[data-root-id],\n",
       "*[data-root-id] > * {\n",
       "  box-sizing: border-box;\n",
       "  font-family: var(--jp-ui-font-family);\n",
       "  font-size: var(--jp-ui-font-size1);\n",
       "  color: var(--vscode-editor-foreground, var(--jp-ui-font-color1));\n",
       "}\n",
       "\n",
       "/* Override VSCode background color */\n",
       ".cell-output-ipywidget-background:has(\n",
       "    > .cell-output-ipywidget-background > .lm-Widget > *[data-root-id]\n",
       "  ),\n",
       ".cell-output-ipywidget-background:has(> .lm-Widget > *[data-root-id]) {\n",
       "  background-color: transparent !important;\n",
       "}\n",
       "</style>"
      ]
     },
     "metadata": {},
     "output_type": "display_data"
    },
    {
     "data": {
      "application/vnd.holoviews_exec.v0+json": "",
      "text/html": [
       "<div id='p6846'>\n",
       "  <div id=\"afc8c11a-deda-4957-9a38-56d9fe620d79\" data-root-id=\"p6846\" style=\"display: contents;\"></div>\n",
       "</div>\n",
       "<script type=\"application/javascript\">(function(root) {\n",
       "  var docs_json = {\"f1ccc2e1-3802-4896-aedb-c905183958f1\":{\"version\":\"3.4.3\",\"title\":\"Bokeh Application\",\"roots\":[{\"type\":\"object\",\"name\":\"panel.models.browser.BrowserInfo\",\"id\":\"p6846\"},{\"type\":\"object\",\"name\":\"panel.models.comm_manager.CommManager\",\"id\":\"p6847\",\"attributes\":{\"plot_id\":\"p6846\",\"comm_id\":\"d079d56e2d124813afea84417b908aab\",\"client_comm_id\":\"2e8dcd41bb944fcdb02b8cb808bc775a\"}}],\"defs\":[{\"type\":\"model\",\"name\":\"ReactiveHTML1\"},{\"type\":\"model\",\"name\":\"FlexBox1\",\"properties\":[{\"name\":\"align_content\",\"kind\":\"Any\",\"default\":\"flex-start\"},{\"name\":\"align_items\",\"kind\":\"Any\",\"default\":\"flex-start\"},{\"name\":\"flex_direction\",\"kind\":\"Any\",\"default\":\"row\"},{\"name\":\"flex_wrap\",\"kind\":\"Any\",\"default\":\"wrap\"},{\"name\":\"gap\",\"kind\":\"Any\",\"default\":\"\"},{\"name\":\"justify_content\",\"kind\":\"Any\",\"default\":\"flex-start\"}]},{\"type\":\"model\",\"name\":\"FloatPanel1\",\"properties\":[{\"name\":\"config\",\"kind\":\"Any\",\"default\":{\"type\":\"map\"}},{\"name\":\"contained\",\"kind\":\"Any\",\"default\":true},{\"name\":\"position\",\"kind\":\"Any\",\"default\":\"right-top\"},{\"name\":\"offsetx\",\"kind\":\"Any\",\"default\":null},{\"name\":\"offsety\",\"kind\":\"Any\",\"default\":null},{\"name\":\"theme\",\"kind\":\"Any\",\"default\":\"primary\"},{\"name\":\"status\",\"kind\":\"Any\",\"default\":\"normalized\"}]},{\"type\":\"model\",\"name\":\"GridStack1\",\"properties\":[{\"name\":\"mode\",\"kind\":\"Any\",\"default\":\"warn\"},{\"name\":\"ncols\",\"kind\":\"Any\",\"default\":null},{\"name\":\"nrows\",\"kind\":\"Any\",\"default\":null},{\"name\":\"allow_resize\",\"kind\":\"Any\",\"default\":true},{\"name\":\"allow_drag\",\"kind\":\"Any\",\"default\":true},{\"name\":\"state\",\"kind\":\"Any\",\"default\":[]}]},{\"type\":\"model\",\"name\":\"drag1\",\"properties\":[{\"name\":\"slider_width\",\"kind\":\"Any\",\"default\":5},{\"name\":\"slider_color\",\"kind\":\"Any\",\"default\":\"black\"},{\"name\":\"value\",\"kind\":\"Any\",\"default\":50}]},{\"type\":\"model\",\"name\":\"click1\",\"properties\":[{\"name\":\"terminal_output\",\"kind\":\"Any\",\"default\":\"\"},{\"name\":\"debug_name\",\"kind\":\"Any\",\"default\":\"\"},{\"name\":\"clears\",\"kind\":\"Any\",\"default\":0}]},{\"type\":\"model\",\"name\":\"FastWrapper1\",\"properties\":[{\"name\":\"object\",\"kind\":\"Any\",\"default\":null},{\"name\":\"style\",\"kind\":\"Any\",\"default\":null}]},{\"type\":\"model\",\"name\":\"NotificationAreaBase1\",\"properties\":[{\"name\":\"js_events\",\"kind\":\"Any\",\"default\":{\"type\":\"map\"}},{\"name\":\"position\",\"kind\":\"Any\",\"default\":\"bottom-right\"},{\"name\":\"_clear\",\"kind\":\"Any\",\"default\":0}]},{\"type\":\"model\",\"name\":\"NotificationArea1\",\"properties\":[{\"name\":\"js_events\",\"kind\":\"Any\",\"default\":{\"type\":\"map\"}},{\"name\":\"notifications\",\"kind\":\"Any\",\"default\":[]},{\"name\":\"position\",\"kind\":\"Any\",\"default\":\"bottom-right\"},{\"name\":\"_clear\",\"kind\":\"Any\",\"default\":0},{\"name\":\"types\",\"kind\":\"Any\",\"default\":[{\"type\":\"map\",\"entries\":[[\"type\",\"warning\"],[\"background\",\"#ffc107\"],[\"icon\",{\"type\":\"map\",\"entries\":[[\"className\",\"fas fa-exclamation-triangle\"],[\"tagName\",\"i\"],[\"color\",\"white\"]]}]]},{\"type\":\"map\",\"entries\":[[\"type\",\"info\"],[\"background\",\"#007bff\"],[\"icon\",{\"type\":\"map\",\"entries\":[[\"className\",\"fas fa-info-circle\"],[\"tagName\",\"i\"],[\"color\",\"white\"]]}]]}]}]},{\"type\":\"model\",\"name\":\"Notification\",\"properties\":[{\"name\":\"background\",\"kind\":\"Any\",\"default\":null},{\"name\":\"duration\",\"kind\":\"Any\",\"default\":3000},{\"name\":\"icon\",\"kind\":\"Any\",\"default\":null},{\"name\":\"message\",\"kind\":\"Any\",\"default\":\"\"},{\"name\":\"notification_type\",\"kind\":\"Any\",\"default\":null},{\"name\":\"_destroyed\",\"kind\":\"Any\",\"default\":false}]},{\"type\":\"model\",\"name\":\"TemplateActions1\",\"properties\":[{\"name\":\"open_modal\",\"kind\":\"Any\",\"default\":0},{\"name\":\"close_modal\",\"kind\":\"Any\",\"default\":0}]},{\"type\":\"model\",\"name\":\"BootstrapTemplateActions1\",\"properties\":[{\"name\":\"open_modal\",\"kind\":\"Any\",\"default\":0},{\"name\":\"close_modal\",\"kind\":\"Any\",\"default\":0}]},{\"type\":\"model\",\"name\":\"TemplateEditor1\",\"properties\":[{\"name\":\"layout\",\"kind\":\"Any\",\"default\":[]}]},{\"type\":\"model\",\"name\":\"MaterialTemplateActions1\",\"properties\":[{\"name\":\"open_modal\",\"kind\":\"Any\",\"default\":0},{\"name\":\"close_modal\",\"kind\":\"Any\",\"default\":0}]},{\"type\":\"model\",\"name\":\"copy_to_clipboard1\",\"properties\":[{\"name\":\"fill\",\"kind\":\"Any\",\"default\":\"none\"},{\"name\":\"value\",\"kind\":\"Any\",\"default\":null}]}]}};\n",
       "  var render_items = [{\"docid\":\"f1ccc2e1-3802-4896-aedb-c905183958f1\",\"roots\":{\"p6846\":\"afc8c11a-deda-4957-9a38-56d9fe620d79\"},\"root_ids\":[\"p6846\"]}];\n",
       "  var docs = Object.values(docs_json)\n",
       "  if (!docs) {\n",
       "    return\n",
       "  }\n",
       "  const py_version = docs[0].version.replace('rc', '-rc.').replace('.dev', '-dev.')\n",
       "  async function embed_document(root) {\n",
       "    var Bokeh = get_bokeh(root)\n",
       "    await Bokeh.embed.embed_items_notebook(docs_json, render_items);\n",
       "    for (const render_item of render_items) {\n",
       "      for (const root_id of render_item.root_ids) {\n",
       "\tconst id_el = document.getElementById(root_id)\n",
       "\tif (id_el.children.length && id_el.children[0].hasAttribute('data-root-id')) {\n",
       "\t  const root_el = id_el.children[0]\n",
       "\t  root_el.id = root_el.id + '-rendered'\n",
       "\t  for (const child of root_el.children) {\n",
       "            // Ensure JupyterLab does not capture keyboard shortcuts\n",
       "            // see: https://jupyterlab.readthedocs.io/en/4.1.x/extension/notebook.html#keyboard-interaction-model\n",
       "\t    child.setAttribute('data-lm-suppress-shortcuts', 'true')\n",
       "\t  }\n",
       "\t}\n",
       "      }\n",
       "    }\n",
       "  }\n",
       "  function get_bokeh(root) {\n",
       "    if (root.Bokeh === undefined) {\n",
       "      return null\n",
       "    } else if (root.Bokeh.version !== py_version) {\n",
       "      if (root.Bokeh.versions === undefined || !root.Bokeh.versions.has(py_version)) {\n",
       "\treturn null\n",
       "      }\n",
       "      return root.Bokeh.versions.get(py_version);\n",
       "    } else if (root.Bokeh.version === py_version) {\n",
       "      return root.Bokeh\n",
       "    }\n",
       "    return null\n",
       "  }\n",
       "  function is_loaded(root) {\n",
       "    var Bokeh = get_bokeh(root)\n",
       "    return (Bokeh != null && Bokeh.Panel !== undefined)\n",
       "  }\n",
       "  if (is_loaded(root)) {\n",
       "    embed_document(root);\n",
       "  } else {\n",
       "    var attempts = 0;\n",
       "    var timer = setInterval(function(root) {\n",
       "      if (is_loaded(root)) {\n",
       "        clearInterval(timer);\n",
       "        embed_document(root);\n",
       "      } else if (document.readyState == \"complete\") {\n",
       "        attempts++;\n",
       "        if (attempts > 200) {\n",
       "          clearInterval(timer);\n",
       "\t  var Bokeh = get_bokeh(root)\n",
       "\t  if (Bokeh == null || Bokeh.Panel == null) {\n",
       "            console.warn(\"Panel: ERROR: Unable to run Panel code because Bokeh or Panel library is missing\");\n",
       "\t  } else {\n",
       "\t    console.warn(\"Panel: WARNING: Attempting to render but not all required libraries could be resolved.\")\n",
       "\t    embed_document(root)\n",
       "\t  }\n",
       "        }\n",
       "      }\n",
       "    }, 25, root)\n",
       "  }\n",
       "})(window);</script>"
      ]
     },
     "metadata": {
      "application/vnd.holoviews_exec.v0+json": {
       "id": "p6846"
      }
     },
     "output_type": "display_data"
    },
    {
     "data": {
      "text/html": [
       "\n",
       "<div class=\"logo-block\">\n",
       "<img src='data:image/png;base64,iVBORw0KGgoAAAANSUhEUgAAAEAAAABACAYAAACqaXHeAAAABHNCSVQICAgIfAhkiAAAAAlwSFlz\n",
       "AAAB+wAAAfsBxc2miwAAABl0RVh0U29mdHdhcmUAd3d3Lmlua3NjYXBlLm9yZ5vuPBoAAA6zSURB\n",
       "VHic7ZtpeFRVmsf/5966taWqUlUJ2UioBBJiIBAwCZtog9IOgjqACsogKtqirT2ttt069nQ/zDzt\n",
       "tI4+CrJIREFaFgWhBXpUNhHZQoKBkIUASchWla1S+3ar7r1nPkDaCAnZKoQP/D7mnPOe9/xy76n3\n",
       "nFSAW9ziFoPFNED2LLK5wcyBDObkb8ZkxuaoSYlI6ZcOKq1eWFdedqNzGHQBk9RMEwFAASkk0Xw3\n",
       "ETacDNi2vtvc7L0ROdw0AjoSotQVkKSvHQz/wRO1lScGModBFbDMaNRN1A4tUBCS3lk7BWhQkgpD\n",
       "lG4852/+7DWr1R3uHAZVQDsbh6ZPN7CyxUrCzJMRouusj0ipRwD2uKm0Zn5d2dFwzX1TCGhnmdGo\n",
       "G62Nna+isiUqhkzuKrkQaJlPEv5mFl2fvGg2t/VnzkEV8F5ioioOEWkLG86fvbpthynjdhXYZziQ\n",
       "x1hC9J2NFyi8vCTt91Fh04KGip0AaG9zuCk2wQCVyoNU3Hjezee9bq92duzzTmxsRJoy+jEZZZYo\n",
       "GTKJ6SJngdJqAfRzpze0+jHreUtPc7gpBLQnIYK6BYp/uGhw9YK688eu7v95ysgshcg9qSLMo3JC\n",
       "4jqLKQFBgdKDPoQ+Pltb8dUyQLpeDjeVgI6EgLIQFT5tEl3rn2losHVsexbZ3EyT9wE1uGdkIPcy\n",
       "BGxn8QUq1QrA5nqW5i2tLqvrrM9NK6AdkVIvL9E9bZL/oyfMVd/jqvc8LylzRBKDJSzIExwhQzuL\n",
       "QYGQj4rHfFTc8mUdu3E7yoLtbTe9gI4EqVgVkug2i5+uXGo919ixbRog+3fTbQ8qJe4ZOYNfMoTI\n",
       "OoshUNosgO60AisX15aeI2PSIp5KiFLI9ubb1vV3Qb2ltwLakUCDAkWX7/nHKRmmGIl9VgYsUhJm\n",
       "2NXjKYADtM1ygne9QQDIXlk49FBstMKx66D1v4+XuQr7vqTe0VcBHQlRWiOCbmmSYe2SqtL6q5rJ\n",
       "zsTb7lKx3FKOYC4DoqyS/B5bvLPxvD9Qtf6saxYLQGJErmDOdOMr/zo96km1nElr8bmPOBwI9COv\n",
       "HnFPRIwmkSOv9kcAS4heRsidOkpeWBgZM+UBrTFAXNYL5Vf2ii9c1trNzpYdaoVil3WIc+wdk+gQ\n",
       "noie3ecCcxt9ITcLAPWt/laGEO/9U6PmzZkenTtsSMQ8uYywJVW+grCstAvCIaAdArAsIWkRDDs/\n",
       "KzLm2YcjY1Lv0UdW73HabE9n6V66cxSzfEmuJssTpKGVp+0vHq73FwL46eOjpMpbRAnNmJFrGJNu\n",
       "Ukf9Yrz+3rghiumCKNXXWPhLYcjxGsIpoCMsIRoFITkW8AuyM8jC1+/QLx4bozCEJIq38+1rtpR6\n",
       "V/yzb8eBlRb3fo5l783N0CWolAzJHaVNzkrTzlEp2bQ2q3TC5gn6wpnoQAmwSiGh2GitnTmVMc5O\n",
       "UyfKWUKCIsU7+fZDKwqdT6DDpvkzAX4/+AMFjk0tDp5GRXLpQ2MUmhgDp5gxQT8+Y7hyPsMi8uxF\n",
       "71H0oebujHALECjFKaW9Lm68n18wXp2kVzIcABytD5iXFzg+WVXkegpAsOOYziqo0OkK76GyquC3\n",
       "ltZAzMhhqlSNmmWTE5T6e3IN05ITFLM4GdN0vtZ3ob8Jh1NAKXFbm5PtLU/eqTSlGjkNAJjdgn/N\n",
       "aedXa0tdi7+t9G0FIF49rtMSEgAs1kDLkTPO7ebm4IUWeyh1bKomXqlgMG6kJmHcSM0clYLJ8XtR\n",
       "1GTnbV3F6I5wCGikAb402npp1h1s7LQUZZSMIfALFOuL3UUrfnS8+rez7v9qcold5tilgHbO1fjK\n",
       "9ubb17u9oshxzMiUBKXWqJNxd+fqb0tLVs4lILFnK71H0Ind7uiPgACVcFJlrb0tV6DzxqqTIhUM\n",
       "CwDf1/rrVhTa33/3pGPxJYdQ2l2cbgVcQSosdx8uqnDtbGjh9SlDVSMNWhlnilfqZk42Th2ZpLpf\n",
       "xrHec5e815zrr0dfBZSwzkZfqsv+1FS1KUknUwPARVvItfKUY+cn57yP7qv07UE3p8B2uhUwLk09\n",
       "e0SCOrK+hbdYHYLjRIl71wWzv9jpEoeOHhGRrJAzyEyNiJuUqX0g2sBN5kGK6y2Blp5M3lsB9Qh4\n",
       "y2Ja6x6+i0ucmKgwMATwhSjdUu49tKrQ/pvN5d53ml2CGwCmJipmKjgmyuaXzNeL2a0AkQ01Th5j\n",
       "2DktO3Jyk8f9vcOBQHV94OK+fPumJmvQHxJoWkaKWq9Vs+yUsbq0zGT1I4RgeH2b5wef7+c7bl8F\n",
       "eKgoHVVZa8ZPEORzR6sT1BzDUAD/d9F78e2Tzv99v8D+fLVTqAKAsbGamKey1Mt9Ann4eH3gTXTz\n",
       "idWtAJ8PQWOk7NzSeQn/OTHDuEikVF1R4z8BQCy+6D1aWRfY0tTGG2OM8rRoPaeIj5ZHzJxszElN\n",
       "VM8K8JS5WOfv8mzRnQAKoEhmt8gyPM4lU9SmBK1MCQBnW4KONT86v1hZ1PbwSXPw4JWussVjtH9Y\n",
       "NCoiL9UoH/6PSu8jFrfY2t36erQHXLIEakMi1SydmzB31h3GGXFDFNPaK8Rme9B79Ixrd0WN+1ij\n",
       "NRQ/doRmuFLBkHSTOm5GruG+pFjFdAmorG4IXH1Qua6ASniclfFtDYt+oUjKipPrCQB7QBQ2lrgP\n",
       "fFzm+9XWUtcqJ3/5vDLDpJ79XHZk3u8nGZ42qlj1+ydtbxysCezrydp6ugmipNJ7WBPB5tydY0jP\n",
       "HaVNzs3QzeE4ZpTbI+ZbnSFPbVOw9vsfnVvqWnirPyCNGD08IlqtYkh2hjZ5dErEQzoNm+6ykyOt\n",
       "Lt5/PQEuSRRKo22VkydK+vvS1XEKlhCJAnsqvcVvH7f/ZU2R67eXbMEGAMiIV5oWZWiWvz5Fv2xG\n",
       "sjqNJQRvn3Rs2lji/lNP19VjAQDgD7FHhujZB9OGqYxRkZxixgRDVlqS6uEOFaJUVu0rPFzctrnF\n",
       "JqijImVp8dEKVWyUXDk92zAuMZ6bFwpBU1HrOw6AdhQgUooChb0+ItMbWJitSo5Ws3IAOGEOtL53\n",
       "0vHZih9sC4vtofZ7Qu6523V/fmGcds1TY3V36pUsBwAbSlxnVh2xLfAD/IAIMDf7XYIkNmXfpp2l\n",
       "18rkAJAy9HKFaIr/qULkeQQKy9zf1JgDB2uaeFNGijo5QsUyacNUUTOnGO42xSnv4oOwpDi1zYkc\n",
       "efUc3I5Gk6PhyTuVKaOGyLUAYPGIoY9Pu/atL/L92+4q9wbflRJ2Trpm/jPjdBtfnqB/dIThcl8A\n",
       "KG7hbRuKnb8qsQsVvVlTrwQAQMUlf3kwJI24Z4JhPMtcfng5GcH49GsrxJpGvvHIaeem2ma+KSjQ\n",
       "lIwUdYyCY8j4dE1KzijNnIP2llF2wcXNnsoapw9XxsgYAl6k+KzUXbi2yP3KR2ecf6z3BFsBICdW\n",
       "nvnIaG3eHybqX7vbpEqUMT+9OL4Qpe8VON7dXuFd39v19FoAABRVePbGGuXTszO0P7tu6lghUonE\n",
       "llRdrhArLvmKdh9u29jcFiRRkfLUxBiFNiqSU9icoZQHo5mYBI1MBgBH6wMNb+U7Pnw337H4gi1Y\n",
       "ciWs+uks3Z9fztUvfzxTm9Ne8XXkvQLHNytOOZeiD4e0PgkAIAYCYknKUNUDSXEKzdWNpnil7r4p\n",
       "xqkjTarZMtk/K8TQ6Qve78qqvXurGwIJqcOUKfUWHsm8KGvxSP68YudXq4pcj39X49uOK2X142O0\n",
       "Tz5/u/7TVybqH0rSya6ZBwD21/gubbrgWdDgEOx9WUhfBaC2ibcEBYm7a7x+ukrBMNcEZggyR0TE\n",
       "T8zUPjikQ4VosQZbTpS4vqizBKvqmvjsqnpfzaZyx9JPiz1/bfGKdgD45XB1zoIMzYbfTdS/NClB\n",
       "Gct0USiY3YL/g0LHy/uq/Ef6uo5+n0R/vyhp17Klpge763f8rMu6YU/zrn2nml+2WtH+Z+5IAAFc\n",
       "2bUTdTDOSNa9+cQY7YLsOIXhevEkCvzph7a8laecz/Un/z4/Ae04XeL3UQb57IwU9ZDr9UuKVajv\n",
       "nxp1+1UVIo/LjztZkKH59fO3G/JemqCfmaCRqbqbd90ZZ8FfjtkfAyD0J/9+C2h1hDwsSxvGjNDc\n",
       "b4zk5NfrSwiQblLHzZhg+Jf4aPlUwpDqkQqa9nimbt1/TDH8OitGMaQnj+RJS6B1fbF7SY1TqO5v\n",
       "/v0WAADl1f7zokgS7s7VT2DZ7pegUjBM7mjtiDZbcN4j0YrHH0rXpCtY0qPX0cVL0rv5jv/ZXend\n",
       "0u/EESYBAFBU4T4Qa5TflZOhTe7pmKpaP8kCVUVw1+yhXfJWvn1P3hnXi33JsTN6PnP3hHZ8Z3/h\n",
       "aLHzmkNPuPj7Bc/F/Q38CwjTpSwQXgE4Vmwry9tpfq/ZFgqFMy4AVDtCvi8rvMvOmv0N4YwbVgEA\n",
       "sPM72/KVnzfspmH7HQGCRLG2yL1+z8XwvPcdCbsAANh+xPzstgMtxeGKt+6MK3/tacfvwhWvIwMi\n",
       "oKEBtm0H7W+UVfkc/Y1V0BhoPlDr/w1w/eu1vjIgAgDg22OtX6/eYfnEz/focrZTHAFR+PSs56/7\n",
       "q32nwpjazxgwAQCwcU/T62t3WL7r6/jVRa6/byp1rei+Z98ZUAEAhEPHPc8fKnTU9nbgtnOe8h0l\n",
       "9hcGIqmODLQAHCy2Xti6v/XNRivf43f4fFvIteu854+VHnR7q9tfBlwAAGz+pnndB9vM26UebAe8\n",
       "SLHujPOTPVW+rwY+sxskAAC2HrA8t2Vvc7ffP1r9o+vwR2dcr92InIAbKKC1FZ5tB1tf+/G8p8sv\n",
       "N/9Q5zd/XR34LYCwV5JdccMEAMDBk45DH243r/X4xGvqxFa/GNpS7n6rwOwNWwHVE26oAADYurf1\n",
       "zx/utOzt+DMKYM0p17YtZZ5VNzqfsB2HewG1WXE8PoZ7gOclbTIvynZf9JV+fqZtfgs/8F/Nu5rB\n",
       "EIBmJ+8QRMmpU7EzGRsf2FzuePqYRbzh/zE26EwdrT10f6r6o8HOYzCJB9Dpff8tbnGLG8L/A/WE\n",
       "roTBs2RqAAAAAElFTkSuQmCC'\n",
       "     style='height:25px; border-radius:12px; display: inline-block; float: left; vertical-align: middle'></img>\n",
       "\n",
       "\n",
       "  <img src='data:image/png;base64,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'\n",
       "       style='height:15px; border-radius:12px; display: inline-block; float: left'></img>\n",
       "  \n",
       "\n",
       "\n",
       "\n",
       "\n",
       "</div>\n"
      ]
     },
     "metadata": {},
     "output_type": "display_data"
    }
   ],
   "source": [
    "import holoviews as hv\n",
    "hv.extension('bokeh')"
   ]
  },
  {
   "cell_type": "code",
   "execution_count": 146,
   "metadata": {},
   "outputs": [],
   "source": [
    "# curves = [(ds_masked.time.values, ds_masked.Hs.values[i,:]) for i in range(len(index))]\n",
    "curves = [(ds_masked.time.values, ds_masked.Dm.values[i,:]) for i in range(2)]"
   ]
  },
  {
   "cell_type": "code",
   "execution_count": 147,
   "metadata": {},
   "outputs": [
    {
     "data": {},
     "metadata": {},
     "output_type": "display_data"
    },
    {
     "data": {
      "application/vnd.holoviews_exec.v0+json": "",
      "text/html": [
       "<div id='p6848'>\n",
       "  <div id=\"dc728b08-b255-4d42-87be-2d1f093ebe4c\" data-root-id=\"p6848\" style=\"display: contents;\"></div>\n",
       "</div>\n",
       "<script type=\"application/javascript\">(function(root) {\n",
       "  var docs_json = {\"027de225-3685-4fe7-9bf3-292e5fa26a4c\":{\"version\":\"3.4.3\",\"title\":\"Bokeh Application\",\"roots\":[{\"type\":\"object\",\"name\":\"Row\",\"id\":\"p6848\",\"attributes\":{\"name\":\"Row08899\",\"tags\":[\"embedded\"],\"stylesheets\":[\"\\n:host(.pn-loading):before, .pn-loading:before {\\n  background-color: #c3c3c3;\\n  mask-size: auto calc(min(50%, 400px));\\n  -webkit-mask-size: auto calc(min(50%, 400px));\\n}\",{\"type\":\"object\",\"name\":\"ImportedStyleSheet\",\"id\":\"p6851\",\"attributes\":{\"url\":\"https://cdn.holoviz.org/panel/1.4.5/dist/css/loading.css\"}},{\"type\":\"object\",\"name\":\"ImportedStyleSheet\",\"id\":\"p6954\",\"attributes\":{\"url\":\"https://cdn.holoviz.org/panel/1.4.5/dist/css/listpanel.css\"}},{\"type\":\"object\",\"name\":\"ImportedStyleSheet\",\"id\":\"p6849\",\"attributes\":{\"url\":\"https://cdn.holoviz.org/panel/1.4.5/dist/bundled/theme/default.css\"}},{\"type\":\"object\",\"name\":\"ImportedStyleSheet\",\"id\":\"p6850\",\"attributes\":{\"url\":\"https://cdn.holoviz.org/panel/1.4.5/dist/bundled/theme/native.css\"}}],\"min_width\":2000,\"margin\":0,\"sizing_mode\":\"stretch_width\",\"align\":\"start\",\"children\":[{\"type\":\"object\",\"name\":\"Spacer\",\"id\":\"p6852\",\"attributes\":{\"name\":\"HSpacer08906\",\"stylesheets\":[\"\\n:host(.pn-loading):before, .pn-loading:before {\\n  background-color: #c3c3c3;\\n  mask-size: auto calc(min(50%, 400px));\\n  -webkit-mask-size: auto calc(min(50%, 400px));\\n}\",{\"id\":\"p6851\"},{\"id\":\"p6849\"},{\"id\":\"p6850\"}],\"margin\":0,\"sizing_mode\":\"stretch_width\",\"align\":\"start\"}},{\"type\":\"object\",\"name\":\"Figure\",\"id\":\"p6866\",\"attributes\":{\"width\":2000,\"height\":500,\"margin\":[5,10],\"sizing_mode\":\"fixed\",\"align\":\"start\",\"x_range\":{\"type\":\"object\",\"name\":\"Range1d\",\"id\":\"p6856\",\"attributes\":{\"tags\":[[[\"x\",null]],[]],\"start\":1293840000000.0,\"end\":1325451600000.0,\"reset_start\":1293840000000.0,\"reset_end\":1325451600000.0}},\"y_range\":{\"type\":\"object\",\"name\":\"Range1d\",\"id\":\"p6857\",\"attributes\":{\"tags\":[[[\"y\",null]],{\"type\":\"map\",\"entries\":[[\"invert_yaxis\",false],[\"autorange\",false]]}],\"start\":-36.0,\"end\":396.0,\"reset_start\":-36.0,\"reset_end\":396.0}},\"x_scale\":{\"type\":\"object\",\"name\":\"LinearScale\",\"id\":\"p6876\"},\"y_scale\":{\"type\":\"object\",\"name\":\"LinearScale\",\"id\":\"p6877\"},\"title\":{\"type\":\"object\",\"name\":\"Title\",\"id\":\"p6869\",\"attributes\":{\"text\":\"Wave data\",\"text_color\":\"black\",\"text_font_size\":\"12pt\"}},\"renderers\":[{\"type\":\"object\",\"name\":\"GlyphRenderer\",\"id\":\"p6918\",\"attributes\":{\"data_source\":{\"type\":\"object\",\"name\":\"ColumnDataSource\",\"id\":\"p6909\",\"attributes\":{\"selected\":{\"type\":\"object\",\"name\":\"Selection\",\"id\":\"p6910\",\"attributes\":{\"indices\":[],\"line_indices\":[]}},\"selection_policy\":{\"type\":\"object\",\"name\":\"UnionRenderers\",\"id\":\"p6911\"},\"data\":{\"type\":\"map\",\"entries\":[[\"x\",{\"type\":\"ndarray\",\"array\":{\"type\":\"bytes\",\"data\":\"\"},\"shape\":[0],\"dtype\":\"float64\",\"order\":\"little\"}],[\"y\",{\"type\":\"ndarray\",\"array\":{\"type\":\"bytes\",\"data\":\"\"},\"shape\":[0],\"dtype\":\"float64\",\"order\":\"little\"}]]}}},\"view\":{\"type\":\"object\",\"name\":\"CDSView\",\"id\":\"p6919\",\"attributes\":{\"filter\":{\"type\":\"object\",\"name\":\"AllIndices\",\"id\":\"p6920\"}}},\"glyph\":{\"type\":\"object\",\"name\":\"Line\",\"id\":\"p6915\",\"attributes\":{\"tags\":[\"apply_ranges\"],\"x\":{\"type\":\"field\",\"field\":\"x\"},\"y\":{\"type\":\"field\",\"field\":\"y\"},\"line_color\":\"#30a2da\",\"line_width\":2}},\"selection_glyph\":{\"type\":\"object\",\"name\":\"Line\",\"id\":\"p6921\",\"attributes\":{\"tags\":[\"apply_ranges\"],\"x\":{\"type\":\"field\",\"field\":\"x\"},\"y\":{\"type\":\"field\",\"field\":\"y\"},\"line_color\":\"#30a2da\",\"line_width\":2}},\"nonselection_glyph\":{\"type\":\"object\",\"name\":\"Line\",\"id\":\"p6916\",\"attributes\":{\"tags\":[\"apply_ranges\"],\"x\":{\"type\":\"field\",\"field\":\"x\"},\"y\":{\"type\":\"field\",\"field\":\"y\"},\"line_color\":\"#30a2da\",\"line_alpha\":0.1,\"line_width\":2}},\"muted_glyph\":{\"type\":\"object\",\"name\":\"Line\",\"id\":\"p6917\",\"attributes\":{\"tags\":[\"apply_ranges\"],\"x\":{\"type\":\"field\",\"field\":\"x\"},\"y\":{\"type\":\"field\",\"field\":\"y\"},\"line_color\":\"#30a2da\",\"line_alpha\":0.2,\"line_width\":2}}}},{\"type\":\"object\",\"name\":\"GlyphRenderer\",\"id\":\"p6931\",\"attributes\":{\"name\":\"Longitude: -143.62, Latitude: 70.16\",\"data_source\":{\"type\":\"object\",\"name\":\"ColumnDataSource\",\"id\":\"p6922\",\"attributes\":{\"selected\":{\"type\":\"object\",\"name\":\"Selection\",\"id\":\"p6923\",\"attributes\":{\"indices\":[],\"line_indices\":[]}},\"selection_policy\":{\"type\":\"object\",\"name\":\"UnionRenderers\",\"id\":\"p6924\"},\"data\":{\"type\":\"map\",\"entries\":[[\"x\",{\"type\":\"ndarray\",\"array\":{\"type\":\"bytes\",\"data\":\"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\"},\"shape\":[2928],\"dtype\":\"float64\",\"order\":\"little\"}],[\"y\",{\"type\":\"ndarray\",\"array\":{\"type\":\"bytes\",\"data\":\"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\"},\"shape\":[2928],\"dtype\":\"float32\",\"order\":\"little\"}]]}}},\"view\":{\"type\":\"object\",\"name\":\"CDSView\",\"id\":\"p6932\",\"attributes\":{\"filter\":{\"type\":\"object\",\"name\":\"AllIndices\",\"id\":\"p6933\"}}},\"glyph\":{\"type\":\"object\",\"name\":\"Line\",\"id\":\"p6928\",\"attributes\":{\"tags\":[\"apply_ranges\"],\"x\":{\"type\":\"field\",\"field\":\"x\"},\"y\":{\"type\":\"field\",\"field\":\"y\"},\"line_color\":\"#fc4f30\",\"line_width\":2}},\"selection_glyph\":{\"type\":\"object\",\"name\":\"Line\",\"id\":\"p6936\",\"attributes\":{\"tags\":[\"apply_ranges\"],\"x\":{\"type\":\"field\",\"field\":\"x\"},\"y\":{\"type\":\"field\",\"field\":\"y\"},\"line_color\":\"#fc4f30\",\"line_width\":2}},\"nonselection_glyph\":{\"type\":\"object\",\"name\":\"Line\",\"id\":\"p6929\",\"attributes\":{\"tags\":[\"apply_ranges\"],\"x\":{\"type\":\"field\",\"field\":\"x\"},\"y\":{\"type\":\"field\",\"field\":\"y\"},\"line_color\":\"#fc4f30\",\"line_alpha\":0.1,\"line_width\":2}},\"muted_glyph\":{\"type\":\"object\",\"name\":\"Line\",\"id\":\"p6930\",\"attributes\":{\"tags\":[\"apply_ranges\"],\"x\":{\"type\":\"field\",\"field\":\"x\"},\"y\":{\"type\":\"field\",\"field\":\"y\"},\"line_color\":\"#fc4f30\",\"line_alpha\":0.2,\"line_width\":2}}}},{\"type\":\"object\",\"name\":\"GlyphRenderer\",\"id\":\"p6946\",\"attributes\":{\"name\":\"Longitude: -143.63, Latitude: 70.16\",\"data_source\":{\"type\":\"object\",\"name\":\"ColumnDataSource\",\"id\":\"p6937\",\"attributes\":{\"selected\":{\"type\":\"object\",\"name\":\"Selection\",\"id\":\"p6938\",\"attributes\":{\"indices\":[],\"line_indices\":[]}},\"selection_policy\":{\"type\":\"object\",\"name\":\"UnionRenderers\",\"id\":\"p6939\"},\"data\":{\"type\":\"map\",\"entries\":[[\"x\",{\"type\":\"ndarray\",\"array\":{\"type\":\"bytes\",\"data\":\"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\"},\"shape\":[2928],\"dtype\":\"float64\",\"order\":\"little\"}],[\"y\",{\"type\":\"ndarray\",\"array\":{\"type\":\"bytes\",\"data\":\"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\"},\"shape\":[2928],\"dtype\":\"float32\",\"order\":\"little\"}]]}}},\"view\":{\"type\":\"object\",\"name\":\"CDSView\",\"id\":\"p6947\",\"attributes\":{\"filter\":{\"type\":\"object\",\"name\":\"AllIndices\",\"id\":\"p6948\"}}},\"glyph\":{\"type\":\"object\",\"name\":\"Line\",\"id\":\"p6943\",\"attributes\":{\"tags\":[\"apply_ranges\"],\"x\":{\"type\":\"field\",\"field\":\"x\"},\"y\":{\"type\":\"field\",\"field\":\"y\"},\"line_color\":\"#e5ae38\",\"line_width\":2}},\"selection_glyph\":{\"type\":\"object\",\"name\":\"Line\",\"id\":\"p6950\",\"attributes\":{\"tags\":[\"apply_ranges\"],\"x\":{\"type\":\"field\",\"field\":\"x\"},\"y\":{\"type\":\"field\",\"field\":\"y\"},\"line_color\":\"#e5ae38\",\"line_width\":2}},\"nonselection_glyph\":{\"type\":\"object\",\"name\":\"Line\",\"id\":\"p6944\",\"attributes\":{\"tags\":[\"apply_ranges\"],\"x\":{\"type\":\"field\",\"field\":\"x\"},\"y\":{\"type\":\"field\",\"field\":\"y\"},\"line_color\":\"#e5ae38\",\"line_alpha\":0.1,\"line_width\":2}},\"muted_glyph\":{\"type\":\"object\",\"name\":\"Line\",\"id\":\"p6945\",\"attributes\":{\"tags\":[\"apply_ranges\"],\"x\":{\"type\":\"field\",\"field\":\"x\"},\"y\":{\"type\":\"field\",\"field\":\"y\"},\"line_color\":\"#e5ae38\",\"line_alpha\":0.2,\"line_width\":2}}}}],\"toolbar\":{\"type\":\"object\",\"name\":\"Toolbar\",\"id\":\"p6875\",\"attributes\":{\"tools\":[{\"type\":\"object\",\"name\":\"WheelZoomTool\",\"id\":\"p6861\",\"attributes\":{\"tags\":[\"hv_created\"],\"renderers\":\"auto\",\"zoom_together\":\"none\"}},{\"type\":\"object\",\"name\":\"SaveTool\",\"id\":\"p6900\"},{\"type\":\"object\",\"name\":\"PanTool\",\"id\":\"p6901\"},{\"type\":\"object\",\"name\":\"BoxZoomTool\",\"id\":\"p6902\",\"attributes\":{\"overlay\":{\"type\":\"object\",\"name\":\"BoxAnnotation\",\"id\":\"p6903\",\"attributes\":{\"syncable\":false,\"level\":\"overlay\",\"visible\":false,\"left\":{\"type\":\"number\",\"value\":\"nan\"},\"right\":{\"type\":\"number\",\"value\":\"nan\"},\"top\":{\"type\":\"number\",\"value\":\"nan\"},\"bottom\":{\"type\":\"number\",\"value\":\"nan\"},\"left_units\":\"canvas\",\"right_units\":\"canvas\",\"top_units\":\"canvas\",\"bottom_units\":\"canvas\",\"line_color\":\"black\",\"line_alpha\":1.0,\"line_width\":2,\"line_dash\":[4,4],\"fill_color\":\"lightgrey\",\"fill_alpha\":0.5}}}},{\"type\":\"object\",\"name\":\"ResetTool\",\"id\":\"p6908\"}],\"active_drag\":{\"id\":\"p6901\"}}},\"left\":[{\"type\":\"object\",\"name\":\"LinearAxis\",\"id\":\"p6895\",\"attributes\":{\"ticker\":{\"type\":\"object\",\"name\":\"BasicTicker\",\"id\":\"p6896\",\"attributes\":{\"mantissas\":[1,2,5]}},\"formatter\":{\"type\":\"object\",\"name\":\"BasicTickFormatter\",\"id\":\"p6897\"},\"axis_label\":\"y\",\"major_label_policy\":{\"type\":\"object\",\"name\":\"AllLabels\",\"id\":\"p6898\"}}},{\"type\":\"object\",\"name\":\"Legend\",\"id\":\"p6934\",\"attributes\":{\"location\":[0,0],\"click_policy\":\"mute\",\"items\":[{\"type\":\"object\",\"name\":\"LegendItem\",\"id\":\"p6935\",\"attributes\":{\"label\":{\"type\":\"value\",\"value\":\"Longitude: -143.62, Latitude: 70.16\"},\"renderers\":[{\"id\":\"p6931\"}]}},{\"type\":\"object\",\"name\":\"LegendItem\",\"id\":\"p6949\",\"attributes\":{\"label\":{\"type\":\"value\",\"value\":\"Longitude: -143.63, Latitude: 70.16\"},\"renderers\":[{\"id\":\"p6946\"}]}}]}}],\"below\":[{\"type\":\"object\",\"name\":\"DatetimeAxis\",\"id\":\"p6878\",\"attributes\":{\"ticker\":{\"type\":\"object\",\"name\":\"DatetimeTicker\",\"id\":\"p6879\",\"attributes\":{\"num_minor_ticks\":5,\"tickers\":[{\"type\":\"object\",\"name\":\"AdaptiveTicker\",\"id\":\"p6880\",\"attributes\":{\"num_minor_ticks\":0,\"mantissas\":[1,2,5],\"max_interval\":500.0}},{\"type\":\"object\",\"name\":\"AdaptiveTicker\",\"id\":\"p6881\",\"attributes\":{\"num_minor_ticks\":0,\"base\":60,\"mantissas\":[1,2,5,10,15,20,30],\"min_interval\":1000.0,\"max_interval\":1800000.0}},{\"type\":\"object\",\"name\":\"AdaptiveTicker\",\"id\":\"p6882\",\"attributes\":{\"num_minor_ticks\":0,\"base\":24,\"mantissas\":[1,2,4,6,8,12],\"min_interval\":3600000.0,\"max_interval\":43200000.0}},{\"type\":\"object\",\"name\":\"DaysTicker\",\"id\":\"p6883\",\"attributes\":{\"days\":[1,2,3,4,5,6,7,8,9,10,11,12,13,14,15,16,17,18,19,20,21,22,23,24,25,26,27,28,29,30,31]}},{\"type\":\"object\",\"name\":\"DaysTicker\",\"id\":\"p6884\",\"attributes\":{\"days\":[1,4,7,10,13,16,19,22,25,28]}},{\"type\":\"object\",\"name\":\"DaysTicker\",\"id\":\"p6885\",\"attributes\":{\"days\":[1,8,15,22]}},{\"type\":\"object\",\"name\":\"DaysTicker\",\"id\":\"p6886\",\"attributes\":{\"days\":[1,15]}},{\"type\":\"object\",\"name\":\"MonthsTicker\",\"id\":\"p6887\",\"attributes\":{\"months\":[0,1,2,3,4,5,6,7,8,9,10,11]}},{\"type\":\"object\",\"name\":\"MonthsTicker\",\"id\":\"p6888\",\"attributes\":{\"months\":[0,2,4,6,8,10]}},{\"type\":\"object\",\"name\":\"MonthsTicker\",\"id\":\"p6889\",\"attributes\":{\"months\":[0,4,8]}},{\"type\":\"object\",\"name\":\"MonthsTicker\",\"id\":\"p6890\",\"attributes\":{\"months\":[0,6]}},{\"type\":\"object\",\"name\":\"YearsTicker\",\"id\":\"p6891\"}]}},\"formatter\":{\"type\":\"object\",\"name\":\"DatetimeTickFormatter\",\"id\":\"p6892\"},\"axis_label\":\"x\",\"major_label_policy\":{\"type\":\"object\",\"name\":\"AllLabels\",\"id\":\"p6893\"}}}],\"center\":[{\"type\":\"object\",\"name\":\"Grid\",\"id\":\"p6894\",\"attributes\":{\"axis\":{\"id\":\"p6878\"},\"grid_line_color\":null}},{\"type\":\"object\",\"name\":\"Grid\",\"id\":\"p6899\",\"attributes\":{\"dimension\":1,\"axis\":{\"id\":\"p6895\"},\"grid_line_color\":null}}],\"min_border_top\":10,\"min_border_bottom\":10,\"min_border_left\":10,\"min_border_right\":10,\"output_backend\":\"webgl\"}},{\"type\":\"object\",\"name\":\"Spacer\",\"id\":\"p6952\",\"attributes\":{\"name\":\"HSpacer08907\",\"stylesheets\":[\"\\n:host(.pn-loading):before, .pn-loading:before {\\n  background-color: #c3c3c3;\\n  mask-size: auto calc(min(50%, 400px));\\n  -webkit-mask-size: auto calc(min(50%, 400px));\\n}\",{\"id\":\"p6851\"},{\"id\":\"p6849\"},{\"id\":\"p6850\"}],\"margin\":0,\"sizing_mode\":\"stretch_width\",\"align\":\"start\"}}]}}],\"defs\":[{\"type\":\"model\",\"name\":\"ReactiveHTML1\"},{\"type\":\"model\",\"name\":\"FlexBox1\",\"properties\":[{\"name\":\"align_content\",\"kind\":\"Any\",\"default\":\"flex-start\"},{\"name\":\"align_items\",\"kind\":\"Any\",\"default\":\"flex-start\"},{\"name\":\"flex_direction\",\"kind\":\"Any\",\"default\":\"row\"},{\"name\":\"flex_wrap\",\"kind\":\"Any\",\"default\":\"wrap\"},{\"name\":\"gap\",\"kind\":\"Any\",\"default\":\"\"},{\"name\":\"justify_content\",\"kind\":\"Any\",\"default\":\"flex-start\"}]},{\"type\":\"model\",\"name\":\"FloatPanel1\",\"properties\":[{\"name\":\"config\",\"kind\":\"Any\",\"default\":{\"type\":\"map\"}},{\"name\":\"contained\",\"kind\":\"Any\",\"default\":true},{\"name\":\"position\",\"kind\":\"Any\",\"default\":\"right-top\"},{\"name\":\"offsetx\",\"kind\":\"Any\",\"default\":null},{\"name\":\"offsety\",\"kind\":\"Any\",\"default\":null},{\"name\":\"theme\",\"kind\":\"Any\",\"default\":\"primary\"},{\"name\":\"status\",\"kind\":\"Any\",\"default\":\"normalized\"}]},{\"type\":\"model\",\"name\":\"GridStack1\",\"properties\":[{\"name\":\"mode\",\"kind\":\"Any\",\"default\":\"warn\"},{\"name\":\"ncols\",\"kind\":\"Any\",\"default\":null},{\"name\":\"nrows\",\"kind\":\"Any\",\"default\":null},{\"name\":\"allow_resize\",\"kind\":\"Any\",\"default\":true},{\"name\":\"allow_drag\",\"kind\":\"Any\",\"default\":true},{\"name\":\"state\",\"kind\":\"Any\",\"default\":[]}]},{\"type\":\"model\",\"name\":\"drag1\",\"properties\":[{\"name\":\"slider_width\",\"kind\":\"Any\",\"default\":5},{\"name\":\"slider_color\",\"kind\":\"Any\",\"default\":\"black\"},{\"name\":\"value\",\"kind\":\"Any\",\"default\":50}]},{\"type\":\"model\",\"name\":\"click1\",\"properties\":[{\"name\":\"terminal_output\",\"kind\":\"Any\",\"default\":\"\"},{\"name\":\"debug_name\",\"kind\":\"Any\",\"default\":\"\"},{\"name\":\"clears\",\"kind\":\"Any\",\"default\":0}]},{\"type\":\"model\",\"name\":\"FastWrapper1\",\"properties\":[{\"name\":\"object\",\"kind\":\"Any\",\"default\":null},{\"name\":\"style\",\"kind\":\"Any\",\"default\":null}]},{\"type\":\"model\",\"name\":\"NotificationAreaBase1\",\"properties\":[{\"name\":\"js_events\",\"kind\":\"Any\",\"default\":{\"type\":\"map\"}},{\"name\":\"position\",\"kind\":\"Any\",\"default\":\"bottom-right\"},{\"name\":\"_clear\",\"kind\":\"Any\",\"default\":0}]},{\"type\":\"model\",\"name\":\"NotificationArea1\",\"properties\":[{\"name\":\"js_events\",\"kind\":\"Any\",\"default\":{\"type\":\"map\"}},{\"name\":\"notifications\",\"kind\":\"Any\",\"default\":[]},{\"name\":\"position\",\"kind\":\"Any\",\"default\":\"bottom-right\"},{\"name\":\"_clear\",\"kind\":\"Any\",\"default\":0},{\"name\":\"types\",\"kind\":\"Any\",\"default\":[{\"type\":\"map\",\"entries\":[[\"type\",\"warning\"],[\"background\",\"#ffc107\"],[\"icon\",{\"type\":\"map\",\"entries\":[[\"className\",\"fas fa-exclamation-triangle\"],[\"tagName\",\"i\"],[\"color\",\"white\"]]}]]},{\"type\":\"map\",\"entries\":[[\"type\",\"info\"],[\"background\",\"#007bff\"],[\"icon\",{\"type\":\"map\",\"entries\":[[\"className\",\"fas fa-info-circle\"],[\"tagName\",\"i\"],[\"color\",\"white\"]]}]]}]}]},{\"type\":\"model\",\"name\":\"Notification\",\"properties\":[{\"name\":\"background\",\"kind\":\"Any\",\"default\":null},{\"name\":\"duration\",\"kind\":\"Any\",\"default\":3000},{\"name\":\"icon\",\"kind\":\"Any\",\"default\":null},{\"name\":\"message\",\"kind\":\"Any\",\"default\":\"\"},{\"name\":\"notification_type\",\"kind\":\"Any\",\"default\":null},{\"name\":\"_destroyed\",\"kind\":\"Any\",\"default\":false}]},{\"type\":\"model\",\"name\":\"TemplateActions1\",\"properties\":[{\"name\":\"open_modal\",\"kind\":\"Any\",\"default\":0},{\"name\":\"close_modal\",\"kind\":\"Any\",\"default\":0}]},{\"type\":\"model\",\"name\":\"BootstrapTemplateActions1\",\"properties\":[{\"name\":\"open_modal\",\"kind\":\"Any\",\"default\":0},{\"name\":\"close_modal\",\"kind\":\"Any\",\"default\":0}]},{\"type\":\"model\",\"name\":\"TemplateEditor1\",\"properties\":[{\"name\":\"layout\",\"kind\":\"Any\",\"default\":[]}]},{\"type\":\"model\",\"name\":\"MaterialTemplateActions1\",\"properties\":[{\"name\":\"open_modal\",\"kind\":\"Any\",\"default\":0},{\"name\":\"close_modal\",\"kind\":\"Any\",\"default\":0}]},{\"type\":\"model\",\"name\":\"copy_to_clipboard1\",\"properties\":[{\"name\":\"fill\",\"kind\":\"Any\",\"default\":\"none\"},{\"name\":\"value\",\"kind\":\"Any\",\"default\":null}]}]}};\n",
       "  var render_items = [{\"docid\":\"027de225-3685-4fe7-9bf3-292e5fa26a4c\",\"roots\":{\"p6848\":\"dc728b08-b255-4d42-87be-2d1f093ebe4c\"},\"root_ids\":[\"p6848\"]}];\n",
       "  var docs = Object.values(docs_json)\n",
       "  if (!docs) {\n",
       "    return\n",
       "  }\n",
       "  const py_version = docs[0].version.replace('rc', '-rc.').replace('.dev', '-dev.')\n",
       "  async function embed_document(root) {\n",
       "    var Bokeh = get_bokeh(root)\n",
       "    await Bokeh.embed.embed_items_notebook(docs_json, render_items);\n",
       "    for (const render_item of render_items) {\n",
       "      for (const root_id of render_item.root_ids) {\n",
       "\tconst id_el = document.getElementById(root_id)\n",
       "\tif (id_el.children.length && id_el.children[0].hasAttribute('data-root-id')) {\n",
       "\t  const root_el = id_el.children[0]\n",
       "\t  root_el.id = root_el.id + '-rendered'\n",
       "\t  for (const child of root_el.children) {\n",
       "            // Ensure JupyterLab does not capture keyboard shortcuts\n",
       "            // see: https://jupyterlab.readthedocs.io/en/4.1.x/extension/notebook.html#keyboard-interaction-model\n",
       "\t    child.setAttribute('data-lm-suppress-shortcuts', 'true')\n",
       "\t  }\n",
       "\t}\n",
       "      }\n",
       "    }\n",
       "  }\n",
       "  function get_bokeh(root) {\n",
       "    if (root.Bokeh === undefined) {\n",
       "      return null\n",
       "    } else if (root.Bokeh.version !== py_version) {\n",
       "      if (root.Bokeh.versions === undefined || !root.Bokeh.versions.has(py_version)) {\n",
       "\treturn null\n",
       "      }\n",
       "      return root.Bokeh.versions.get(py_version);\n",
       "    } else if (root.Bokeh.version === py_version) {\n",
       "      return root.Bokeh\n",
       "    }\n",
       "    return null\n",
       "  }\n",
       "  function is_loaded(root) {\n",
       "    var Bokeh = get_bokeh(root)\n",
       "    return (Bokeh != null && Bokeh.Panel !== undefined)\n",
       "  }\n",
       "  if (is_loaded(root)) {\n",
       "    embed_document(root);\n",
       "  } else {\n",
       "    var attempts = 0;\n",
       "    var timer = setInterval(function(root) {\n",
       "      if (is_loaded(root)) {\n",
       "        clearInterval(timer);\n",
       "        embed_document(root);\n",
       "      } else if (document.readyState == \"complete\") {\n",
       "        attempts++;\n",
       "        if (attempts > 200) {\n",
       "          clearInterval(timer);\n",
       "\t  var Bokeh = get_bokeh(root)\n",
       "\t  if (Bokeh == null || Bokeh.Panel == null) {\n",
       "            console.warn(\"Panel: ERROR: Unable to run Panel code because Bokeh or Panel library is missing\");\n",
       "\t  } else {\n",
       "\t    console.warn(\"Panel: WARNING: Attempting to render but not all required libraries could be resolved.\")\n",
       "\t    embed_document(root)\n",
       "\t  }\n",
       "        }\n",
       "      }\n",
       "    }, 25, root)\n",
       "  }\n",
       "})(window);</script>"
      ],
      "text/plain": [
       ":Overlay\n",
       "   .Curve.I                                                                                  :Curve   [x]   (y)\n",
       "   .Curve.Longitude_colon_hyphen_minus_143_full_stop_62_comma_Latitude_colon_70_full_stop_16 :Curve   [x]   (y)\n",
       "   .Curve.Longitude_colon_hyphen_minus_143_full_stop_63_comma_Latitude_colon_70_full_stop_16 :Curve   [x]   (y)"
      ]
     },
     "execution_count": 147,
     "metadata": {
      "application/vnd.holoviews_exec.v0+json": {
       "id": "p6848"
      }
     },
     "output_type": "execute_result"
    }
   ],
   "source": [
    "plot = hv.Curve([])\n",
    "\n",
    "for i, points in enumerate(curves):\n",
    "    plot *= hv.Curve(points, label=f'Longitude: {ds_masked.longitude.values[i]:.2f}, Latitude: {ds_masked.latitude.values[i]:.2f}')\n",
    "    \n",
    "plot.opts(legend_limit=30, fontscale=1, width=2000, height=500, legend_position='left', show_legend=True).relabel('Wave data')"
   ]
  },
  {
   "cell_type": "code",
   "execution_count": 142,
   "metadata": {},
   "outputs": [
    {
     "name": "stdout",
     "output_type": "stream",
     "text": [
      "[10.13   9.879 10.09   9.914 10.09  10.1   10.13   9.921 10.03   9.888\n",
      "  9.995  9.974 10.02   9.91  10.03  10.09  10.09  10.09   9.914 10.09\n",
      "  9.966 10.03  10.03  10.03   9.939  9.939  9.939  9.91 ]\n",
      "[[nan nan nan ... nan nan nan]\n",
      " [nan nan nan ... nan nan nan]\n",
      " [nan nan nan ... nan nan nan]\n",
      " ...\n",
      " [nan nan nan ... nan nan nan]\n",
      " [nan nan nan ... nan nan nan]\n",
      " [nan nan nan ... nan nan nan]]\n"
     ]
    }
   ],
   "source": [
    "print(ds_masked.depth.values)"
   ]
  },
  {
   "cell_type": "markdown",
   "metadata": {},
   "source": [
    "That data seems to be quite consistent. That implies that the data points are indeed ordered consistently. Let's construct a csv file from that."
   ]
  },
  {
   "cell_type": "markdown",
   "metadata": {},
   "source": [
    "Start with closing the dataset, and re-masking with the data we need."
   ]
  },
  {
   "cell_type": "code",
   "execution_count": 148,
   "metadata": {},
   "outputs": [
    {
     "name": "stdout",
     "output_type": "stream",
     "text": [
      "<xarray.Dataset> Size: 135MB\n",
      "Dimensions:     (time: 119800, numberOfCharacters: 11, transect: 28,\n",
      "                 longitude: 28, latitude: 28)\n",
      "Coordinates:\n",
      "  * time        (time) datetime64[ns] 958kB 1979-01-01 ... 2019-12-31T21:00:00\n",
      "    transect    (numberOfCharacters, transect) |S1 308B dask.array<chunksize=(11, 28), meta=np.ndarray>\n",
      "  * longitude   (longitude) float32 112B -143.6 -143.6 -143.6 ... -143.7 -143.7\n",
      "  * latitude    (latitude) float32 112B 70.16 70.16 70.16 ... 70.15 70.15 70.14\n",
      "Dimensions without coordinates: numberOfCharacters\n",
      "Data variables:\n",
      "    depth       (transect) float32 112B dask.array<chunksize=(28,), meta=np.ndarray>\n",
      "    Hs          (transect, time) float32 13MB dask.array<chunksize=(28, 119800), meta=np.ndarray>\n",
      "    Tm01        (transect, time) float32 13MB dask.array<chunksize=(28, 119800), meta=np.ndarray>\n",
      "    Dm          (transect, time) float32 13MB dask.array<chunksize=(28, 119800), meta=np.ndarray>\n",
      "    Flag_D      (transect, time) float32 13MB dask.array<chunksize=(28, 119800), meta=np.ndarray>\n",
      "    Flag_S      (transect, time) float32 13MB dask.array<chunksize=(28, 119800), meta=np.ndarray>\n",
      "    Flag_Hs020  (transect, time) float32 13MB dask.array<chunksize=(28, 119800), meta=np.ndarray>\n",
      "    Flag_Hs025  (transect, time) float32 13MB dask.array<chunksize=(28, 119800), meta=np.ndarray>\n",
      "    Flag_Hs050  (transect, time) float32 13MB dask.array<chunksize=(28, 119800), meta=np.ndarray>\n",
      "    Flag_Hs075  (transect, time) float32 13MB dask.array<chunksize=(28, 119800), meta=np.ndarray>\n",
      "    Flag_Hs100  (transect, time) float32 13MB dask.array<chunksize=(28, 119800), meta=np.ndarray>\n",
      "Attributes:\n",
      "    product_name:    DWDB hindcast time-series\n",
      "    area:            SWAN grids for the State of Alaska\n",
      "    data_type:       time-series\n",
      "    format_version:  1.1\n",
      "    hindcast:        ERA5 reanalysis\n",
      "    start_date:      1979-01-01\n",
      "    stop_date:       2019-12-31\n",
      "    Temporal_Res:    3-hourly\n",
      "    author:          USGS, aengelstad@usgs.gov\n"
     ]
    }
   ],
   "source": [
    "ds_masked.close()\n",
    "\n",
    "ds_masked = ds.isel(transect=index, longitude=index, latitude=index)\n",
    "\n",
    "ds.close()\n",
    "\n",
    "print(ds_masked)"
   ]
  },
  {
   "cell_type": "markdown",
   "metadata": {},
   "source": [
    "This is already a lot more manageable. Let's average the parameters over space to get a time series, and increase resolution to hourly through interpolation."
   ]
  },
  {
   "cell_type": "code",
   "execution_count": 153,
   "metadata": {},
   "outputs": [],
   "source": [
    "df = pd.DataFrame(\n",
    "    data={\n",
    "        'time': ds_masked.time,\n",
    "        'Hso(m)': np.mean(ds_masked.Hs.values, axis=0),\n",
    "        'Tm(s)': np.mean(ds_masked.Tm01.values, axis=0),\n",
    "        # 'Tp(s)': ,\n",
    "        'Dm(deg)': np.mean(ds_masked.Dm.values, axis=0),\n",
    "        # 'Dp(deg)': ,\n",
    "    }\n",
    ")"
   ]
  },
  {
   "cell_type": "code",
   "execution_count": 154,
   "metadata": {},
   "outputs": [
    {
     "data": {
      "text/html": [
       "<div>\n",
       "<style scoped>\n",
       "    .dataframe tbody tr th:only-of-type {\n",
       "        vertical-align: middle;\n",
       "    }\n",
       "\n",
       "    .dataframe tbody tr th {\n",
       "        vertical-align: top;\n",
       "    }\n",
       "\n",
       "    .dataframe thead th {\n",
       "        text-align: right;\n",
       "    }\n",
       "</style>\n",
       "<table border=\"1\" class=\"dataframe\">\n",
       "  <thead>\n",
       "    <tr style=\"text-align: right;\">\n",
       "      <th></th>\n",
       "      <th>time</th>\n",
       "      <th>Hso(m)</th>\n",
       "      <th>Tm(s)</th>\n",
       "      <th>Dm(deg)</th>\n",
       "    </tr>\n",
       "  </thead>\n",
       "  <tbody>\n",
       "    <tr>\n",
       "      <th>0</th>\n",
       "      <td>1979-01-01 00:00:00</td>\n",
       "      <td>NaN</td>\n",
       "      <td>NaN</td>\n",
       "      <td>NaN</td>\n",
       "    </tr>\n",
       "    <tr>\n",
       "      <th>1</th>\n",
       "      <td>1979-01-01 03:00:00</td>\n",
       "      <td>NaN</td>\n",
       "      <td>NaN</td>\n",
       "      <td>NaN</td>\n",
       "    </tr>\n",
       "    <tr>\n",
       "      <th>2</th>\n",
       "      <td>1979-01-01 06:00:00</td>\n",
       "      <td>NaN</td>\n",
       "      <td>NaN</td>\n",
       "      <td>NaN</td>\n",
       "    </tr>\n",
       "    <tr>\n",
       "      <th>3</th>\n",
       "      <td>1979-01-01 09:00:00</td>\n",
       "      <td>NaN</td>\n",
       "      <td>NaN</td>\n",
       "      <td>NaN</td>\n",
       "    </tr>\n",
       "    <tr>\n",
       "      <th>4</th>\n",
       "      <td>1979-01-01 12:00:00</td>\n",
       "      <td>NaN</td>\n",
       "      <td>NaN</td>\n",
       "      <td>NaN</td>\n",
       "    </tr>\n",
       "  </tbody>\n",
       "</table>\n",
       "</div>"
      ],
      "text/plain": [
       "                 time  Hso(m)  Tm(s)  Dm(deg)\n",
       "0 1979-01-01 00:00:00     NaN    NaN      NaN\n",
       "1 1979-01-01 03:00:00     NaN    NaN      NaN\n",
       "2 1979-01-01 06:00:00     NaN    NaN      NaN\n",
       "3 1979-01-01 09:00:00     NaN    NaN      NaN\n",
       "4 1979-01-01 12:00:00     NaN    NaN      NaN"
      ]
     },
     "execution_count": 154,
     "metadata": {},
     "output_type": "execute_result"
    }
   ],
   "source": [
    "df.head()"
   ]
  },
  {
   "cell_type": "markdown",
   "metadata": {},
   "source": [
    "Now let's interpolate the data to get an hourly resolution."
   ]
  },
  {
   "cell_type": "code",
   "execution_count": 156,
   "metadata": {},
   "outputs": [],
   "source": [
    "\n",
    "def resample_and_interpolate(df, time_column='time'):\n",
    "    # Ensure the time column is set as the DataFrame's index\n",
    "    df = df.set_index(time_column)\n",
    "    \n",
    "    # Resample the DataFrame to a 1-hour frequency\n",
    "    df_resampled = df.resample('1h').asfreq()\n",
    "    \n",
    "    # Interpolate the missing values for all other columns\n",
    "    df_interpolated = df_resampled.interpolate(method='linear')\n",
    "    \n",
    "    # Reset the index to bring 'time' back as a column\n",
    "    df_interpolated = df_interpolated.reset_index()\n",
    "    \n",
    "    return df_interpolated\n",
    "\n",
    "df_interpolated = resample_and_interpolate(df)"
   ]
  },
  {
   "cell_type": "code",
   "execution_count": 158,
   "metadata": {},
   "outputs": [
    {
     "data": {
      "text/html": [
       "<div>\n",
       "<style scoped>\n",
       "    .dataframe tbody tr th:only-of-type {\n",
       "        vertical-align: middle;\n",
       "    }\n",
       "\n",
       "    .dataframe tbody tr th {\n",
       "        vertical-align: top;\n",
       "    }\n",
       "\n",
       "    .dataframe thead th {\n",
       "        text-align: right;\n",
       "    }\n",
       "</style>\n",
       "<table border=\"1\" class=\"dataframe\">\n",
       "  <thead>\n",
       "    <tr style=\"text-align: right;\">\n",
       "      <th></th>\n",
       "      <th>time</th>\n",
       "      <th>Hso(m)</th>\n",
       "      <th>Tm(s)</th>\n",
       "      <th>Dm(deg)</th>\n",
       "    </tr>\n",
       "  </thead>\n",
       "  <tbody>\n",
       "    <tr>\n",
       "      <th>0</th>\n",
       "      <td>1979-01-01 00:00:00</td>\n",
       "      <td>NaN</td>\n",
       "      <td>NaN</td>\n",
       "      <td>NaN</td>\n",
       "    </tr>\n",
       "    <tr>\n",
       "      <th>1</th>\n",
       "      <td>1979-01-01 01:00:00</td>\n",
       "      <td>NaN</td>\n",
       "      <td>NaN</td>\n",
       "      <td>NaN</td>\n",
       "    </tr>\n",
       "    <tr>\n",
       "      <th>2</th>\n",
       "      <td>1979-01-01 02:00:00</td>\n",
       "      <td>NaN</td>\n",
       "      <td>NaN</td>\n",
       "      <td>NaN</td>\n",
       "    </tr>\n",
       "    <tr>\n",
       "      <th>3</th>\n",
       "      <td>1979-01-01 03:00:00</td>\n",
       "      <td>NaN</td>\n",
       "      <td>NaN</td>\n",
       "      <td>NaN</td>\n",
       "    </tr>\n",
       "    <tr>\n",
       "      <th>4</th>\n",
       "      <td>1979-01-01 04:00:00</td>\n",
       "      <td>NaN</td>\n",
       "      <td>NaN</td>\n",
       "      <td>NaN</td>\n",
       "    </tr>\n",
       "  </tbody>\n",
       "</table>\n",
       "</div>"
      ],
      "text/plain": [
       "                 time  Hso(m)  Tm(s)  Dm(deg)\n",
       "0 1979-01-01 00:00:00     NaN    NaN      NaN\n",
       "1 1979-01-01 01:00:00     NaN    NaN      NaN\n",
       "2 1979-01-01 02:00:00     NaN    NaN      NaN\n",
       "3 1979-01-01 03:00:00     NaN    NaN      NaN\n",
       "4 1979-01-01 04:00:00     NaN    NaN      NaN"
      ]
     },
     "metadata": {},
     "output_type": "display_data"
    },
    {
     "data": {
      "text/html": [
       "<div>\n",
       "<style scoped>\n",
       "    .dataframe tbody tr th:only-of-type {\n",
       "        vertical-align: middle;\n",
       "    }\n",
       "\n",
       "    .dataframe tbody tr th {\n",
       "        vertical-align: top;\n",
       "    }\n",
       "\n",
       "    .dataframe thead th {\n",
       "        text-align: right;\n",
       "    }\n",
       "</style>\n",
       "<table border=\"1\" class=\"dataframe\">\n",
       "  <thead>\n",
       "    <tr style=\"text-align: right;\">\n",
       "      <th></th>\n",
       "      <th>time</th>\n",
       "      <th>Hso(m)</th>\n",
       "      <th>Tm(s)</th>\n",
       "      <th>Dm(deg)</th>\n",
       "    </tr>\n",
       "  </thead>\n",
       "  <tbody>\n",
       "    <tr>\n",
       "      <th>359393</th>\n",
       "      <td>2019-12-31 17:00:00</td>\n",
       "      <td>0.445714</td>\n",
       "      <td>3.342858</td>\n",
       "      <td>295.928558</td>\n",
       "    </tr>\n",
       "    <tr>\n",
       "      <th>359394</th>\n",
       "      <td>2019-12-31 18:00:00</td>\n",
       "      <td>0.445714</td>\n",
       "      <td>3.342858</td>\n",
       "      <td>295.928558</td>\n",
       "    </tr>\n",
       "    <tr>\n",
       "      <th>359395</th>\n",
       "      <td>2019-12-31 19:00:00</td>\n",
       "      <td>0.445714</td>\n",
       "      <td>3.342858</td>\n",
       "      <td>295.928558</td>\n",
       "    </tr>\n",
       "    <tr>\n",
       "      <th>359396</th>\n",
       "      <td>2019-12-31 20:00:00</td>\n",
       "      <td>0.445714</td>\n",
       "      <td>3.342858</td>\n",
       "      <td>295.928558</td>\n",
       "    </tr>\n",
       "    <tr>\n",
       "      <th>359397</th>\n",
       "      <td>2019-12-31 21:00:00</td>\n",
       "      <td>0.445714</td>\n",
       "      <td>3.342858</td>\n",
       "      <td>295.928558</td>\n",
       "    </tr>\n",
       "  </tbody>\n",
       "</table>\n",
       "</div>"
      ],
      "text/plain": [
       "                      time    Hso(m)     Tm(s)     Dm(deg)\n",
       "359393 2019-12-31 17:00:00  0.445714  3.342858  295.928558\n",
       "359394 2019-12-31 18:00:00  0.445714  3.342858  295.928558\n",
       "359395 2019-12-31 19:00:00  0.445714  3.342858  295.928558\n",
       "359396 2019-12-31 20:00:00  0.445714  3.342858  295.928558\n",
       "359397 2019-12-31 21:00:00  0.445714  3.342858  295.928558"
      ]
     },
     "metadata": {},
     "output_type": "display_data"
    }
   ],
   "source": [
    "display(df_interpolated.head())\n",
    "display(df_interpolated.tail())\n"
   ]
  },
  {
   "cell_type": "markdown",
   "metadata": {},
   "source": [
    "And let's save this dataframe in the time series folder!"
   ]
  },
  {
   "cell_type": "code",
   "execution_count": 159,
   "metadata": {},
   "outputs": [],
   "source": [
    "from pathlib import Path\n",
    "\n",
    "fname = Path(\"storms_engelstad.csv\")\n",
    "\n",
    "save_path = os.path.join(os.getcwd(), \"ts_datasets/\", fname)\n",
    "\n",
    "df_interpolated.to_csv(save_path)"
   ]
  },
  {
   "cell_type": "code",
   "execution_count": null,
   "metadata": {},
   "outputs": [],
   "source": []
  }
 ],
 "metadata": {
  "kernelspec": {
   "display_name": "thesis",
   "language": "python",
   "name": "python3"
  },
  "language_info": {
   "codemirror_mode": {
    "name": "ipython",
    "version": 3
   },
   "file_extension": ".py",
   "mimetype": "text/x-python",
   "name": "python",
   "nbconvert_exporter": "python",
   "pygments_lexer": "ipython3",
   "version": "3.12.4"
  }
 },
 "nbformat": 4,
 "nbformat_minor": 2
}
