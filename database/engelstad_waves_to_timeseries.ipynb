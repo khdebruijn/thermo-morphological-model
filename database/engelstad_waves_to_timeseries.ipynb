{
 "cells": [
  {
   "cell_type": "code",
   "execution_count": 2,
   "metadata": {},
   "outputs": [],
   "source": [
    "import os\n",
    "\n",
    "import matplotlib.pyplot as plt\n",
    "import numpy as np\n",
    "import pandas as pd\n",
    "import xarray as xr"
   ]
  },
  {
   "cell_type": "code",
   "execution_count": 3,
   "metadata": {},
   "outputs": [],
   "source": [
    "fname = 'WaveTimeSeries_ERA5_CanadianBorder_to_Nuvuk_10mDepth.nc'\n",
    "\n",
    "fpath = os.path.join(os.getcwd(), \"raw_datasets/engelstad/\", fname)\n",
    "\n",
    "ds = xr.open_dataset(fpath, chunks={'t':1000})"
   ]
  },
  {
   "cell_type": "code",
   "execution_count": 29,
   "metadata": {},
   "outputs": [],
   "source": [
    "lon_min, lon_max = -143.75, -143.60\n",
    "lat_min, lat_max = 70.13, 70.17\n",
    "\n",
    "lat_bi, lon_bi = 70.133940, -143.678497"
   ]
  },
  {
   "cell_type": "code",
   "execution_count": 17,
   "metadata": {},
   "outputs": [
    {
     "name": "stdout",
     "output_type": "stream",
     "text": [
      "<xarray.Dataset> Size: 11GB\n",
      "Dimensions:     (time: 119800, numberOfCharacters: 11, transect: 2381,\n",
      "                 longitude: 2381, latitude: 2381)\n",
      "Coordinates:\n",
      "  * time        (time) datetime64[ns] 958kB 1979-01-01 ... 2019-12-31T21:00:00\n",
      "    transect    (numberOfCharacters, transect) |S1 26kB dask.array<chunksize=(11, 2381), meta=np.ndarray>\n",
      "  * longitude   (longitude) float32 10kB -145.5 -145.5 -145.5 ... -155.0 -155.0\n",
      "  * latitude    (latitude) float32 10kB 70.1 70.1 70.11 ... 71.18 71.18 71.18\n",
      "Dimensions without coordinates: numberOfCharacters\n",
      "Data variables:\n",
      "    depth       (transect) float32 10kB dask.array<chunksize=(2381,), meta=np.ndarray>\n",
      "    Hs          (transect, time) float32 1GB dask.array<chunksize=(2381, 119800), meta=np.ndarray>\n",
      "    Tm01        (transect, time) float32 1GB dask.array<chunksize=(2381, 119800), meta=np.ndarray>\n",
      "    Dm          (transect, time) float32 1GB dask.array<chunksize=(2381, 119800), meta=np.ndarray>\n",
      "    Flag_D      (transect, time) float32 1GB dask.array<chunksize=(2381, 119800), meta=np.ndarray>\n",
      "    Flag_S      (transect, time) float32 1GB dask.array<chunksize=(2381, 119800), meta=np.ndarray>\n",
      "    Flag_Hs020  (transect, time) float32 1GB dask.array<chunksize=(2381, 119800), meta=np.ndarray>\n",
      "    Flag_Hs025  (transect, time) float32 1GB dask.array<chunksize=(2381, 119800), meta=np.ndarray>\n",
      "    Flag_Hs050  (transect, time) float32 1GB dask.array<chunksize=(2381, 119800), meta=np.ndarray>\n",
      "    Flag_Hs075  (transect, time) float32 1GB dask.array<chunksize=(2381, 119800), meta=np.ndarray>\n",
      "    Flag_Hs100  (transect, time) float32 1GB dask.array<chunksize=(2381, 119800), meta=np.ndarray>\n",
      "Attributes:\n",
      "    product_name:    DWDB hindcast time-series\n",
      "    area:            SWAN grids for the State of Alaska\n",
      "    data_type:       time-series\n",
      "    format_version:  1.1\n",
      "    hindcast:        ERA5 reanalysis\n",
      "    start_date:      1979-01-01\n",
      "    stop_date:       2019-12-31\n",
      "    Temporal_Res:    3-hourly\n",
      "    author:          USGS, aengelstad@usgs.gov\n"
     ]
    }
   ],
   "source": [
    "print(ds)"
   ]
  },
  {
   "cell_type": "code",
   "execution_count": 50,
   "metadata": {},
   "outputs": [
    {
     "name": "stdout",
     "output_type": "stream",
     "text": [
      "<xarray.DataArray 'transect' (numberOfCharacters: 11, transect: 2381)> Size: 26kB\n",
      "dask.array<open_dataset-transect, shape=(11, 2381), dtype=|S1, chunksize=(11, 2381), chunktype=numpy.ndarray>\n",
      "Coordinates:\n",
      "    transect  (numberOfCharacters, transect) |S1 26kB dask.array<chunksize=(11, 2381), meta=np.ndarray>\n",
      "Dimensions without coordinates: numberOfCharacters\n",
      "Attributes:\n",
      "    long_name:   transect ID\n",
      "    short_name:  transect_ID\n"
     ]
    }
   ],
   "source": [
    "print(ds.transect)"
   ]
  },
  {
   "cell_type": "code",
   "execution_count": 23,
   "metadata": {},
   "outputs": [
    {
     "name": "stdout",
     "output_type": "stream",
     "text": [
      "[[b'E' b'E' b'E' ... b'S' b'S' b'S']\n",
      " [b'C' b'C' b'C' ... b'W' b'W' b'W']\n",
      " [b'B' b'B' b'B' ... b'B' b'B' b'B']\n",
      " ...\n",
      " [b'2' b'3' b'3' ... b'8' b'6' b'4']\n",
      " [b'9' b'0' b'1' ... b' ' b' ' b' ']\n",
      " [b'8' b'6' b'4' ... b' ' b' ' b' ']]\n",
      "(11, 2381)\n",
      "[b'E' b'C' b'B' b'_' b'1' b'0' b'_' b'1' b'2' b'9' b'8']\n"
     ]
    }
   ],
   "source": [
    "print(ds.transect.values)\n",
    "print(ds.transect.values.shape)\n",
    "print(ds.transect.values[:,0])"
   ]
  },
  {
   "cell_type": "code",
   "execution_count": 53,
   "metadata": {},
   "outputs": [
    {
     "name": "stdout",
     "output_type": "stream",
     "text": [
      "[b'E' b'E' b'E' b'E' b'E' b'E' b'E' b'E' b'E' b'E' b'E' b'E' b'E' b'E'\n",
      " b'E' b'E' b'E' b'S' b'S' b'S' b'S' b'S' b'S' b'S' b'S' b'S' b'S' b'S'\n",
      " b'S' b'S' b'S']\n",
      "0.0\n",
      "498\n"
     ]
    }
   ],
   "source": [
    "mask = np.nonzero(\n",
    "    (ds['longitude'].values > lon_min) * \\\n",
    "    (ds['longitude'].values < lon_max) * \\\n",
    "    (ds['latitude'].values > lat_min) * \\\n",
    "    (ds['latitude'].values < lat_max)\n",
    ")\n",
    "\n",
    "print(ds['transect'].values[0,:][mask])\n",
    "\n",
    "lon, lat = ds['longitude'].values[mask], ds['latitude'].values[mask]\n",
    "\n",
    "# select the transect closest to my location\n",
    "id = np.argmin(np.sqrt((lon - lon_bi)**2 + (lat - lat_bi)**2))\n",
    "\n",
    "my_lon, my_lat = lon[id], lat[id]\n",
    "\n",
    "print(np.min(np.abs((ds.longitude.values - my_lon) + (ds.latitude.values - my_lat))))\n",
    "\n",
    "id_transect = np.argmin(np.abs((ds.longitude.values - my_lon) + (ds.latitude.values - my_lat)))\n",
    "\n",
    "print(id_transect)\n",
    "\n",
    "ds_masked = ds.isel(transect=id_transect)\n",
    "\n",
    "# print(transect)\n",
    "# print(transect.shape)\n",
    "\n",
    "# mask = all(ds.transect.values==np.tile(transect.reshape(-1, 1), (1, 2381))\n",
    "\n",
    "\n",
    "# mask = ds.where(\n",
    "#     (\n",
    "#         )\n",
    "#     )\n",
    "# )"
   ]
  },
  {
   "cell_type": "code",
   "execution_count": 7,
   "metadata": {},
   "outputs": [
    {
     "ename": "IndexError",
     "evalue": "boolean index did not match indexed array along dimension 0; dimension is 11 but corresponding boolean dimension is 2381",
     "output_type": "error",
     "traceback": [
      "\u001b[1;31m---------------------------------------------------------------------------\u001b[0m",
      "\u001b[1;31mIndexError\u001b[0m                                Traceback (most recent call last)",
      "Cell \u001b[1;32mIn[7], line 5\u001b[0m\n\u001b[0;32m      1\u001b[0m mask \u001b[38;5;241m=\u001b[39m (ds[\u001b[38;5;124m'\u001b[39m\u001b[38;5;124mlongitude\u001b[39m\u001b[38;5;124m'\u001b[39m]\u001b[38;5;241m.\u001b[39mvalues \u001b[38;5;241m>\u001b[39m lon_min) \u001b[38;5;241m*\u001b[39m (ds[\u001b[38;5;124m'\u001b[39m\u001b[38;5;124mlongitude\u001b[39m\u001b[38;5;124m'\u001b[39m]\u001b[38;5;241m.\u001b[39mvalues \u001b[38;5;241m<\u001b[39m lon_max) \u001b[38;5;241m*\u001b[39m (ds[\u001b[38;5;124m'\u001b[39m\u001b[38;5;124mlatitude\u001b[39m\u001b[38;5;124m'\u001b[39m]\u001b[38;5;241m.\u001b[39mvalues \u001b[38;5;241m>\u001b[39m lat_min) \u001b[38;5;241m*\u001b[39m (ds[\u001b[38;5;124m'\u001b[39m\u001b[38;5;124mlatitude\u001b[39m\u001b[38;5;124m'\u001b[39m]\u001b[38;5;241m.\u001b[39mvalues \u001b[38;5;241m<\u001b[39m lat_max)\n\u001b[0;32m      2\u001b[0m \u001b[38;5;66;03m# \u001b[39;00m\n\u001b[0;32m      3\u001b[0m \u001b[38;5;66;03m# print(mask)\u001b[39;00m\n\u001b[1;32m----> 5\u001b[0m \u001b[43mds\u001b[49m\u001b[43m[\u001b[49m\u001b[38;5;124;43m'\u001b[39;49m\u001b[38;5;124;43mtransect\u001b[39;49m\u001b[38;5;124;43m'\u001b[39;49m\u001b[43m]\u001b[49m\u001b[38;5;241;43m.\u001b[39;49m\u001b[43mvalues\u001b[49m\u001b[43m[\u001b[49m\u001b[43mmask\u001b[49m\u001b[43m]\u001b[49m\n\u001b[0;32m      7\u001b[0m \u001b[38;5;66;03m# ds_masked = ds.where(mask, drop=True)\u001b[39;00m\n\u001b[0;32m      9\u001b[0m ds\u001b[38;5;241m.\u001b[39mclose()\n",
      "\u001b[1;31mIndexError\u001b[0m: boolean index did not match indexed array along dimension 0; dimension is 11 but corresponding boolean dimension is 2381"
     ]
    }
   ],
   "source": [
    "mask = (ds['longitude'].values > lon_min) * (ds['longitude'].values < lon_max) * (ds['latitude'].values > lat_min) * (ds['latitude'].values < lat_max)\n",
    "# \n",
    "# print(mask)\n",
    "\n",
    "ds['transect'].values[mask]\n",
    "\n",
    "# ds_masked = ds.where(mask, drop=True)\n",
    "\n",
    "ds.close()"
   ]
  },
  {
   "cell_type": "code",
   "execution_count": 6,
   "metadata": {},
   "outputs": [],
   "source": [
    "# ds.transect.values"
   ]
  },
  {
   "cell_type": "code",
   "execution_count": null,
   "metadata": {},
   "outputs": [],
   "source": []
  }
 ],
 "metadata": {
  "kernelspec": {
   "display_name": "thesis",
   "language": "python",
   "name": "python3"
  },
  "language_info": {
   "codemirror_mode": {
    "name": "ipython",
    "version": 3
   },
   "file_extension": ".py",
   "mimetype": "text/x-python",
   "name": "python",
   "nbconvert_exporter": "python",
   "pygments_lexer": "ipython3",
   "version": "3.12.4"
  }
 },
 "nbformat": 4,
 "nbformat_minor": 2
}
