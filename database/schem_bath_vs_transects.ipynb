{
 "cells": [
  {
   "cell_type": "code",
   "execution_count": 10,
   "metadata": {},
   "outputs": [],
   "source": [
    "import os\n",
    "from pathlib import Path\n",
    "import sys\n",
    "import yaml\n",
    "\n",
    "import numpy as np\n",
    "import matplotlib.pyplot as plt\n",
    "import pandas as pd"
   ]
  },
  {
   "cell_type": "code",
   "execution_count": 5,
   "metadata": {},
   "outputs": [],
   "source": [
    "cwd = os.getcwd()\n",
    "\n",
    "proj_dir = Path(cwd).parent\n",
    "\n",
    "os.chdir(proj_dir)"
   ]
  },
  {
   "cell_type": "code",
   "execution_count": 6,
   "metadata": {},
   "outputs": [],
   "source": [
    "from utils.bathymetry import generate_schematized_bathymetry"
   ]
  },
  {
   "cell_type": "code",
   "execution_count": 9,
   "metadata": {},
   "outputs": [],
   "source": [
    "load_path = Path(\"database/transects/\")\n",
    "\n",
    "x0 = np.loadtxt(os.path.join(load_path, 'x0.txt'))\n",
    "x1 = np.loadtxt(os.path.join(load_path, 'x1.txt'))\n",
    "x2 = np.loadtxt(os.path.join(load_path, 'x2.txt'))\n",
    "x3 = np.loadtxt(os.path.join(load_path, 'x3.txt'))\n",
    "\n",
    "z0 = np.loadtxt(os.path.join(load_path, 'z0.txt'))\n",
    "z1 = np.loadtxt(os.path.join(load_path, 'z1.txt'))\n",
    "z2 = np.loadtxt(os.path.join(load_path, 'z2.txt'))\n",
    "z3 = np.loadtxt(os.path.join(load_path, 'z3.txt'))\n",
    "\n",
    "xgr = np.loadtxt(os.path.join(load_path, \"x_data.grd\"))\n",
    "zgr = np.loadtxt(os.path.join(load_path, \"bed_data.dep\"))"
   ]
  },
  {
   "cell_type": "code",
   "execution_count": null,
   "metadata": {},
   "outputs": [],
   "source": [
    "def read_config(config_file_path):\n",
    "    '''\n",
    "    Creates configuration variables from file\n",
    "    ------\n",
    "    config_file: .yaml file\n",
    "        file containing dictionary with dataset creation information\n",
    "    ''' \n",
    "\n",
    "    class AttrDict(dict):\n",
    "        \"\"\"\n",
    "        This class is used to make it easier to work with dictionaries and allows \n",
    "        values to be called similar to attributes\n",
    "        \"\"\"\n",
    "        def __init__(self, *args, **kwargs):\n",
    "            super(AttrDict, self).__init__(*args, **kwargs)\n",
    "            self.__dict__ = self\n",
    "                                \n",
    "    with open(config_file_path) as f:\n",
    "        cfg = yaml.safe_load(f)\n",
    "        \n",
    "    config = AttrDict(cfg)\n",
    "            \n",
    "    for key in cfg:\n",
    "        config[key] = AttrDict(cfg[key])\n",
    "            \n",
    "    return config"
   ]
  },
  {
   "cell_type": "markdown",
   "metadata": {},
   "source": []
  }
 ],
 "metadata": {
  "kernelspec": {
   "display_name": "thesis",
   "language": "python",
   "name": "python3"
  },
  "language_info": {
   "codemirror_mode": {
    "name": "ipython",
    "version": 3
   },
   "file_extension": ".py",
   "mimetype": "text/x-python",
   "name": "python",
   "nbconvert_exporter": "python",
   "pygments_lexer": "ipython3",
   "version": "3.12.3"
  }
 },
 "nbformat": 4,
 "nbformat_minor": 2
}
