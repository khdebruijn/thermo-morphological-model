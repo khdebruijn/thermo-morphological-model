{
 "cells": [
  {
   "cell_type": "code",
   "execution_count": 66,
   "metadata": {},
   "outputs": [],
   "source": [
    "import os\n",
    "\n",
    "import matplotlib.pyplot as plt\n",
    "import numpy as np\n",
    "import pandas as pd\n",
    "import xarray as xr"
   ]
  },
  {
   "cell_type": "code",
   "execution_count": 67,
   "metadata": {},
   "outputs": [],
   "source": [
    "def mask_data_spatial(ds, lon, lat):\n",
    "    \n",
    "    spatial_mask = (ds.longitude == lon) * (ds.latitude == lat)\n",
    "\n",
    "    return ds.where(spatial_mask, drop=True)"
   ]
  },
  {
   "cell_type": "code",
   "execution_count": 68,
   "metadata": {},
   "outputs": [],
   "source": [
    "lon_Barter_Island = 360 + -143.75\n",
    "lat_Barter_Island = 70.0\n",
    "\n",
    "lon_offshore = 360 + -143.75\n",
    "lat_offshore = 70.25"
   ]
  },
  {
   "cell_type": "code",
   "execution_count": 69,
   "metadata": {},
   "outputs": [
    {
     "name": "stdout",
     "output_type": "stream",
     "text": [
      "succesful for variable 10m_u_component_of_wind\n",
      "succesful for variable 10m_v_component_of_wind\n",
      "succesful for variable 2m_temperature\n",
      "succesful for variable mean_surface_latent_heat_flux\n",
      "succesful for variable mean_surface_net_long_wave_radiation_flux\n",
      "succesful for variable mean_surface_net_short_wave_radiation_flux\n",
      "succesful for variable sea_ice_cover\n",
      "succesful for variable sea_surface_temperature\n",
      "succesful for variable snow_depth\n",
      "succesful for variable soil_temperature_level_1\n",
      "succesful for variable soil_temperature_level_2\n",
      "succesful for variable soil_temperature_level_3\n",
      "succesful for variable soil_temperature_level_4\n"
     ]
    }
   ],
   "source": [
    "cwd = os.getcwd()\n",
    "\n",
    "dir_path = os.path.join(cwd, 'raw_datasets/era5')\n",
    "\n",
    "save_path = os.path.join(cwd, \"\")\n",
    "\n",
    "\n",
    "dir_list = [dir for dir in os.listdir(dir_path) if os.path.isdir(os.path.join(dir_path, dir))]\n",
    "offshore_vars = [\n",
    "    \"sea_ice_cover\", \n",
    "    \"sea_surface_temperature\", \n",
    "    \"10m_u_component_of_wind.csv\",\n",
    "    \"10m_u_component_of_wind.csv\"\n",
    "]\n",
    "\n",
    "minyear = 2020\n",
    "maxyear = 2023\n",
    "\n",
    "years_with_data = np.arange(minyear, maxyear+1, 1)\n",
    "\n",
    "locations = []\n",
    "\n",
    "for dir in dir_list:\n",
    "    \n",
    "    time = []\n",
    "    data = []\n",
    "       \n",
    "    for year in years_with_data:\n",
    "        \n",
    "        if dir in offshore_vars:\n",
    "            lon, lat = lon_offshore, lat_offshore\n",
    "        \n",
    "        else:\n",
    "            lon, lat = lon_Barter_Island, lat_Barter_Island\n",
    "        \n",
    "        fp = os.path.join(dir_path, dir, dir + \"_\" + str(year) + \".nc\")\n",
    "        \n",
    "        ds = xr.open_dataset(fp)\n",
    "        \n",
    "        masked_ds = mask_data_spatial(ds, lon, lat).squeeze(drop=True)\n",
    "        \n",
    "        colname = list(ds.keys())[0]\n",
    "                \n",
    "        ds.close()\n",
    "\n",
    "        time_year = list(masked_ds.time.values)\n",
    "       \n",
    "        time = time + time_year\n",
    "        \n",
    "        data += list(masked_ds[colname].values)\n",
    "        \n",
    "        masked_ds.close()\n",
    "            \n",
    "    df = pd.DataFrame({\"time\":time})\n",
    "    df_generated = True\n",
    "    df[dir] = data\n",
    "    \n",
    "    \n",
    "    if dir in offshore_vars:\n",
    "        locations.append((dir, lon_offshore, lat_offshore, 'offshore'))\n",
    "    else:\n",
    "        locations.append((dir, lon_Barter_Island, lat_Barter_Island, 'onshore'))\n",
    "        \n",
    "    df.to_csv(os.path.join(\"ts_datasets/\", dir + \".csv\"))\n",
    "    \n",
    "    print(f\"succesful for variable {dir}\")"
   ]
  },
  {
   "cell_type": "code",
   "execution_count": 70,
   "metadata": {},
   "outputs": [],
   "source": [
    "df_loc = pd.DataFrame(data=locations, columns=['var', 'lon', 'lat', 'note'])\n"
   ]
  },
  {
   "cell_type": "code",
   "execution_count": null,
   "metadata": {},
   "outputs": [],
   "source": []
  },
  {
   "cell_type": "code",
   "execution_count": null,
   "metadata": {},
   "outputs": [],
   "source": []
  },
  {
   "cell_type": "code",
   "execution_count": null,
   "metadata": {},
   "outputs": [],
   "source": []
  },
  {
   "cell_type": "code",
   "execution_count": null,
   "metadata": {},
   "outputs": [],
   "source": []
  }
 ],
 "metadata": {
  "kernelspec": {
   "display_name": "thesis",
   "language": "python",
   "name": "python3"
  },
  "language_info": {
   "codemirror_mode": {
    "name": "ipython",
    "version": 3
   },
   "file_extension": ".py",
   "mimetype": "text/x-python",
   "name": "python",
   "nbconvert_exporter": "python",
   "pygments_lexer": "ipython3",
   "version": "3.12.3"
  }
 },
 "nbformat": 4,
 "nbformat_minor": 2
}
