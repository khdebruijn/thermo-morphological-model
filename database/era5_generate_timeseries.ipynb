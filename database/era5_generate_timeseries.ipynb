{
 "cells": [
  {
   "cell_type": "code",
   "execution_count": 1,
   "metadata": {},
   "outputs": [],
   "source": [
    "import os\n",
    "\n",
    "import matplotlib.pyplot as plt\n",
    "import numpy as np\n",
    "import pandas as pd\n",
    "import xarray as xr"
   ]
  },
  {
   "cell_type": "code",
   "execution_count": 2,
   "metadata": {},
   "outputs": [],
   "source": [
    "cwd = os.path.join(os.getcwd(), \"..\")\n",
    "\n",
    "dir_path = os.path.join(cwd, 'raw_datasets/era5')"
   ]
  },
  {
   "cell_type": "code",
   "execution_count": 3,
   "metadata": {},
   "outputs": [],
   "source": [
    "def mask_data_spatial(ds, lon, lat):\n",
    "    \n",
    "    spatial_mask = (ds.longitude == lon) * (ds.latitude == lat)\n",
    "\n",
    "    return ds.where(spatial_mask, drop=True)"
   ]
  },
  {
   "cell_type": "code",
   "execution_count": 4,
   "metadata": {},
   "outputs": [],
   "source": [
    "locations = []\n",
    "\n",
    "\n",
    "def convert_to_csv(var_name, minyear, maxyear, lon, lat, save_path=None, lat_offshore=70.25, lat_Barter_Island=70.0):\n",
    "    \n",
    "    time = []\n",
    "    data = []\n",
    "\n",
    "    years_with_data = np.arange(minyear, maxyear+1, 1)\n",
    "\n",
    "    for year in years_with_data:\n",
    "        \n",
    "        fp = os.path.join(dir_path, var_name, var_name + \"_\" + str(year) + \".nc\")\n",
    "        \n",
    "        ds = xr.open_dataset(fp)\n",
    "        \n",
    "        masked_ds = mask_data_spatial(ds, lon, lat).squeeze(drop=True)\n",
    "        \n",
    "        colname = list(ds.keys())[0]\n",
    "        \n",
    "        ds.close()\n",
    "\n",
    "        time_year = list(masked_ds.time.values)\n",
    "       \n",
    "        time = time + time_year\n",
    "        \n",
    "        data += list(masked_ds[colname].values)\n",
    "        \n",
    "        masked_ds.close()\n",
    "            \n",
    "    df = pd.DataFrame({\"time\":time})\n",
    "\n",
    "    if not save_path:\n",
    "        save_path = var_name\n",
    "    \n",
    "    df[save_path] = data\n",
    "    \n",
    "    if lat == lat_offshore:\n",
    "        locations.append((save_path, lon_offshore, lat_offshore, 'offshore'))\n",
    "    else:\n",
    "        locations.append((save_path, lon_Barter_Island, lat_Barter_Island, 'onshore'))\n",
    "        \n",
    "    df.to_csv(os.path.join(\"ts_datasets/\", save_path + \".csv\"))\n",
    "    \n",
    "    print(f\"succesful for variable {save_path}\")"
   ]
  },
  {
   "cell_type": "code",
   "execution_count": 5,
   "metadata": {},
   "outputs": [
    {
     "name": "stdout",
     "output_type": "stream",
     "text": [
      "succesful for variable 10m_u_component_of_wind\n",
      "succesful for variable 10m_v_component_of_wind\n",
      "succesful for variable 2m_temperature\n",
      "succesful for variable mean_surface_latent_heat_flux\n",
      "succesful for variable mean_surface_net_long_wave_radiation_flux\n",
      "succesful for variable mean_surface_net_short_wave_radiation_flux\n",
      "succesful for variable sea_ice_cover\n",
      "succesful for variable sea_surface_temperature\n",
      "succesful for variable snow_depth\n",
      "succesful for variable soil_temperature_level_1\n",
      "succesful for variable soil_temperature_level_2\n",
      "succesful for variable soil_temperature_level_3\n",
      "succesful for variable soil_temperature_level_4\n",
      "succesful for variable soil_temperature_level_1_offs\n",
      "succesful for variable soil_temperature_level_2_offs\n",
      "succesful for variable soil_temperature_level_3_offs\n",
      "succesful for variable soil_temperature_level_4_offs\n"
     ]
    }
   ],
   "source": [
    "# offshore_vars = [\n",
    "#     \"sea_ice_cover\", \n",
    "#     \"sea_surface_temperature\", \n",
    "#     \"10m_u_component_of_wind\",\n",
    "#     \"10m_v_component_of_wind\"\n",
    "#     \"soil_temperature_level_1_offs\",\n",
    "#     \"soil_temperature_level_2_offs\",\n",
    "#     \"soil_temperature_level_3_offs\",\n",
    "#     \"soil_temperature_level_4_offs\"\n",
    "# ]\n",
    "\n",
    "minyear = 2020\n",
    "maxyear = 2023\n",
    "\n",
    "lon_Barter_Island = 360 + -143.75\n",
    "lat_Barter_Island = 70.0\n",
    "\n",
    "lon_offshore = 360 + -143.75\n",
    "lat_offshore = 70.25\n",
    "\n",
    "convert_to_csv('10m_u_component_of_wind', minyear, maxyear, lon_offshore, lat_offshore)\n",
    "convert_to_csv('10m_v_component_of_wind', minyear, maxyear, lon_offshore, lat_offshore)\n",
    "convert_to_csv('2m_temperature', minyear, maxyear, lon_Barter_Island, lat_Barter_Island)\n",
    "convert_to_csv('mean_surface_latent_heat_flux', minyear, maxyear, lon_Barter_Island, lat_Barter_Island)\n",
    "convert_to_csv('mean_surface_net_long_wave_radiation_flux', minyear, maxyear, lon_Barter_Island, lat_Barter_Island)\n",
    "convert_to_csv('mean_surface_net_short_wave_radiation_flux', minyear, maxyear, lon_Barter_Island, lat_Barter_Island)\n",
    "convert_to_csv('sea_ice_cover', minyear, maxyear, lon_offshore, lat_offshore)\n",
    "convert_to_csv('sea_surface_temperature', minyear, maxyear, lon_offshore, lat_offshore)\n",
    "convert_to_csv('snow_depth', minyear, maxyear, lon_Barter_Island, lat_Barter_Island)\n",
    "convert_to_csv('soil_temperature_level_1', minyear, maxyear, lon_Barter_Island, lat_Barter_Island)\n",
    "convert_to_csv('soil_temperature_level_2', minyear, maxyear, lon_Barter_Island, lat_Barter_Island)\n",
    "convert_to_csv('soil_temperature_level_3', minyear, maxyear, lon_Barter_Island, lat_Barter_Island)\n",
    "convert_to_csv('soil_temperature_level_4', minyear, maxyear, lon_Barter_Island, lat_Barter_Island)\n",
    "convert_to_csv('soil_temperature_level_1', minyear, maxyear, lon_offshore, lat_offshore, save_path='soil_temperature_level_1_offs')\n",
    "convert_to_csv('soil_temperature_level_2', minyear, maxyear, lon_offshore, lat_offshore, save_path='soil_temperature_level_2_offs')\n",
    "convert_to_csv('soil_temperature_level_3', minyear, maxyear, lon_offshore, lat_offshore, save_path='soil_temperature_level_3_offs')\n",
    "convert_to_csv('soil_temperature_level_4', minyear, maxyear, lon_offshore, lat_offshore, save_path='soil_temperature_level_4_offs')"
   ]
  },
  {
   "cell_type": "code",
   "execution_count": 6,
   "metadata": {},
   "outputs": [],
   "source": [
    "df_loc = pd.DataFrame(data=locations, columns=['var', 'lon', 'lat', 'note'])\n",
    "df_loc.to_csv(os.path.join(\"ts_datasets/\", \"variable_locations.txt\"))"
   ]
  },
  {
   "cell_type": "code",
   "execution_count": 7,
   "metadata": {},
   "outputs": [
    {
     "data": {
      "text/html": [
       "<div>\n",
       "<style scoped>\n",
       "    .dataframe tbody tr th:only-of-type {\n",
       "        vertical-align: middle;\n",
       "    }\n",
       "\n",
       "    .dataframe tbody tr th {\n",
       "        vertical-align: top;\n",
       "    }\n",
       "\n",
       "    .dataframe thead th {\n",
       "        text-align: right;\n",
       "    }\n",
       "</style>\n",
       "<table border=\"1\" class=\"dataframe\">\n",
       "  <thead>\n",
       "    <tr style=\"text-align: right;\">\n",
       "      <th></th>\n",
       "      <th>time</th>\n",
       "    </tr>\n",
       "  </thead>\n",
       "  <tbody>\n",
       "    <tr>\n",
       "      <th>0</th>\n",
       "      <td>2020-01-01 00:00:00</td>\n",
       "    </tr>\n",
       "    <tr>\n",
       "      <th>1</th>\n",
       "      <td>2020-01-01 01:00:00</td>\n",
       "    </tr>\n",
       "    <tr>\n",
       "      <th>2</th>\n",
       "      <td>2020-01-01 02:00:00</td>\n",
       "    </tr>\n",
       "    <tr>\n",
       "      <th>3</th>\n",
       "      <td>2020-01-01 03:00:00</td>\n",
       "    </tr>\n",
       "    <tr>\n",
       "      <th>4</th>\n",
       "      <td>2020-01-01 04:00:00</td>\n",
       "    </tr>\n",
       "  </tbody>\n",
       "</table>\n",
       "</div>"
      ],
      "text/plain": [
       "                  time\n",
       "0  2020-01-01 00:00:00\n",
       "1  2020-01-01 01:00:00\n",
       "2  2020-01-01 02:00:00\n",
       "3  2020-01-01 03:00:00\n",
       "4  2020-01-01 04:00:00"
      ]
     },
     "execution_count": 7,
     "metadata": {},
     "output_type": "execute_result"
    }
   ],
   "source": [
    "time = pd.read_csv(os.path.join(\"ts_datasets/\", \"2m_temperature.csv\"))[\"time\"].values\n",
    "\n",
    "total_df = pd.DataFrame(time, columns=[\"time\"])\n",
    "total_df.head()"
   ]
  },
  {
   "cell_type": "code",
   "execution_count": 8,
   "metadata": {},
   "outputs": [],
   "source": [
    "dir_list = [\n",
    "    \"10m_u_component_of_wind\",\n",
    "    \"10m_v_component_of_wind\",\n",
    "    \"2m_temperature\",\n",
    "    \"mean_surface_latent_heat_flux\",\n",
    "    \"mean_surface_net_long_wave_radiation_flux\",\n",
    "    \"mean_surface_net_short_wave_radiation_flux\",\n",
    "    \"sea_ice_cover\",\n",
    "    \"sea_surface_temperature\",\n",
    "    \"snow_depth\",\n",
    "    \"soil_temperature_level_1\",\n",
    "    \"soil_temperature_level_2\",\n",
    "    \"soil_temperature_level_3\",\n",
    "    \"soil_temperature_level_4\",\n",
    "    \"soil_temperature_level_1_offs\",\n",
    "    \"soil_temperature_level_2_offs\",\n",
    "    \"soil_temperature_level_3_offs\",\n",
    "    \"soil_temperature_level_4_offs\",\n",
    "]"
   ]
  },
  {
   "cell_type": "code",
   "execution_count": 9,
   "metadata": {},
   "outputs": [],
   "source": [
    "for dir in dir_list:\n",
    "    \n",
    "    fpath = os.path.join(\"ts_datasets\", dir + \".csv\")\n",
    "    \n",
    "    with open(fpath) as f:\n",
    "        \n",
    "        array = pd.read_csv(f).iloc[:,2]\n",
    "        \n",
    "        total_df[dir] = array"
   ]
  },
  {
   "cell_type": "code",
   "execution_count": 10,
   "metadata": {},
   "outputs": [],
   "source": [
    "total_df.to_csv(os.path.join(\"ts_datasets/\", \"era5.csv\"))"
   ]
  }
 ],
 "metadata": {
  "kernelspec": {
   "display_name": "thesis",
   "language": "python",
   "name": "python3"
  },
  "language_info": {
   "codemirror_mode": {
    "name": "ipython",
    "version": 3
   },
   "file_extension": ".py",
   "mimetype": "text/x-python",
   "name": "python",
   "nbconvert_exporter": "python",
   "pygments_lexer": "ipython3",
   "version": "3.12.3"
  }
 },
 "nbformat": 4,
 "nbformat_minor": 2
}
