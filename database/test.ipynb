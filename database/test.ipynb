{
 "cells": [
  {
   "cell_type": "code",
   "execution_count": 3,
   "metadata": {},
   "outputs": [],
   "source": [
    "import numpy as np\n",
    "import matplotlib.pyplot as plt"
   ]
  },
  {
   "cell_type": "code",
   "execution_count": 1,
   "metadata": {},
   "outputs": [],
   "source": [
    "def interpolate_points(x, y, num_points):\n",
    "    \"\"\"\n",
    "    Interpolate points linearly between given points (x, y).\n",
    "    \n",
    "    Parameters:\n",
    "        x (array-like): X coordinates of the given points.\n",
    "        y (array-like): Y coordinates of the given points.\n",
    "        num_points (int): Number of points to interpolate between the given points.\n",
    "    \n",
    "    Returns:\n",
    "        np.ndarray: Array of interpolated points.\n",
    "    \"\"\"\n",
    "    # Calculate the interval between points\n",
    "    interval = (x[-1] - x[0]) / (num_points - 1)\n",
    "    \n",
    "    # Generate interpolated points using linspace\n",
    "    interpolated_x = np.linspace(x[0], x[-1], num_points)\n",
    "    interpolated_y = np.interp(interpolated_x, x, y)\n",
    "    \n",
    "    # Combine interpolated x and y coordinates into a single array of points\n",
    "    interpolated_points = np.column_stack((interpolated_x, interpolated_y))\n",
    "    \n",
    "    return interpolated_points"
   ]
  },
  {
   "cell_type": "code",
   "execution_count": 3,
   "metadata": {},
   "outputs": [],
   "source": [
    "x = [0, 0.25, 0.75, 1.5]\n",
    "\n",
    "y = [1, 4, 2, 5]\n",
    "\n",
    "result = interpolate_points(x, y, 20)"
   ]
  },
  {
   "cell_type": "code",
   "execution_count": 4,
   "metadata": {},
   "outputs": [
    {
     "name": "stdout",
     "output_type": "stream",
     "text": [
      "[[0.         1.        ]\n",
      " [0.07894737 1.94736842]\n",
      " [0.15789474 2.89473684]\n",
      " [0.23684211 3.84210526]\n",
      " [0.31578947 3.73684211]\n",
      " [0.39473684 3.42105263]\n",
      " [0.47368421 3.10526316]\n",
      " [0.55263158 2.78947368]\n",
      " [0.63157895 2.47368421]\n",
      " [0.71052632 2.15789474]\n",
      " [0.78947368 2.15789474]\n",
      " [0.86842105 2.47368421]\n",
      " [0.94736842 2.78947368]\n",
      " [1.02631579 3.10526316]\n",
      " [1.10526316 3.42105263]\n",
      " [1.18421053 3.73684211]\n",
      " [1.26315789 4.05263158]\n",
      " [1.34210526 4.36842105]\n",
      " [1.42105263 4.68421053]\n",
      " [1.5        5.        ]]\n"
     ]
    }
   ],
   "source": [
    "print(result)"
   ]
  },
  {
   "cell_type": "code",
   "execution_count": 21,
   "metadata": {},
   "outputs": [
    {
     "name": "stdout",
     "output_type": "stream",
     "text": [
      "[[ 0.          0.        ]\n",
      " [ 0.13793103  0.13793103]\n",
      " [ 0.27586207  0.27586207]\n",
      " [ 0.4137931   0.4137931 ]\n",
      " [ 0.55172414  0.55172414]\n",
      " [ 0.68965517  0.68965517]\n",
      " [ 0.82758621  0.82758621]\n",
      " [ 0.96551724  0.96551724]\n",
      " [ 1.10344828  1.31034483]\n",
      " [ 1.24137931  1.72413793]\n",
      " [ 1.37931034  2.13793103]\n",
      " [ 1.51724138  2.55172414]\n",
      " [ 1.65517241  2.96551724]\n",
      " [ 1.79310345  3.37931034]\n",
      " [ 1.93103448  3.79310345]\n",
      " [ 2.06896552  4.34482759]\n",
      " [ 2.20689655  5.03448276]\n",
      " [ 2.34482759  5.72413793]\n",
      " [ 2.48275862  6.4137931 ]\n",
      " [ 2.62068966  7.10344828]\n",
      " [ 2.75862069  7.79310345]\n",
      " [ 2.89655172  8.48275862]\n",
      " [ 3.03448276  9.24137931]\n",
      " [ 3.17241379 10.20689655]\n",
      " [ 3.31034483 11.17241379]\n",
      " [ 3.44827586 12.13793103]\n",
      " [ 3.5862069  13.10344828]\n",
      " [ 3.72413793 14.06896552]\n",
      " [ 3.86206897 15.03448276]\n",
      " [ 4.         16.        ]]\n"
     ]
    }
   ],
   "source": [
    "def interpolate_points(x, y, num_points):\n",
    "    \"\"\"\n",
    "    Interpolate points linearly between given points (x, y).\n",
    "    \n",
    "    Parameters:\n",
    "        x (array-like): X coordinates of the given points.\n",
    "        y (array-like): Y coordinates of the given points.\n",
    "        num_points (int): Number of points to interpolate between the given points.\n",
    "    \n",
    "    Returns:\n",
    "        np.ndarray: Array of interpolated points.\n",
    "    \"\"\"\n",
    "    # Generate interpolated points using linspace\n",
    "    interpolated_x = np.linspace(x[0], x[-1], num_points)\n",
    "    interpolated_y = np.interp(interpolated_x, x, y)\n",
    "    \n",
    "    # Combine provided points and interpolated points\n",
    "    all_points = np.column_stack((interpolated_x, interpolated_y))\n",
    "    \n",
    "    return all_points\n",
    "\n",
    "# Example usage:\n",
    "x = [0, 1, 2, 3, 4]\n",
    "y = [0, 1, 4, 9, 16]\n",
    "num_points = 30\n",
    "\n",
    "interpolated_points = interpolate_points(x, y, num_points)\n",
    "print(interpolated_points)"
   ]
  },
  {
   "cell_type": "code",
   "execution_count": 22,
   "metadata": {},
   "outputs": [
    {
     "data": {
      "text/plain": [
       "[<matplotlib.lines.Line2D at 0x1a57c466f30>]"
      ]
     },
     "execution_count": 22,
     "metadata": {},
     "output_type": "execute_result"
    },
    {
     "data": {
      "image/png": "[encoded data removed]",
      "text/plain": [
       "<Figure size 640x480 with 1 Axes>"
      ]
     },
     "metadata": {},
     "output_type": "display_data"
    }
   ],
   "source": [
    "fig, ax = plt.subplots()\n",
    "\n",
    "ax.scatter(x, y, color='red')\n",
    "ax.plot(interpolated_points[:,0], interpolated_points[:,1])"
   ]
  },
  {
   "cell_type": "code",
   "execution_count": 6,
   "metadata": {},
   "outputs": [],
   "source": [
    "test = np.zeros(5)\n",
    "test2 = np.zeros(2)\n",
    "\n",
    "test3 = np.zeros((test.shape[0], test2.shape[0]))"
   ]
  },
  {
   "cell_type": "code",
   "execution_count": 21,
   "metadata": {},
   "outputs": [
    {
     "name": "stdout",
     "output_type": "stream",
     "text": [
      "[ 0.78506245  0.78304507  0.77899408  0.772877    0.76464506  0.75423321\n",
      "  0.74156026  0.72652915  0.70902768  0.68892971  0.66609714  0.64038304\n",
      "  0.61163623  0.57970775  0.5444597   0.50577674  0.46358048  0.41784652\n",
      "  0.36862338  0.31605158  0.26038058  0.20198007  0.14134215  0.07907145\n",
      "  0.01586197 -0.04753809 -0.11036925 -0.17190542 -0.23149357 -0.28858327\n",
      " -0.34274319 -0.39366469 -0.44115462 -0.48512077 -0.52555353 -0.56250656\n",
      " -0.5960787  -0.62639818 -0.6536097  -0.67786427 -0.69931164 -0.71809479\n",
      " -0.73434614 -0.74818507 -0.75971633 -0.76902907 -0.77619647 -0.78127543\n",
      " -0.78430657 -0.78531424 -0.78430657 -0.78127543 -0.77619647 -0.76902907\n",
      " -0.75971633 -0.74818507 -0.73434614 -0.71809479 -0.69931164 -0.67786427\n",
      " -0.6536097  -0.62639818 -0.5960787  -0.56250656 -0.52555353 -0.48512077\n",
      " -0.44115462 -0.39366469 -0.34274319 -0.28858327 -0.23149357 -0.17190542\n",
      " -0.11036925 -0.04753809  0.01586197  0.07907145  0.14134215  0.20198007\n",
      "  0.26038058  0.31605158  0.36862338  0.41784652  0.46358048  0.50577674\n",
      "  0.5444597   0.57970775  0.61163623  0.64038304  0.66609714  0.68892971\n",
      "  0.70902768  0.72652915  0.74156026  0.75423321  0.76464506  0.772877\n",
      "  0.77899408  0.78304507  0.78506245]\n",
      "-0.04753808803301952\n"
     ]
    }
   ],
   "source": [
    "\n",
    "def local_angles(x_grid, z_grid):\n",
    "    \"\"\"\n",
    "    Calculate local angles with the horizontal at the x grid coordinates.\n",
    "\n",
    "    Parameters:\n",
    "        x_grid (array-like): Array of x grid coordinates.\n",
    "        z_grid (array-like): Array of z grid coordinates.\n",
    "\n",
    "    Returns:\n",
    "        np.ndarray: Array of local angles (in radians) with the horizontal.\n",
    "    \"\"\"\n",
    "    # Calculate differences in x and z coordinates\n",
    "    dx = np.diff(x_grid)\n",
    "    dz = np.diff(z_grid)\n",
    "\n",
    "    # Calculate local angles with the horizontal\n",
    "    local_angles = np.arctan(dz / dx)\n",
    "\n",
    "    return local_angles\n",
    "\n",
    "# Example usage:\n",
    "x_grid = np.linspace(0, 2*np.pi, 100)\n",
    "z_grid = np.sin(x_grid)  # Example z grid (can be any function of x)\n",
    "angles = local_angles(x_grid, z_grid)\n",
    "print(angles)\n",
    "print(angles[25])"
   ]
  },
  {
   "cell_type": "code",
   "execution_count": 1,
   "metadata": {},
   "outputs": [],
   "source": [
    "# fig, ax = plt.subplots()\n",
    "\n",
    "# ax.plot(x_grid, z_grid)\n",
    "\n",
    "# ax.plot(x_grid, angles)\n",
    "\n",
    "# # i=10\n",
    "\n",
    "# # ax.plot(x[i], np.tan(x[i]))\n",
    "\n"
   ]
  },
  {
   "cell_type": "code",
   "execution_count": 9,
   "metadata": {},
   "outputs": [
    {
     "name": "stdout",
     "output_type": "stream",
     "text": [
      "[[ 1.1 -0.1  0.  ...  0.   0.   0. ]\n",
      " [-0.1  1.2 -0.1 ...  0.   0.   0. ]\n",
      " [ 0.  -0.1  1.2 ...  0.   0.   0. ]\n",
      " ...\n",
      " [ 0.   0.   0.  ...  1.2 -0.1  0. ]\n",
      " [ 0.   0.   0.  ... -0.1  1.2 -0.1]\n",
      " [ 0.   0.   0.  ...  0.  -0.1  1.1]]\n"
     ]
    }
   ],
   "source": [
    "t = np.linspace(0, 100, 101)\n",
    "\n",
    "dt = 1\n",
    "\n",
    "N = 101\n",
    "\n",
    "xmin = 0\n",
    "xmax = 100\n",
    "\n",
    "x = np.linspace(xmin, xmax, N)\n",
    "\n",
    "dx = (xmax - xmin)/(N-1)\n",
    "\n",
    "alpha = 0.1\n",
    "\n",
    "q_0 = np.sin(t)\n",
    "\n",
    "def assemble_matrix(N, dx, dt, alpha):\n",
    "    \"\"\"\n",
    "    Assemble the tridiagonal matrix A for the discretized heat equation.\n",
    "\n",
    "    Parameters:\n",
    "        N (int): Number of interior points.\n",
    "        dx (float): Grid spacing.\n",
    "        dt (float): Time step.\n",
    "        alpha (float): Thermal diffusivity.\n",
    "\n",
    "    Returns:\n",
    "        np.ndarray: Tridiagonal matrix A.\n",
    "    \"\"\"\n",
    "    # Define coefficients\n",
    "    r = alpha * dt / dx**2\n",
    "\n",
    "    # Assemble the tridiagonal matrix\n",
    "    diagonal = 1 + 2 * r * np.ones(N)  # main diagonal\n",
    "    sub_diagonal = -r * np.ones(N-1)    # sub-diagonal\n",
    "    super_diagonal = -r * np.ones(N-1)  # super-diagonal\n",
    "\n",
    "    # Apply Neumann boundary conditions\n",
    "    diagonal[0] = 1 + r\n",
    "    diagonal[-1] = 1 + r\n",
    "\n",
    "    # Assemble the tridiagonal matrix A\n",
    "    A = np.diag(diagonal) + np.diag(sub_diagonal, -1) + np.diag(super_diagonal, 1)\n",
    "\n",
    "    return A\n",
    "\n",
    "A = assemble_matrix(N, dx, dt, alpha)\n",
    "\n",
    "print(A)"
   ]
  },
  {
   "cell_type": "code",
   "execution_count": 15,
   "metadata": {},
   "outputs": [
    {
     "name": "stdout",
     "output_type": "stream",
     "text": [
      "[[-1.  1.  0.]\n",
      " [ 1. -2.  1.]\n",
      " [ 0.  1. -1.]]\n",
      "[[-1.  1.  0.  0.  0.  0.  0.]\n",
      " [ 1. -2.  1.  0.  0.  0.  0.]\n",
      " [ 0.  1. -2.  1.  0.  0.  0.]\n",
      " [ 0.  0.  1. -2.  1.  0.  0.]\n",
      " [ 0.  0.  0.  1. -2.  1.  0.]\n",
      " [ 0.  0.  0.  0.  1. -2.  1.]\n",
      " [ 0.  0.  0.  0.  0.  1. -1.]]\n",
      "[[-1.  1.  0.  0.  0.  0.  0.  0.  0.  0.  0.  0.  0.  0.  0.]\n",
      " [ 1. -2.  1.  0.  0.  0.  0.  0.  0.  0.  0.  0.  0.  0.  0.]\n",
      " [ 0.  1. -2.  1.  0.  0.  0.  0.  0.  0.  0.  0.  0.  0.  0.]\n",
      " [ 0.  0.  1. -2.  1.  0.  0.  0.  0.  0.  0.  0.  0.  0.  0.]\n",
      " [ 0.  0.  0.  1. -2.  1.  0.  0.  0.  0.  0.  0.  0.  0.  0.]\n",
      " [ 0.  0.  0.  0.  1. -2.  1.  0.  0.  0.  0.  0.  0.  0.  0.]\n",
      " [ 0.  0.  0.  0.  0.  1. -2.  1.  0.  0.  0.  0.  0.  0.  0.]\n",
      " [ 0.  0.  0.  0.  0.  0.  1. -2.  1.  0.  0.  0.  0.  0.  0.]\n",
      " [ 0.  0.  0.  0.  0.  0.  0.  1. -2.  1.  0.  0.  0.  0.  0.]\n",
      " [ 0.  0.  0.  0.  0.  0.  0.  0.  1. -2.  1.  0.  0.  0.  0.]\n",
      " [ 0.  0.  0.  0.  0.  0.  0.  0.  0.  1. -2.  1.  0.  0.  0.]\n",
      " [ 0.  0.  0.  0.  0.  0.  0.  0.  0.  0.  1. -2.  1.  0.  0.]\n",
      " [ 0.  0.  0.  0.  0.  0.  0.  0.  0.  0.  0.  1. -2.  1.  0.]\n",
      " [ 0.  0.  0.  0.  0.  0.  0.  0.  0.  0.  0.  0.  1. -2.  1.]\n",
      " [ 0.  0.  0.  0.  0.  0.  0.  0.  0.  0.  0.  0.  0.  1. -1.]]\n"
     ]
    }
   ],
   "source": [
    "def get_A_matrix(n):\n",
    "    \"\"\" This function is used to get the 'A' matrix, which is used to make the numerical scheme faster. It is based on second order central differences for internal points.\n",
    "        Att the border points, the grid is extended with an identical point (i.e. mirrored), in order to calculate the second derivative.\n",
    "\n",
    "    Args:\n",
    "        n (int): number of points in the grid\n",
    "    \"\"\"\n",
    "    # Initialize an empty square matrix\n",
    "    matrix = np.zeros((n, n))\n",
    "\n",
    "    # Fill the main diagonal with -2\n",
    "    np.fill_diagonal(matrix, -2)\n",
    "\n",
    "    # Fill the sub-diagonal with 1\n",
    "    np.fill_diagonal(matrix[1:], 1)\n",
    "\n",
    "    # Fill the super-diagonal with 1\n",
    "    np.fill_diagonal(matrix[:, 1:], 1)\n",
    "    \n",
    "    matrix[0,0] += 1\n",
    "    matrix[-1,-1] += 1\n",
    "\n",
    "    return matrix\n",
    "\n",
    "print(get_A_matrix(3))\n",
    "print(get_A_matrix(7))\n",
    "print(get_A_matrix(15))\n"
   ]
  },
  {
   "cell_type": "code",
   "execution_count": 16,
   "metadata": {},
   "outputs": [
    {
     "name": "stdout",
     "output_type": "stream",
     "text": [
      "[[1 2 3]\n",
      " [4 5 6]]\n"
     ]
    },
    {
     "data": {
      "text/plain": [
       "array([ 6, 15])"
      ]
     },
     "execution_count": 16,
     "metadata": {},
     "output_type": "execute_result"
    }
   ],
   "source": [
    "A = np.array([[1, 2, 3], [4, 5, 6]])\n",
    "\n",
    "print(A)\n",
    "\n",
    "np.sum(A, axis=1)"
   ]
  },
  {
   "cell_type": "code",
   "execution_count": 17,
   "metadata": {},
   "outputs": [
    {
     "name": "stdout",
     "output_type": "stream",
     "text": [
      "[3 1 0 2]\n"
     ]
    }
   ],
   "source": [
    "def count_nonzero_until_zero(matrix):\n",
    "    \"\"\"Returns the number of grid points with a nonzero input, counted for each row from the lowest index until the first zero input.\n",
    "\n",
    "    Args:\n",
    "        matrix (np.array): a matrix\n",
    "\n",
    "    Returns:\n",
    "        result: number of grid points for each row before a zero input.\n",
    "    \"\"\"\n",
    "    return np.argmax(matrix == 0, axis=1)\n",
    "\n",
    "# Example usage:\n",
    "matrix = [\n",
    "    [1, 1, 1, 0, 0],\n",
    "    [1, 0, 1, 1, 1],\n",
    "    [1, 1, 1, 1, 1],\n",
    "    [1, 1, 0, 0, 0]\n",
    "]\n",
    "\n",
    "result = count_nonzero_until_zero(matrix)\n",
    "print(result)"
   ]
  },
  {
   "cell_type": "code",
   "execution_count": null,
   "metadata": {},
   "outputs": [],
   "source": []
  }
 ],
 "metadata": {
  "kernelspec": {
   "display_name": "thesis",
   "language": "python",
   "name": "python3"
  },
  "language_info": {
   "codemirror_mode": {
    "name": "ipython",
    "version": 3
   },
   "file_extension": ".py",
   "mimetype": "text/x-python",
   "name": "python",
   "nbconvert_exporter": "python",
   "pygments_lexer": "ipython3",
   "version": "3.12.3"
  }
 },
 "nbformat": 4,
 "nbformat_minor": 2
}
