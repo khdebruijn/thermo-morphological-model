{
 "cells": [
  {
   "cell_type": "code",
   "execution_count": 1,
   "metadata": {},
   "outputs": [],
   "source": [
    "import numpy as np\n",
    "import matplotlib.pyplot as plt"
   ]
  },
  {
   "cell_type": "code",
   "execution_count": 2,
   "metadata": {},
   "outputs": [],
   "source": [
    "#initialize\n",
    "xgr = np.linspace(0, 49, 100)\n",
    "zgr = -np.sqrt(xgr)\n",
    "\n",
    "resolution = 30\n",
    "max_depth = 3\n",
    "\n",
    "temp_depth_grid = np.linspace(0, max_depth, resolution)\n",
    "initial_temp = np.linspace(-5, 5, resolution)\n",
    "\n",
    "thermal_matrix = np.zeros((xgr.shape[0], temp_depth_grid.shape[0]))\n",
    "\n",
    "for i in range(len(thermal_matrix)):\n",
    "    thermal_matrix[i,:] = initial_temp\n",
    "    \n",
    "gradient = np.gradient(zgr, xgr)\n",
    "\n",
    "orientation = np.arctan(gradient) - 0.5 * np.pi\n",
    "    \n",
    "abs_x1 = np.tile(xgr, (len(temp_depth_grid), 1)).T + np.outer(np.cos(orientation), temp_depth_grid)\n",
    "abs_z2 = np.tile(zgr, (len(temp_depth_grid), 1)).T + np.outer(np.sin(orientation), temp_depth_grid)"
   ]
  },
  {
   "cell_type": "code",
   "execution_count": 7,
   "metadata": {},
   "outputs": [
    {
     "name": "stdout",
     "output_type": "stream",
     "text": [
      "(100,)\n",
      "[-5. -5. -5. -5. -5. -5. -5. -5. -5. -5. -5. -5. -5. -5. -5. -5. -5. -5.\n",
      " -5. -5. -5. -5. -5. -5. -5. -5. -5. -5. -5. -5. -5. -5. -5. -5. -5. -5.\n",
      " -5. -5. -5. -5. -5. -5. -5. -5. -5. -5. -5. -5. -5. -5. -5. -5. -5. -5.\n",
      " -5. -5. -5. -5. -5. -5. -5. -5. -5. -5. -5. -5. -5. -5. -5. -5. -5. -5.\n",
      " -5. -5. -5. -5. -5. -5. -5. -5. -5. -5. -5. -5. -5. -5. -5. -5. -5. -5.\n",
      " -5. -5. -5. -5. -5. -5. -5. -5. -5. -5.]\n"
     ]
    }
   ],
   "source": [
    "# apply boundary conditions\n",
    "ghost_nodes_temp = thermal_matrix[:,0]\n",
    "\n",
    "frozen_mask = (thermal_matrix[:,0]  self.config.thermal.T_melt)\n",
    "unfrozen_mask = np.ones(frozen_mask.shape) - frozen_mask\n",
    "\n",
    "# print(ghost_nodes_temp.shape)\n",
    "# print(ghost_nodes_temp)\n",
    "\n",
    "ghost_nodes_enth = frozen_mask * ghost_nodes_temp * self.config.thermal.c_frozen_soil + unfrozen_mask * ghost_nodes_temp * self.config.thermal.c_unfrozen_soil +"
   ]
  },
  {
   "cell_type": "code",
   "execution_count": 8,
   "metadata": {},
   "outputs": [],
   "source": [
    "x = np.ones((3, 3))\n",
    "y = np.zeros(3)"
   ]
  },
  {
   "cell_type": "code",
   "execution_count": 14,
   "metadata": {},
   "outputs": [
    {
     "data": {
      "text/plain": [
       "array([[0., 1., 1., 1.],\n",
       "       [0., 1., 1., 1.],\n",
       "       [0., 1., 1., 1.]])"
      ]
     },
     "execution_count": 14,
     "metadata": {},
     "output_type": "execute_result"
    }
   ],
   "source": [
    "np.column_stack((y, x))"
   ]
  },
  {
   "cell_type": "code",
   "execution_count": null,
   "metadata": {},
   "outputs": [],
   "source": []
  }
 ],
 "metadata": {
  "kernelspec": {
   "display_name": "thesis",
   "language": "python",
   "name": "python3"
  },
  "language_info": {
   "codemirror_mode": {
    "name": "ipython",
    "version": 3
   },
   "file_extension": ".py",
   "mimetype": "text/x-python",
   "name": "python",
   "nbconvert_exporter": "python",
   "pygments_lexer": "ipython3",
   "version": "3.12.3"
  }
 },
 "nbformat": 4,
 "nbformat_minor": 2
}
