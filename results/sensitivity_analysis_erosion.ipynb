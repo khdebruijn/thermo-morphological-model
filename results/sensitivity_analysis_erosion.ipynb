{
 "cells": [
  {
   "cell_type": "code",
   "execution_count": 1,
   "metadata": {},
   "outputs": [],
   "source": [
    "import os\n",
    "from pathlib import Path\n",
    "import sys\n",
    "\n",
    "import numpy as np\n",
    "import matplotlib.pyplot as plt\n",
    "import pandas as pd\n",
    "import geopandas as gpd\n",
    "import xarray as xr"
   ]
  },
  {
   "cell_type": "code",
   "execution_count": 2,
   "metadata": {},
   "outputs": [
    {
     "name": "stdout",
     "output_type": "stream",
     "text": [
      "c:\\Users\\bruij_kn\\OneDrive - Stichting Deltares\\Documents\\GitHub\\thermo-morphological-model\n"
     ]
    }
   ],
   "source": [
    "parent = os.path.join(Path(os.getcwd()).parent)\n",
    "\n",
    "print(parent)\n",
    "\n",
    "sys.path.append(parent)"
   ]
  },
  {
   "cell_type": "code",
   "execution_count": 3,
   "metadata": {},
   "outputs": [],
   "source": [
    "SMALL_SIZE = 16\n",
    "MEDIUM_SIZE = 20\n",
    "BIGGER_SIZE = 25\n",
    "\n",
    "plt.rc('font', size=SMALL_SIZE)          # controls default text sizes\n",
    "plt.rc('axes', titlesize=MEDIUM_SIZE)     # fontsize of the axes title\n",
    "plt.rc('axes', labelsize=MEDIUM_SIZE)    # fontsize of the x and y labels\n",
    "plt.rc('xtick', labelsize=SMALL_SIZE)    # fontsize of the tick labels\n",
    "plt.rc('ytick', labelsize=SMALL_SIZE)    # fontsize of the tick labels\n",
    "plt.rc('legend', fontsize=SMALL_SIZE)    # legend fontsize\n",
    "plt.rc('figure', titlesize=BIGGER_SIZE)  # fontsize of the figure title"
   ]
  },
  {
   "cell_type": "code",
   "execution_count": 4,
   "metadata": {},
   "outputs": [],
   "source": [
    "save_path = Path(\"C:/Users/bruij_kn/OneDrive - Stichting Deltares/Documents/GitHub/msc-thesis/Figures/Python\")"
   ]
  },
  {
   "cell_type": "code",
   "execution_count": 5,
   "metadata": {},
   "outputs": [],
   "source": [
    "# reference variables\n",
    "per_sa = {\n",
    "    \"start_time\": pd.to_datetime(\"2018-01-01\"), # these dates are relevant for the bluff edge only\n",
    "    \"end_time\": pd.to_datetime(\"2019-01-01\"),\n",
    "}"
   ]
  },
  {
   "cell_type": "markdown",
   "metadata": {},
   "source": [
    "I need:\n",
    "- I need to extract total erosion of each variable, and check against baseline\n",
    "- A way to differentiate between different types of tested variables\n",
    "\n",
    "==> pd.DataFrame with columns for runid, sensitivity analysis level, sublevel, total erosion, and total erosion over baseline erosion."
   ]
  },
  {
   "cell_type": "code",
   "execution_count": 3,
   "metadata": {},
   "outputs": [
    {
     "ename": "NameError",
     "evalue": "name 'Path' is not defined",
     "output_type": "error",
     "traceback": [
      "\u001b[1;31m---------------------------------------------------------------------------\u001b[0m",
      "\u001b[1;31mNameError\u001b[0m                                 Traceback (most recent call last)",
      "Cell \u001b[1;32mIn[3], line 2\u001b[0m\n\u001b[0;32m      1\u001b[0m \u001b[38;5;66;03m# load overview dataframe\u001b[39;00m\n\u001b[1;32m----> 2\u001b[0m fpath_overview \u001b[38;5;241m=\u001b[39m \u001b[43mPath\u001b[49m(\u001b[38;5;124m\"\u001b[39m\u001b[38;5;124moverview_sa.csv\u001b[39m\u001b[38;5;124m\"\u001b[39m)\n\u001b[0;32m      3\u001b[0m df \u001b[38;5;241m=\u001b[39m pd\u001b[38;5;241m.\u001b[39mread_csv(fpath_overview)\n\u001b[0;32m      5\u001b[0m \u001b[38;5;66;03m# get values for base run\u001b[39;00m\n",
      "\u001b[1;31mNameError\u001b[0m: name 'Path' is not defined"
     ]
    }
   ],
   "source": [
    "# load overview dataframe\n",
    "fpath_overview = Path(\"overview_sa.csv\")\n",
    "df = pd.read_csv(fpath_overview)\n",
    "\n",
    "# get values for base run\n",
    "fpath_base = Path(\"erosion_rates/sa_base.csv\")\n",
    "df_base = pd.read_csv(fpath_base, parse_dates=['time'])\n",
    "\n",
    "x_start_base = df_base['x_bluff_edge'].values[0]\n",
    "x_end_base = df_base['x_bluff_edge'].values[-1]\n",
    "total_bluff_erosion_base = x_end_base - x_start_base\n",
    "\n",
    "# initialize erosion\n",
    "total_erosion = []\n",
    "rnte = [] # relative normalized total erosion\n",
    "\n",
    "# loop through all parameters\n",
    "for i, row in df.iterrows():\n",
    "    runid_low = row['run_id_low']\n",
    "    runid_high = row['run_id_high']\n",
    "    \n",
    "    df_low = pd.read_csv(Path(f'erosion_rates/{runid_low}.csv'), parse_dates=['time'])\n",
    "    df_high = pd.read_csv(Path(f'erosion_rates/{runid_high}.csv'), parse_dates=['time'])\n",
    "\n",
    "    x_start_low = df_low['x_bluff_edge'].values[0]\n",
    "    x_start_high = df_high['x_bluff_edge'].values[0]\n",
    "    \n",
    "    x_end_low = df_low['x_bluff_edge'].values[-1]\n",
    "    x_end_high = df_high['x_bluff_edge'].values[-1]\n",
    "    \n",
    "    total_erosion_low = x_end_low - x_start_low\n",
    "    total_erosion_high = x_end_high - x_start_high\n",
    "    \n",
    "    rnte_low = total_erosion_low / total_bluff_erosion_base\n",
    "    rnte_high = total_erosion_high / total_bluff_erosion_base\n",
    "    \n",
    "    total_erosion.append(total_erosion_low, total_erosion_high)\n",
    "    rnte.append(rnte_low, rnte_high)\n",
    "    \n",
    "# add new columns\n",
    "total_erosion = np.array(total_erosion)\n",
    "rnte = np.array(rnte)\n",
    "\n",
    "df['total_erosion_low[m]'] = total_erosion[0,:]\n",
    "df['total_erosion_high[m]'] = total_erosion[1,:]\n",
    "\n",
    "df['rnte_low[-]'] = rnte[0,:]\n",
    "df['rnte_high[-]'] = rnte[1,:]\n",
    "\n",
    "# order dataframe from low to high\n",
    "order_mask = np.argsort(np.abs(df['total_erosion_high[m]'].values - df['total_erosion_low[m]'].values))\n",
    "df = df[order_mask]"
   ]
  },
  {
   "cell_type": "markdown",
   "metadata": {},
   "source": [
    "We can make a tornado plot out of this!"
   ]
  },
  {
   "cell_type": "code",
   "execution_count": 16,
   "metadata": {},
   "outputs": [
    {
     "ename": "NameError",
     "evalue": "name 'df' is not defined",
     "output_type": "error",
     "traceback": [
      "\u001b[1;31m---------------------------------------------------------------------------\u001b[0m",
      "\u001b[1;31mNameError\u001b[0m                                 Traceback (most recent call last)",
      "Cell \u001b[1;32mIn[16], line 3\u001b[0m\n\u001b[0;32m      1\u001b[0m fig, ax \u001b[38;5;241m=\u001b[39m plt\u001b[38;5;241m.\u001b[39msubplots(figsize\u001b[38;5;241m=\u001b[39m(\u001b[38;5;241m6\u001b[39m, \u001b[38;5;241m6\u001b[39m))\n\u001b[1;32m----> 3\u001b[0m x_left \u001b[38;5;241m=\u001b[39m \u001b[43mdf\u001b[49m[df[\u001b[38;5;124m'\u001b[39m\u001b[38;5;124mrun_id\u001b[39m\u001b[38;5;124m'\u001b[39m]\u001b[38;5;241m==\u001b[39m\u001b[38;5;124m'\u001b[39m\u001b[38;5;124msa_base\u001b[39m\u001b[38;5;124m'\u001b[39m][\u001b[38;5;124m'\u001b[39m\u001b[38;5;124mtotal_bluff_erosion[m]\u001b[39m\u001b[38;5;124m'\u001b[39m]\n\u001b[0;32m      5\u001b[0m ax\u001b[38;5;241m.\u001b[39mbarh(np\u001b[38;5;241m.\u001b[39marange(\u001b[38;5;28mlen\u001b[39m(df)), width\u001b[38;5;241m=\u001b[39mdf[\u001b[38;5;124m'\u001b[39m\u001b[38;5;124mtotal_bluff_erosion[m]\u001b[39m\u001b[38;5;124m'\u001b[39m]\u001b[38;5;241m.\u001b[39mvalues[::\u001b[38;5;241m2\u001b[39m]\u001b[38;5;241m.\u001b[39mvalues, left\u001b[38;5;241m=\u001b[39mx_left, label\u001b[38;5;241m=\u001b[39m\u001b[38;5;124m'\u001b[39m\u001b[38;5;124meven\u001b[39m\u001b[38;5;124m'\u001b[39m)\n\u001b[0;32m      6\u001b[0m ax\u001b[38;5;241m.\u001b[39mbarh(np\u001b[38;5;241m.\u001b[39marange(\u001b[38;5;28mlen\u001b[39m(df)), width\u001b[38;5;241m=\u001b[39mdf[\u001b[38;5;124m'\u001b[39m\u001b[38;5;124mtotal_bluff_erosion[m]\u001b[39m\u001b[38;5;124m'\u001b[39m]\u001b[38;5;241m.\u001b[39mvalues[\u001b[38;5;241m1\u001b[39m::\u001b[38;5;241m2\u001b[39m]\u001b[38;5;241m.\u001b[39mvalues, left\u001b[38;5;241m=\u001b[39mx_left, label\u001b[38;5;241m=\u001b[39m\u001b[38;5;124m'\u001b[39m\u001b[38;5;124modd\u001b[39m\u001b[38;5;124m'\u001b[39m)\n",
      "\u001b[1;31mNameError\u001b[0m: name 'df' is not defined"
     ]
    },
    {
     "data": {
      "image/png": "[encoded data removed]",
      "text/plain": [
       "<Figure size 600x600 with 1 Axes>"
      ]
     },
     "metadata": {},
     "output_type": "display_data"
    }
   ],
   "source": [
    "fig, ax = plt.subplots(figsize=(6, 6))\n",
    "\n",
    "x_left = total_bluff_erosion_base\n",
    "\n",
    "ax.barh(np.arange(len(df)), width=df['total_erosion_low[m]'].values, left=x_left, label='Low', color='b')\n",
    "ax.barh(np.arange(len(df)), width=df['total_erosion_high[m]'].values, left=x_left, label='High', color='r')\n",
    "\n",
    "ax.axvline(x_left, color='k', label='Base erosion')\n",
    "\n",
    "ax.set_xticks(np.arange(len(df)), df['run_id'].values)\n",
    "\n",
    "ax.grid()\n",
    "\n",
    "ax.set_title('Total erosion when varying model parameters one at a time')\n",
    "\n",
    "ax.legend()\n",
    "\n",
    "ax.set_xlabel('Total bluff erosion [m]')\n",
    "ax.set_ylabel('run ID [-]')\n",
    "\n",
    "fig.tight_layout()\n",
    "\n",
    "# figname = 'RMSE_integrated_model.png'\n",
    "\n",
    "# fig.savefig(os.path.join(save_path, figname), bbox_inches='tight', facecolor='white', transparent=False)"
   ]
  },
  {
   "cell_type": "code",
   "execution_count": null,
   "metadata": {},
   "outputs": [],
   "source": [
    "fig, axs = plt.subplots(2,2, figsize=(6, 6))\n",
    "\n",
    "df_bathy = df[df['sublevel']=='bathymetry']\n",
    "df_model = df[df['sublevel']=='model']\n",
    "df_physi = df[df['sublevel']=='physical']\n",
    "df_envir = df[(df['sublevel']=='hydrodynamics') or df['sublevel']=='thermodynamics']\n",
    "# df_therm = df[df['sublevel']=='thermodynamics']\n",
    "\n",
    "x_left = total_bluff_erosion_base\n",
    "\n",
    "axs[0, 0].barh(np.arange(len(df_bathy)), width=df_bathy['total_erosion_low[m]'].values, left=x_left, label='Low', color='b')\n",
    "axs[0, 0].barh(np.arange(len(df_bathy)), width=df_bathy['total_erosion_high[m]'].values, left=x_left, label='High', color='r')\n",
    "\n",
    "axs[0, 1].barh(np.arange(len(df_model)), width=df_model['total_erosion_low[m]'].values, left=x_left, label='Low', color='b')\n",
    "axs[0, 1].barh(np.arange(len(df_model)), width=df_model['total_erosion_high[m]'].values, left=x_left, label='High', color='r')\n",
    "\n",
    "axs[1, 0].barh(np.arange(len(df_physi)), width=df_physi['total_erosion_low[m]'].values, left=x_left, label='Low', color='b')\n",
    "axs[1, 0].barh(np.arange(len(df_physi)), width=df_physi['total_erosion_high[m]'].values, left=x_left, label='High', color='r')\n",
    "\n",
    "axs[1, 1].barh(np.arange(len(df_envir)), width=df_envir['total_erosion_low[m]'].values, left=x_left, label='Low', color='b')\n",
    "axs[1, 1].barh(np.arange(len(df_envir)), width=df_envir['total_erosion_high[m]'].values, left=x_left, label='High', color='r')\n",
    "\n",
    "# axs[1, 1].barh(np.arange(len(df_therm)), width=df_therm['total_erosion_low[m]'].values, left=x_left, label='thermo Low', color='y')\n",
    "# axs[1, 1].barh(np.arange(len(df_therm)), width=df_therm['total_erosion_high[m]'].values, left=x_left, label='thermo High', color='g')\n",
    "\n",
    "for ax1, ax2 in axs:\n",
    "    for ax in (ax1, ax2):\n",
    "        ax.axvline(x_left, color='k', label='base erosion')\n",
    "\n",
    "        ax.grid()\n",
    "\n",
    "        ax.legend()\n",
    "\n",
    "        ax.set_xlabel('Total bluff erosion [m]')\n",
    "        ax.set_ylabel('run ID [-]')\n",
    "\n",
    "axs[0, 0].set_title('Bathymetry parameters')\n",
    "axs[0, 1].set_title('Model parameters')\n",
    "axs[1, 0].set_title('Physical parameters')\n",
    "axs[1, 1].set_title('Environmental drivers')\n",
    "\n",
    "axs[0, 0].set_xticks(np.arange(len(df_bathy)), df_bathy['run_id'].values)\n",
    "axs[0, 1].set_xticks(np.arange(len(df_model)), df_bathy['run_id'].values)\n",
    "axs[1, 0].set_xticks(np.arange(len(df_physi)), df_bathy['run_id'].values)\n",
    "axs[1, 1].set_xticks(np.arange(len(df_envir)), df_bathy['run_id'].values)\n",
    "\n",
    "\n",
    "fig.tight_layout()\n",
    "\n",
    "# figname = 'RMSE_integrated_model.png'\n",
    "\n",
    "# fig.savefig(os.path.join(save_path, figname), bbox_inches='tight', facecolor='white', transparent=False)"
   ]
  }
 ],
 "metadata": {
  "kernelspec": {
   "display_name": "thesis",
   "language": "python",
   "name": "python3"
  },
  "language_info": {
   "codemirror_mode": {
    "name": "ipython",
    "version": 3
   },
   "file_extension": ".py",
   "mimetype": "text/x-python",
   "name": "python",
   "nbconvert_exporter": "python",
   "pygments_lexer": "ipython3",
   "version": "3.12.6"
  }
 },
 "nbformat": 4,
 "nbformat_minor": 2
}
